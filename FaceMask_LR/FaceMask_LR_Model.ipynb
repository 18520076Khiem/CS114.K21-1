{
  "nbformat": 4,
  "nbformat_minor": 0,
  "metadata": {
    "colab": {
      "name": "FaceMask_LR_Model.ipynb",
      "provenance": [],
      "collapsed_sections": [],
      "toc_visible": true,
      "authorship_tag": "ABX9TyMG3RyEc9T5vCjAjtnFN5ET",
      "include_colab_link": true
    },
    "kernelspec": {
      "name": "python3",
      "display_name": "Python 3"
    }
  },
  "cells": [
    {
      "cell_type": "markdown",
      "metadata": {
        "id": "view-in-github",
        "colab_type": "text"
      },
      "source": [
        "<a href=\"https://colab.research.google.com/github/Hoangthang017/CS114.K21/blob/master/FaceMask_LR/FaceMask_LR_Model.ipynb\" target=\"_parent\"><img src=\"https://colab.research.google.com/assets/colab-badge.svg\" alt=\"Open In Colab\"/></a>"
      ]
    },
    {
      "cell_type": "markdown",
      "metadata": {
        "id": "qsNMaY8f0mp-",
        "colab_type": "text"
      },
      "source": [
        "#**Xây dựng model**"
      ]
    },
    {
      "cell_type": "markdown",
      "metadata": {
        "id": "TW5rhsCO0eTB",
        "colab_type": "text"
      },
      "source": [
        "##**Mount drive**"
      ]
    },
    {
      "cell_type": "code",
      "metadata": {
        "id": "Xqg9Yk7hvT7a",
        "colab_type": "code",
        "colab": {
          "base_uri": "https://localhost:8080/",
          "height": 34
        },
        "outputId": "58820e9e-c3a7-4edc-b63d-6f6447dd68eb"
      },
      "source": [
        "from google.colab import drive\n",
        "drive.mount('/content/drive')"
      ],
      "execution_count": 22,
      "outputs": [
        {
          "output_type": "stream",
          "text": [
            "Drive already mounted at /content/drive; to attempt to forcibly remount, call drive.mount(\"/content/drive\", force_remount=True).\n"
          ],
          "name": "stdout"
        }
      ]
    },
    {
      "cell_type": "markdown",
      "metadata": {
        "id": "q9DfO4YX0YAM",
        "colab_type": "text"
      },
      "source": [
        "##**Các thư viện được sử dụng trong bài**"
      ]
    },
    {
      "cell_type": "code",
      "metadata": {
        "id": "ft0n3Yhtvtx9",
        "colab_type": "code",
        "colab": {}
      },
      "source": [
        "from sklearn.model_selection import train_test_split\n",
        "from sklearn.linear_model import LogisticRegression\n",
        "from sklearn.metrics import classification_report\n",
        "from imutils import paths\n",
        "import os\n",
        "import cv2\n",
        "import numpy as np"
      ],
      "execution_count": 23,
      "outputs": []
    },
    {
      "cell_type": "markdown",
      "metadata": {
        "id": "pNSUJPGCz7A4",
        "colab_type": "text"
      },
      "source": [
        "##**Load data từ Google Drive và tiền xử lí nó**"
      ]
    },
    {
      "cell_type": "markdown",
      "metadata": {
        "id": "iKqx1O090EV3",
        "colab_type": "text"
      },
      "source": [
        "###**Lấy đường dẫn file chưa data và khởi tạo 2 list data và label**"
      ]
    },
    {
      "cell_type": "code",
      "metadata": {
        "id": "3FS_R5rxvkr7",
        "colab_type": "code",
        "colab": {
          "base_uri": "https://localhost:8080/",
          "height": 70
        },
        "outputId": "d9194422-12b5-4be8-c3e1-849545bbb96b"
      },
      "source": [
        "# load dataset \n",
        "print(\"[INFO] loading images...\")\n",
        "\n",
        "# lấy link ảnh có khẩu trang và không có khẩu trang\n",
        "imagePaths_Mask = list(paths.list_images('/content/drive/My Drive/CS114/FaceMask/FaceMask_LogicticsRegression/Datasets/Mask'))\n",
        "imagePaths_No_Mask =  list(paths.list_images('/content/drive/My Drive/CS114/FaceMask/FaceMask_LogicticsRegression/Datasets/Without_mask'))\n",
        "\n",
        "# hợp nhất 2 link vào 1 file\n",
        "imagePaths = imagePaths_Mask + imagePaths_No_Mask\n",
        "\n",
        "# khởi tạo dữ liệu\n",
        "data = []\n",
        "\n",
        "# khởi tạo label ứng với dữ liệu\n",
        "labels = []\n",
        "\n",
        "print(imagePaths)"
      ],
      "execution_count": 88,
      "outputs": [
        {
          "output_type": "stream",
          "text": [
            "[INFO] loading images...\n",
            "['/content/drive/My Drive/CS114/FaceMask/FaceMask_LogicticsRegression/Datasets/Mask/184.jpg', '/content/drive/My Drive/CS114/FaceMask/FaceMask_LogicticsRegression/Datasets/Mask/55.jpg', '/content/drive/My Drive/CS114/FaceMask/FaceMask_LogicticsRegression/Datasets/Mask/51.jpg', '/content/drive/My Drive/CS114/FaceMask/FaceMask_LogicticsRegression/Datasets/Mask/39.jpg', '/content/drive/My Drive/CS114/FaceMask/FaceMask_LogicticsRegression/Datasets/Mask/193.jpg', '/content/drive/My Drive/CS114/FaceMask/FaceMask_LogicticsRegression/Datasets/Mask/24.jpg', '/content/drive/My Drive/CS114/FaceMask/FaceMask_LogicticsRegression/Datasets/Mask/35.jpg', '/content/drive/My Drive/CS114/FaceMask/FaceMask_LogicticsRegression/Datasets/Mask/59.jpg', '/content/drive/My Drive/CS114/FaceMask/FaceMask_LogicticsRegression/Datasets/Mask/195.jpg', '/content/drive/My Drive/CS114/FaceMask/FaceMask_LogicticsRegression/Datasets/Mask/44.jpg', '/content/drive/My Drive/CS114/FaceMask/FaceMask_LogicticsRegression/Datasets/Mask/70.jpg', '/content/drive/My Drive/CS114/FaceMask/FaceMask_LogicticsRegression/Datasets/Mask/42.jpg', '/content/drive/My Drive/CS114/FaceMask/FaceMask_LogicticsRegression/Datasets/Mask/188.jpg', '/content/drive/My Drive/CS114/FaceMask/FaceMask_LogicticsRegression/Datasets/Mask/49.jpg', '/content/drive/My Drive/CS114/FaceMask/FaceMask_LogicticsRegression/Datasets/Mask/178.jpg', '/content/drive/My Drive/CS114/FaceMask/FaceMask_LogicticsRegression/Datasets/Mask/180.jpg', '/content/drive/My Drive/CS114/FaceMask/FaceMask_LogicticsRegression/Datasets/Mask/16.jpg', '/content/drive/My Drive/CS114/FaceMask/FaceMask_LogicticsRegression/Datasets/Mask/60.jpg', '/content/drive/My Drive/CS114/FaceMask/FaceMask_LogicticsRegression/Datasets/Mask/181.jpg', '/content/drive/My Drive/CS114/FaceMask/FaceMask_LogicticsRegression/Datasets/Mask/54.jpg', '/content/drive/My Drive/CS114/FaceMask/FaceMask_LogicticsRegression/Datasets/Mask/68.jpg', '/content/drive/My Drive/CS114/FaceMask/FaceMask_LogicticsRegression/Datasets/Mask/33.jpg', '/content/drive/My Drive/CS114/FaceMask/FaceMask_LogicticsRegression/Datasets/Mask/177.jpg', '/content/drive/My Drive/CS114/FaceMask/FaceMask_LogicticsRegression/Datasets/Mask/172.jpg', '/content/drive/My Drive/CS114/FaceMask/FaceMask_LogicticsRegression/Datasets/Mask/201.jpg', '/content/drive/My Drive/CS114/FaceMask/FaceMask_LogicticsRegression/Datasets/Mask/36.jpg', '/content/drive/My Drive/CS114/FaceMask/FaceMask_LogicticsRegression/Datasets/Mask/175.jpg', '/content/drive/My Drive/CS114/FaceMask/FaceMask_LogicticsRegression/Datasets/Mask/179.jpg', '/content/drive/My Drive/CS114/FaceMask/FaceMask_LogicticsRegression/Datasets/Mask/32.jpg', '/content/drive/My Drive/CS114/FaceMask/FaceMask_LogicticsRegression/Datasets/Mask/14.jpg', '/content/drive/My Drive/CS114/FaceMask/FaceMask_LogicticsRegression/Datasets/Mask/26.jpg', '/content/drive/My Drive/CS114/FaceMask/FaceMask_LogicticsRegression/Datasets/Mask/27.jpg', '/content/drive/My Drive/CS114/FaceMask/FaceMask_LogicticsRegression/Datasets/Mask/173.jpg', '/content/drive/My Drive/CS114/FaceMask/FaceMask_LogicticsRegression/Datasets/Mask/194.jpg', '/content/drive/My Drive/CS114/FaceMask/FaceMask_LogicticsRegression/Datasets/Mask/25.jpg', '/content/drive/My Drive/CS114/FaceMask/FaceMask_LogicticsRegression/Datasets/Mask/28.jpg', '/content/drive/My Drive/CS114/FaceMask/FaceMask_LogicticsRegression/Datasets/Mask/30.jpg', '/content/drive/My Drive/CS114/FaceMask/FaceMask_LogicticsRegression/Datasets/Mask/29.jpg', '/content/drive/My Drive/CS114/FaceMask/FaceMask_LogicticsRegression/Datasets/Mask/43.jpg', '/content/drive/My Drive/CS114/FaceMask/FaceMask_LogicticsRegression/Datasets/Mask/183.jpg', '/content/drive/My Drive/CS114/FaceMask/FaceMask_LogicticsRegression/Datasets/Mask/197.jpg', '/content/drive/My Drive/CS114/FaceMask/FaceMask_LogicticsRegression/Datasets/Mask/45.jpg', '/content/drive/My Drive/CS114/FaceMask/FaceMask_LogicticsRegression/Datasets/Mask/189.jpg', '/content/drive/My Drive/CS114/FaceMask/FaceMask_LogicticsRegression/Datasets/Mask/23.jpg', '/content/drive/My Drive/CS114/FaceMask/FaceMask_LogicticsRegression/Datasets/Mask/46.jpeg', '/content/drive/My Drive/CS114/FaceMask/FaceMask_LogicticsRegression/Datasets/Mask/40.jpg', '/content/drive/My Drive/CS114/FaceMask/FaceMask_LogicticsRegression/Datasets/Mask/190.jpg', '/content/drive/My Drive/CS114/FaceMask/FaceMask_LogicticsRegression/Datasets/Mask/52.jpg', '/content/drive/My Drive/CS114/FaceMask/FaceMask_LogicticsRegression/Datasets/Mask/202.jpg', '/content/drive/My Drive/CS114/FaceMask/FaceMask_LogicticsRegression/Datasets/Mask/67.jpg', '/content/drive/My Drive/CS114/FaceMask/FaceMask_LogicticsRegression/Datasets/Mask/186.jpg', '/content/drive/My Drive/CS114/FaceMask/FaceMask_LogicticsRegression/Datasets/Mask/6.jpg', '/content/drive/My Drive/CS114/FaceMask/FaceMask_LogicticsRegression/Datasets/Mask/15.jpg', '/content/drive/My Drive/CS114/FaceMask/FaceMask_LogicticsRegression/Datasets/Mask/187.jpg', '/content/drive/My Drive/CS114/FaceMask/FaceMask_LogicticsRegression/Datasets/Mask/191.jpg', '/content/drive/My Drive/CS114/FaceMask/FaceMask_LogicticsRegression/Datasets/Mask/37.jpg', '/content/drive/My Drive/CS114/FaceMask/FaceMask_LogicticsRegression/Datasets/Mask/5.jpg', '/content/drive/My Drive/CS114/FaceMask/FaceMask_LogicticsRegression/Datasets/Mask/3.jpg', '/content/drive/My Drive/CS114/FaceMask/FaceMask_LogicticsRegression/Datasets/Mask/176.jpg', '/content/drive/My Drive/CS114/FaceMask/FaceMask_LogicticsRegression/Datasets/Mask/4.jpg', '/content/drive/My Drive/CS114/FaceMask/FaceMask_LogicticsRegression/Datasets/Mask/192.jpg', '/content/drive/My Drive/CS114/FaceMask/FaceMask_LogicticsRegression/Datasets/Mask/69.jpg', '/content/drive/My Drive/CS114/FaceMask/FaceMask_LogicticsRegression/Datasets/Mask/56.jpg', '/content/drive/My Drive/CS114/FaceMask/FaceMask_LogicticsRegression/Datasets/Mask/50.jpg', '/content/drive/My Drive/CS114/FaceMask/FaceMask_LogicticsRegression/Datasets/Mask/34.jpg', '/content/drive/My Drive/CS114/FaceMask/FaceMask_LogicticsRegression/Datasets/Mask/58.jpg', '/content/drive/My Drive/CS114/FaceMask/FaceMask_LogicticsRegression/Datasets/Mask/61.jpg', '/content/drive/My Drive/CS114/FaceMask/FaceMask_LogicticsRegression/Datasets/Mask/41.jpg', '/content/drive/My Drive/CS114/FaceMask/FaceMask_LogicticsRegression/Datasets/Mask/174.jpg', '/content/drive/My Drive/CS114/FaceMask/FaceMask_LogicticsRegression/Datasets/Mask/31.jpg', '/content/drive/My Drive/CS114/FaceMask/FaceMask_LogicticsRegression/Datasets/Mask/53.jpg', '/content/drive/My Drive/CS114/FaceMask/FaceMask_LogicticsRegression/Datasets/Mask/200.jpg', '/content/drive/My Drive/CS114/FaceMask/FaceMask_LogicticsRegression/Datasets/Mask/199.jpg', '/content/drive/My Drive/CS114/FaceMask/FaceMask_LogicticsRegression/Datasets/Mask/196.jpg', '/content/drive/My Drive/CS114/FaceMask/FaceMask_LogicticsRegression/Datasets/Mask/198.jpg', '/content/drive/My Drive/CS114/FaceMask/FaceMask_LogicticsRegression/Datasets/Mask/38.jpg', '/content/drive/My Drive/CS114/FaceMask/FaceMask_LogicticsRegression/Datasets/Mask/47.jpg', '/content/drive/My Drive/CS114/FaceMask/FaceMask_LogicticsRegression/Datasets/Mask/57.jpeg', '/content/drive/My Drive/CS114/FaceMask/FaceMask_LogicticsRegression/Datasets/Mask/182.jpg', '/content/drive/My Drive/CS114/FaceMask/FaceMask_LogicticsRegression/Datasets/Mask/185.jpg', '/content/drive/My Drive/CS114/FaceMask/FaceMask_LogicticsRegression/Datasets/Mask/48.jpg', '/content/drive/My Drive/CS114/FaceMask/FaceMask_LogicticsRegression/Datasets/Mask/17.jpg', '/content/drive/My Drive/CS114/FaceMask/FaceMask_LogicticsRegression/Datasets/Mask/203.jpg', '/content/drive/My Drive/CS114/FaceMask/FaceMask_LogicticsRegression/Datasets/Mask/19.jpg', '/content/drive/My Drive/CS114/FaceMask/FaceMask_LogicticsRegression/Datasets/Mask/20.jpg', '/content/drive/My Drive/CS114/FaceMask/FaceMask_LogicticsRegression/Datasets/Mask/21.jpg', '/content/drive/My Drive/CS114/FaceMask/FaceMask_LogicticsRegression/Datasets/Mask/22.jpg', '/content/drive/My Drive/CS114/FaceMask/FaceMask_LogicticsRegression/Datasets/Mask/1.jpg', '/content/drive/My Drive/CS114/FaceMask/FaceMask_LogicticsRegression/Datasets/Mask/2.jpg', '/content/drive/My Drive/CS114/FaceMask/FaceMask_LogicticsRegression/Datasets/Mask/62.jpg', '/content/drive/My Drive/CS114/FaceMask/FaceMask_LogicticsRegression/Datasets/Mask/64.jpg', '/content/drive/My Drive/CS114/FaceMask/FaceMask_LogicticsRegression/Datasets/Mask/65.jpg', '/content/drive/My Drive/CS114/FaceMask/FaceMask_LogicticsRegression/Datasets/Mask/66.jpg', '/content/drive/My Drive/CS114/FaceMask/FaceMask_LogicticsRegression/Datasets/Mask/7.jpg', '/content/drive/My Drive/CS114/FaceMask/FaceMask_LogicticsRegression/Datasets/Mask/8.jpg', '/content/drive/My Drive/CS114/FaceMask/FaceMask_LogicticsRegression/Datasets/Mask/9.jpg', '/content/drive/My Drive/CS114/FaceMask/FaceMask_LogicticsRegression/Datasets/Mask/10.jpg', '/content/drive/My Drive/CS114/FaceMask/FaceMask_LogicticsRegression/Datasets/Mask/11.png', '/content/drive/My Drive/CS114/FaceMask/FaceMask_LogicticsRegression/Datasets/Mask/12.png', '/content/drive/My Drive/CS114/FaceMask/FaceMask_LogicticsRegression/Datasets/Mask/13.png', '/content/drive/My Drive/CS114/FaceMask/FaceMask_LogicticsRegression/Datasets/Mask/71.jpg', '/content/drive/My Drive/CS114/FaceMask/FaceMask_LogicticsRegression/Datasets/Mask/72.jpg', '/content/drive/My Drive/CS114/FaceMask/FaceMask_LogicticsRegression/Datasets/Mask/73.jpg', '/content/drive/My Drive/CS114/FaceMask/FaceMask_LogicticsRegression/Datasets/Mask/75.jpg', '/content/drive/My Drive/CS114/FaceMask/FaceMask_LogicticsRegression/Datasets/Mask/74.jpg', '/content/drive/My Drive/CS114/FaceMask/FaceMask_LogicticsRegression/Datasets/Mask/76.jpg', '/content/drive/My Drive/CS114/FaceMask/FaceMask_LogicticsRegression/Datasets/Mask/77.jpg', '/content/drive/My Drive/CS114/FaceMask/FaceMask_LogicticsRegression/Datasets/Mask/78.jpg', '/content/drive/My Drive/CS114/FaceMask/FaceMask_LogicticsRegression/Datasets/Mask/79.jpg', '/content/drive/My Drive/CS114/FaceMask/FaceMask_LogicticsRegression/Datasets/Mask/80.jpg', '/content/drive/My Drive/CS114/FaceMask/FaceMask_LogicticsRegression/Datasets/Mask/81.jpg', '/content/drive/My Drive/CS114/FaceMask/FaceMask_LogicticsRegression/Datasets/Mask/82.jpg', '/content/drive/My Drive/CS114/FaceMask/FaceMask_LogicticsRegression/Datasets/Mask/83.jpg', '/content/drive/My Drive/CS114/FaceMask/FaceMask_LogicticsRegression/Datasets/Mask/84.jpg', '/content/drive/My Drive/CS114/FaceMask/FaceMask_LogicticsRegression/Datasets/Mask/85.jpg', '/content/drive/My Drive/CS114/FaceMask/FaceMask_LogicticsRegression/Datasets/Mask/86.jpg', '/content/drive/My Drive/CS114/FaceMask/FaceMask_LogicticsRegression/Datasets/Mask/87.jpg', '/content/drive/My Drive/CS114/FaceMask/FaceMask_LogicticsRegression/Datasets/Mask/88.jpg', '/content/drive/My Drive/CS114/FaceMask/FaceMask_LogicticsRegression/Datasets/Mask/89.jpg', '/content/drive/My Drive/CS114/FaceMask/FaceMask_LogicticsRegression/Datasets/Mask/90.jpg', '/content/drive/My Drive/CS114/FaceMask/FaceMask_LogicticsRegression/Datasets/Mask/91.jpg', '/content/drive/My Drive/CS114/FaceMask/FaceMask_LogicticsRegression/Datasets/Mask/92.jpg', '/content/drive/My Drive/CS114/FaceMask/FaceMask_LogicticsRegression/Datasets/Mask/93.jpg', '/content/drive/My Drive/CS114/FaceMask/FaceMask_LogicticsRegression/Datasets/Mask/94.jpg', '/content/drive/My Drive/CS114/FaceMask/FaceMask_LogicticsRegression/Datasets/Mask/95.jpg', '/content/drive/My Drive/CS114/FaceMask/FaceMask_LogicticsRegression/Datasets/Mask/96.jpg', '/content/drive/My Drive/CS114/FaceMask/FaceMask_LogicticsRegression/Datasets/Mask/97.jpg', '/content/drive/My Drive/CS114/FaceMask/FaceMask_LogicticsRegression/Datasets/Mask/98.jpg', '/content/drive/My Drive/CS114/FaceMask/FaceMask_LogicticsRegression/Datasets/Mask/99.jpg', '/content/drive/My Drive/CS114/FaceMask/FaceMask_LogicticsRegression/Datasets/Mask/100.jpg', '/content/drive/My Drive/CS114/FaceMask/FaceMask_LogicticsRegression/Datasets/Mask/101.jpg', '/content/drive/My Drive/CS114/FaceMask/FaceMask_LogicticsRegression/Datasets/Mask/102.jpg', '/content/drive/My Drive/CS114/FaceMask/FaceMask_LogicticsRegression/Datasets/Mask/103.jpg', '/content/drive/My Drive/CS114/FaceMask/FaceMask_LogicticsRegression/Datasets/Mask/104.jpg', '/content/drive/My Drive/CS114/FaceMask/FaceMask_LogicticsRegression/Datasets/Mask/105.jpg', '/content/drive/My Drive/CS114/FaceMask/FaceMask_LogicticsRegression/Datasets/Mask/106.jpg', '/content/drive/My Drive/CS114/FaceMask/FaceMask_LogicticsRegression/Datasets/Mask/108.jpg', '/content/drive/My Drive/CS114/FaceMask/FaceMask_LogicticsRegression/Datasets/Mask/107.jpg', '/content/drive/My Drive/CS114/FaceMask/FaceMask_LogicticsRegression/Datasets/Mask/109.jpg', '/content/drive/My Drive/CS114/FaceMask/FaceMask_LogicticsRegression/Datasets/Mask/110.jpg', '/content/drive/My Drive/CS114/FaceMask/FaceMask_LogicticsRegression/Datasets/Mask/116.jpg', '/content/drive/My Drive/CS114/FaceMask/FaceMask_LogicticsRegression/Datasets/Mask/111.jpg', '/content/drive/My Drive/CS114/FaceMask/FaceMask_LogicticsRegression/Datasets/Mask/112.jpg', '/content/drive/My Drive/CS114/FaceMask/FaceMask_LogicticsRegression/Datasets/Mask/113.jpg', '/content/drive/My Drive/CS114/FaceMask/FaceMask_LogicticsRegression/Datasets/Mask/115.jpg', '/content/drive/My Drive/CS114/FaceMask/FaceMask_LogicticsRegression/Datasets/Mask/114.jpg', '/content/drive/My Drive/CS114/FaceMask/FaceMask_LogicticsRegression/Datasets/Mask/117.jpg', '/content/drive/My Drive/CS114/FaceMask/FaceMask_LogicticsRegression/Datasets/Mask/118.jpg', '/content/drive/My Drive/CS114/FaceMask/FaceMask_LogicticsRegression/Datasets/Mask/119.jpg', '/content/drive/My Drive/CS114/FaceMask/FaceMask_LogicticsRegression/Datasets/Mask/120.jpg', '/content/drive/My Drive/CS114/FaceMask/FaceMask_LogicticsRegression/Datasets/Mask/121.jpg', '/content/drive/My Drive/CS114/FaceMask/FaceMask_LogicticsRegression/Datasets/Mask/122.jpg', '/content/drive/My Drive/CS114/FaceMask/FaceMask_LogicticsRegression/Datasets/Mask/123.jpg', '/content/drive/My Drive/CS114/FaceMask/FaceMask_LogicticsRegression/Datasets/Mask/124.png', '/content/drive/My Drive/CS114/FaceMask/FaceMask_LogicticsRegression/Datasets/Mask/125.jpg', '/content/drive/My Drive/CS114/FaceMask/FaceMask_LogicticsRegression/Datasets/Mask/126.jpg', '/content/drive/My Drive/CS114/FaceMask/FaceMask_LogicticsRegression/Datasets/Mask/127.jpg', '/content/drive/My Drive/CS114/FaceMask/FaceMask_LogicticsRegression/Datasets/Mask/128.jpg', '/content/drive/My Drive/CS114/FaceMask/FaceMask_LogicticsRegression/Datasets/Mask/129.jpg', '/content/drive/My Drive/CS114/FaceMask/FaceMask_LogicticsRegression/Datasets/Mask/130.jpg', '/content/drive/My Drive/CS114/FaceMask/FaceMask_LogicticsRegression/Datasets/Mask/131.jpg', '/content/drive/My Drive/CS114/FaceMask/FaceMask_LogicticsRegression/Datasets/Mask/132.jpg', '/content/drive/My Drive/CS114/FaceMask/FaceMask_LogicticsRegression/Datasets/Mask/133.png', '/content/drive/My Drive/CS114/FaceMask/FaceMask_LogicticsRegression/Datasets/Mask/134.png', '/content/drive/My Drive/CS114/FaceMask/FaceMask_LogicticsRegression/Datasets/Mask/135.jpg', '/content/drive/My Drive/CS114/FaceMask/FaceMask_LogicticsRegression/Datasets/Mask/136.jpg', '/content/drive/My Drive/CS114/FaceMask/FaceMask_LogicticsRegression/Datasets/Mask/137.jpg', '/content/drive/My Drive/CS114/FaceMask/FaceMask_LogicticsRegression/Datasets/Mask/138.jpg', '/content/drive/My Drive/CS114/FaceMask/FaceMask_LogicticsRegression/Datasets/Mask/139.jpg', '/content/drive/My Drive/CS114/FaceMask/FaceMask_LogicticsRegression/Datasets/Mask/140.jpg', '/content/drive/My Drive/CS114/FaceMask/FaceMask_LogicticsRegression/Datasets/Mask/141.jpg', '/content/drive/My Drive/CS114/FaceMask/FaceMask_LogicticsRegression/Datasets/Mask/142.jpg', '/content/drive/My Drive/CS114/FaceMask/FaceMask_LogicticsRegression/Datasets/Mask/143.jpg', '/content/drive/My Drive/CS114/FaceMask/FaceMask_LogicticsRegression/Datasets/Mask/144.jpg', '/content/drive/My Drive/CS114/FaceMask/FaceMask_LogicticsRegression/Datasets/Mask/145.jpg', '/content/drive/My Drive/CS114/FaceMask/FaceMask_LogicticsRegression/Datasets/Mask/146.jpg', '/content/drive/My Drive/CS114/FaceMask/FaceMask_LogicticsRegression/Datasets/Mask/147.jpg', '/content/drive/My Drive/CS114/FaceMask/FaceMask_LogicticsRegression/Datasets/Mask/148.jpg', '/content/drive/My Drive/CS114/FaceMask/FaceMask_LogicticsRegression/Datasets/Mask/171.jpg', '/content/drive/My Drive/CS114/FaceMask/FaceMask_LogicticsRegression/Datasets/Mask/149.jpg', '/content/drive/My Drive/CS114/FaceMask/FaceMask_LogicticsRegression/Datasets/Mask/150.jpg', '/content/drive/My Drive/CS114/FaceMask/FaceMask_LogicticsRegression/Datasets/Mask/151.jpg', '/content/drive/My Drive/CS114/FaceMask/FaceMask_LogicticsRegression/Datasets/Mask/152.jpg', '/content/drive/My Drive/CS114/FaceMask/FaceMask_LogicticsRegression/Datasets/Mask/153.png', '/content/drive/My Drive/CS114/FaceMask/FaceMask_LogicticsRegression/Datasets/Mask/154.png', '/content/drive/My Drive/CS114/FaceMask/FaceMask_LogicticsRegression/Datasets/Mask/155.jpg', '/content/drive/My Drive/CS114/FaceMask/FaceMask_LogicticsRegression/Datasets/Mask/156.jpg', '/content/drive/My Drive/CS114/FaceMask/FaceMask_LogicticsRegression/Datasets/Mask/157.jpg', '/content/drive/My Drive/CS114/FaceMask/FaceMask_LogicticsRegression/Datasets/Mask/158.png', '/content/drive/My Drive/CS114/FaceMask/FaceMask_LogicticsRegression/Datasets/Mask/159.jpg', '/content/drive/My Drive/CS114/FaceMask/FaceMask_LogicticsRegression/Datasets/Mask/160.jpg', '/content/drive/My Drive/CS114/FaceMask/FaceMask_LogicticsRegression/Datasets/Mask/161.jpg', '/content/drive/My Drive/CS114/FaceMask/FaceMask_LogicticsRegression/Datasets/Mask/162.jpg', '/content/drive/My Drive/CS114/FaceMask/FaceMask_LogicticsRegression/Datasets/Mask/163.jpg', '/content/drive/My Drive/CS114/FaceMask/FaceMask_LogicticsRegression/Datasets/Mask/164.jpg', '/content/drive/My Drive/CS114/FaceMask/FaceMask_LogicticsRegression/Datasets/Mask/165.jpg', '/content/drive/My Drive/CS114/FaceMask/FaceMask_LogicticsRegression/Datasets/Mask/166.jpg', '/content/drive/My Drive/CS114/FaceMask/FaceMask_LogicticsRegression/Datasets/Mask/167.jpg', '/content/drive/My Drive/CS114/FaceMask/FaceMask_LogicticsRegression/Datasets/Mask/168.jpeg', '/content/drive/My Drive/CS114/FaceMask/FaceMask_LogicticsRegression/Datasets/Mask/169.jpeg', '/content/drive/My Drive/CS114/FaceMask/FaceMask_LogicticsRegression/Datasets/Mask/170.jpg', '/content/drive/My Drive/CS114/FaceMask/FaceMask_LogicticsRegression/Datasets/Without_mask/wihtout_mask (7).png', '/content/drive/My Drive/CS114/FaceMask/FaceMask_LogicticsRegression/Datasets/Without_mask/wihtout_mask (5).png', '/content/drive/My Drive/CS114/FaceMask/FaceMask_LogicticsRegression/Datasets/Without_mask/wihtout_mask (4).png', '/content/drive/My Drive/CS114/FaceMask/FaceMask_LogicticsRegression/Datasets/Without_mask/wihtout_mask (3).png', '/content/drive/My Drive/CS114/FaceMask/FaceMask_LogicticsRegression/Datasets/Without_mask/wihtout_mask (2).png', '/content/drive/My Drive/CS114/FaceMask/FaceMask_LogicticsRegression/Datasets/Without_mask/wihtout_mask (1).png', '/content/drive/My Drive/CS114/FaceMask/FaceMask_LogicticsRegression/Datasets/Without_mask/wihtout_mask (0).png', '/content/drive/My Drive/CS114/FaceMask/FaceMask_LogicticsRegression/Datasets/Without_mask/wihtout_mask (15).png', '/content/drive/My Drive/CS114/FaceMask/FaceMask_LogicticsRegression/Datasets/Without_mask/wihtout_mask (18).png', '/content/drive/My Drive/CS114/FaceMask/FaceMask_LogicticsRegression/Datasets/Without_mask/wihtout_mask (17).png', '/content/drive/My Drive/CS114/FaceMask/FaceMask_LogicticsRegression/Datasets/Without_mask/wihtout_mask (19).png', '/content/drive/My Drive/CS114/FaceMask/FaceMask_LogicticsRegression/Datasets/Without_mask/wihtout_mask (20).png', '/content/drive/My Drive/CS114/FaceMask/FaceMask_LogicticsRegression/Datasets/Without_mask/wihtout_mask (21).png', '/content/drive/My Drive/CS114/FaceMask/FaceMask_LogicticsRegression/Datasets/Without_mask/wihtout_mask (23).png', '/content/drive/My Drive/CS114/FaceMask/FaceMask_LogicticsRegression/Datasets/Without_mask/wihtout_mask (22).png', '/content/drive/My Drive/CS114/FaceMask/FaceMask_LogicticsRegression/Datasets/Without_mask/wihtout_mask (25).png', '/content/drive/My Drive/CS114/FaceMask/FaceMask_LogicticsRegression/Datasets/Without_mask/wihtout_mask (27).png', '/content/drive/My Drive/CS114/FaceMask/FaceMask_LogicticsRegression/Datasets/Without_mask/wihtout_mask (26).png', '/content/drive/My Drive/CS114/FaceMask/FaceMask_LogicticsRegression/Datasets/Without_mask/wihtout_mask (31).png', '/content/drive/My Drive/CS114/FaceMask/FaceMask_LogicticsRegression/Datasets/Without_mask/wihtout_mask (29).png', '/content/drive/My Drive/CS114/FaceMask/FaceMask_LogicticsRegression/Datasets/Without_mask/wihtout_mask (28).png', '/content/drive/My Drive/CS114/FaceMask/FaceMask_LogicticsRegression/Datasets/Without_mask/wihtout_mask (32).png', '/content/drive/My Drive/CS114/FaceMask/FaceMask_LogicticsRegression/Datasets/Without_mask/wihtout_mask (34).png', '/content/drive/My Drive/CS114/FaceMask/FaceMask_LogicticsRegression/Datasets/Without_mask/wihtout_mask (33).png', '/content/drive/My Drive/CS114/FaceMask/FaceMask_LogicticsRegression/Datasets/Without_mask/wihtout_mask (35).png', '/content/drive/My Drive/CS114/FaceMask/FaceMask_LogicticsRegression/Datasets/Without_mask/wihtout_mask (38).png', '/content/drive/My Drive/CS114/FaceMask/FaceMask_LogicticsRegression/Datasets/Without_mask/wihtout_mask (36).png', '/content/drive/My Drive/CS114/FaceMask/FaceMask_LogicticsRegression/Datasets/Without_mask/wihtout_mask (40).png', '/content/drive/My Drive/CS114/FaceMask/FaceMask_LogicticsRegression/Datasets/Without_mask/wihtout_mask (39).png', '/content/drive/My Drive/CS114/FaceMask/FaceMask_LogicticsRegression/Datasets/Without_mask/wihtout_mask (42).png', '/content/drive/My Drive/CS114/FaceMask/FaceMask_LogicticsRegression/Datasets/Without_mask/wihtout_mask (44).png', '/content/drive/My Drive/CS114/FaceMask/FaceMask_LogicticsRegression/Datasets/Without_mask/wihtout_mask (43).png', '/content/drive/My Drive/CS114/FaceMask/FaceMask_LogicticsRegression/Datasets/Without_mask/wihtout_mask (46).png', '/content/drive/My Drive/CS114/FaceMask/FaceMask_LogicticsRegression/Datasets/Without_mask/wihtout_mask (49).png', '/content/drive/My Drive/CS114/FaceMask/FaceMask_LogicticsRegression/Datasets/Without_mask/wihtout_mask (52).png', '/content/drive/My Drive/CS114/FaceMask/FaceMask_LogicticsRegression/Datasets/Without_mask/wihtout_mask (53).png', '/content/drive/My Drive/CS114/FaceMask/FaceMask_LogicticsRegression/Datasets/Without_mask/wihtout_mask (54).png', '/content/drive/My Drive/CS114/FaceMask/FaceMask_LogicticsRegression/Datasets/Without_mask/wihtout_mask (55).png', '/content/drive/My Drive/CS114/FaceMask/FaceMask_LogicticsRegression/Datasets/Without_mask/wihtout_mask (56).png', '/content/drive/My Drive/CS114/FaceMask/FaceMask_LogicticsRegression/Datasets/Without_mask/wihtout_mask (57).png', '/content/drive/My Drive/CS114/FaceMask/FaceMask_LogicticsRegression/Datasets/Without_mask/wihtout_mask (58).png', '/content/drive/My Drive/CS114/FaceMask/FaceMask_LogicticsRegression/Datasets/Without_mask/wihtout_mask (62).png', '/content/drive/My Drive/CS114/FaceMask/FaceMask_LogicticsRegression/Datasets/Without_mask/wihtout_mask (61).png', '/content/drive/My Drive/CS114/FaceMask/FaceMask_LogicticsRegression/Datasets/Without_mask/wihtout_mask (65).png', '/content/drive/My Drive/CS114/FaceMask/FaceMask_LogicticsRegression/Datasets/Without_mask/wihtout_mask (67).png', '/content/drive/My Drive/CS114/FaceMask/FaceMask_LogicticsRegression/Datasets/Without_mask/wihtout_mask (72).png', '/content/drive/My Drive/CS114/FaceMask/FaceMask_LogicticsRegression/Datasets/Without_mask/wihtout_mask (73).png', '/content/drive/My Drive/CS114/FaceMask/FaceMask_LogicticsRegression/Datasets/Without_mask/wihtout_mask (74).png', '/content/drive/My Drive/CS114/FaceMask/FaceMask_LogicticsRegression/Datasets/Without_mask/wihtout_mask (76).png', '/content/drive/My Drive/CS114/FaceMask/FaceMask_LogicticsRegression/Datasets/Without_mask/wihtout_mask (79).png', '/content/drive/My Drive/CS114/FaceMask/FaceMask_LogicticsRegression/Datasets/Without_mask/wihtout_mask (82).png', '/content/drive/My Drive/CS114/FaceMask/FaceMask_LogicticsRegression/Datasets/Without_mask/wihtout_mask (81).png', '/content/drive/My Drive/CS114/FaceMask/FaceMask_LogicticsRegression/Datasets/Without_mask/wihtout_mask (80).png', '/content/drive/My Drive/CS114/FaceMask/FaceMask_LogicticsRegression/Datasets/Without_mask/wihtout_mask (83).png', '/content/drive/My Drive/CS114/FaceMask/FaceMask_LogicticsRegression/Datasets/Without_mask/wihtout_mask (84).png', '/content/drive/My Drive/CS114/FaceMask/FaceMask_LogicticsRegression/Datasets/Without_mask/wihtout_mask (85).png', '/content/drive/My Drive/CS114/FaceMask/FaceMask_LogicticsRegression/Datasets/Without_mask/wihtout_mask (93).png', '/content/drive/My Drive/CS114/FaceMask/FaceMask_LogicticsRegression/Datasets/Without_mask/wihtout_mask (92).png', '/content/drive/My Drive/CS114/FaceMask/FaceMask_LogicticsRegression/Datasets/Without_mask/wihtout_mask (91).png', '/content/drive/My Drive/CS114/FaceMask/FaceMask_LogicticsRegression/Datasets/Without_mask/wihtout_mask (90).png', '/content/drive/My Drive/CS114/FaceMask/FaceMask_LogicticsRegression/Datasets/Without_mask/wihtout_mask (89).png', '/content/drive/My Drive/CS114/FaceMask/FaceMask_LogicticsRegression/Datasets/Without_mask/wihtout_mask (88).png', '/content/drive/My Drive/CS114/FaceMask/FaceMask_LogicticsRegression/Datasets/Without_mask/wihtout_mask (87).png', '/content/drive/My Drive/CS114/FaceMask/FaceMask_LogicticsRegression/Datasets/Without_mask/wihtout_mask (86).png', '/content/drive/My Drive/CS114/FaceMask/FaceMask_LogicticsRegression/Datasets/Without_mask/wihtout_mask (115).png', '/content/drive/My Drive/CS114/FaceMask/FaceMask_LogicticsRegression/Datasets/Without_mask/wihtout_mask (114).png', '/content/drive/My Drive/CS114/FaceMask/FaceMask_LogicticsRegression/Datasets/Without_mask/wihtout_mask (113).png', '/content/drive/My Drive/CS114/FaceMask/FaceMask_LogicticsRegression/Datasets/Without_mask/wihtout_mask (112).png', '/content/drive/My Drive/CS114/FaceMask/FaceMask_LogicticsRegression/Datasets/Without_mask/wihtout_mask (111).png', '/content/drive/My Drive/CS114/FaceMask/FaceMask_LogicticsRegression/Datasets/Without_mask/wihtout_mask (110).png', '/content/drive/My Drive/CS114/FaceMask/FaceMask_LogicticsRegression/Datasets/Without_mask/wihtout_mask (109).png', '/content/drive/My Drive/CS114/FaceMask/FaceMask_LogicticsRegression/Datasets/Without_mask/wihtout_mask (108).png', '/content/drive/My Drive/CS114/FaceMask/FaceMask_LogicticsRegression/Datasets/Without_mask/wihtout_mask (107).png', '/content/drive/My Drive/CS114/FaceMask/FaceMask_LogicticsRegression/Datasets/Without_mask/wihtout_mask (106).png', '/content/drive/My Drive/CS114/FaceMask/FaceMask_LogicticsRegression/Datasets/Without_mask/wihtout_mask (105).png', '/content/drive/My Drive/CS114/FaceMask/FaceMask_LogicticsRegression/Datasets/Without_mask/wihtout_mask (104).png', '/content/drive/My Drive/CS114/FaceMask/FaceMask_LogicticsRegression/Datasets/Without_mask/wihtout_mask (103).png', '/content/drive/My Drive/CS114/FaceMask/FaceMask_LogicticsRegression/Datasets/Without_mask/wihtout_mask (102).png', '/content/drive/My Drive/CS114/FaceMask/FaceMask_LogicticsRegression/Datasets/Without_mask/wihtout_mask (101).png', '/content/drive/My Drive/CS114/FaceMask/FaceMask_LogicticsRegression/Datasets/Without_mask/wihtout_mask (100).png', '/content/drive/My Drive/CS114/FaceMask/FaceMask_LogicticsRegression/Datasets/Without_mask/wihtout_mask (99).png', '/content/drive/My Drive/CS114/FaceMask/FaceMask_LogicticsRegression/Datasets/Without_mask/wihtout_mask (98).png', '/content/drive/My Drive/CS114/FaceMask/FaceMask_LogicticsRegression/Datasets/Without_mask/wihtout_mask (97).png', '/content/drive/My Drive/CS114/FaceMask/FaceMask_LogicticsRegression/Datasets/Without_mask/wihtout_mask (96).png', '/content/drive/My Drive/CS114/FaceMask/FaceMask_LogicticsRegression/Datasets/Without_mask/wihtout_mask (95).png', '/content/drive/My Drive/CS114/FaceMask/FaceMask_LogicticsRegression/Datasets/Without_mask/wihtout_mask (94).png', '/content/drive/My Drive/CS114/FaceMask/FaceMask_LogicticsRegression/Datasets/Without_mask/wihtout_mask (122).png', '/content/drive/My Drive/CS114/FaceMask/FaceMask_LogicticsRegression/Datasets/Without_mask/wihtout_mask (121).png', '/content/drive/My Drive/CS114/FaceMask/FaceMask_LogicticsRegression/Datasets/Without_mask/wihtout_mask (120).png', '/content/drive/My Drive/CS114/FaceMask/FaceMask_LogicticsRegression/Datasets/Without_mask/wihtout_mask (119).png', '/content/drive/My Drive/CS114/FaceMask/FaceMask_LogicticsRegression/Datasets/Without_mask/wihtout_mask (118).png', '/content/drive/My Drive/CS114/FaceMask/FaceMask_LogicticsRegression/Datasets/Without_mask/wihtout_mask (117).png', '/content/drive/My Drive/CS114/FaceMask/FaceMask_LogicticsRegression/Datasets/Without_mask/wihtout_mask (116).png', '/content/drive/My Drive/CS114/FaceMask/FaceMask_LogicticsRegression/Datasets/Without_mask/wihtout_mask (131).png', '/content/drive/My Drive/CS114/FaceMask/FaceMask_LogicticsRegression/Datasets/Without_mask/wihtout_mask (130).png', '/content/drive/My Drive/CS114/FaceMask/FaceMask_LogicticsRegression/Datasets/Without_mask/wihtout_mask (129).png', '/content/drive/My Drive/CS114/FaceMask/FaceMask_LogicticsRegression/Datasets/Without_mask/wihtout_mask (128).png', '/content/drive/My Drive/CS114/FaceMask/FaceMask_LogicticsRegression/Datasets/Without_mask/wihtout_mask (127).png', '/content/drive/My Drive/CS114/FaceMask/FaceMask_LogicticsRegression/Datasets/Without_mask/wihtout_mask (126).png', '/content/drive/My Drive/CS114/FaceMask/FaceMask_LogicticsRegression/Datasets/Without_mask/wihtout_mask (125).png', '/content/drive/My Drive/CS114/FaceMask/FaceMask_LogicticsRegression/Datasets/Without_mask/wihtout_mask (124).png', '/content/drive/My Drive/CS114/FaceMask/FaceMask_LogicticsRegression/Datasets/Without_mask/wihtout_mask (123).png', '/content/drive/My Drive/CS114/FaceMask/FaceMask_LogicticsRegression/Datasets/Without_mask/wihtout_mask (138).png', '/content/drive/My Drive/CS114/FaceMask/FaceMask_LogicticsRegression/Datasets/Without_mask/wihtout_mask (137).png', '/content/drive/My Drive/CS114/FaceMask/FaceMask_LogicticsRegression/Datasets/Without_mask/wihtout_mask (136).png', '/content/drive/My Drive/CS114/FaceMask/FaceMask_LogicticsRegression/Datasets/Without_mask/wihtout_mask (135).png', '/content/drive/My Drive/CS114/FaceMask/FaceMask_LogicticsRegression/Datasets/Without_mask/wihtout_mask (134).png', '/content/drive/My Drive/CS114/FaceMask/FaceMask_LogicticsRegression/Datasets/Without_mask/wihtout_mask (133).png', '/content/drive/My Drive/CS114/FaceMask/FaceMask_LogicticsRegression/Datasets/Without_mask/wihtout_mask (132).png', '/content/drive/My Drive/CS114/FaceMask/FaceMask_LogicticsRegression/Datasets/Without_mask/wihtout_mask (144).png', '/content/drive/My Drive/CS114/FaceMask/FaceMask_LogicticsRegression/Datasets/Without_mask/wihtout_mask (143).png', '/content/drive/My Drive/CS114/FaceMask/FaceMask_LogicticsRegression/Datasets/Without_mask/wihtout_mask (142).png', '/content/drive/My Drive/CS114/FaceMask/FaceMask_LogicticsRegression/Datasets/Without_mask/wihtout_mask (140).png', '/content/drive/My Drive/CS114/FaceMask/FaceMask_LogicticsRegression/Datasets/Without_mask/wihtout_mask (141).png', '/content/drive/My Drive/CS114/FaceMask/FaceMask_LogicticsRegression/Datasets/Without_mask/wihtout_mask (139).png', '/content/drive/My Drive/CS114/FaceMask/FaceMask_LogicticsRegression/Datasets/Without_mask/wihtout_mask (148).png', '/content/drive/My Drive/CS114/FaceMask/FaceMask_LogicticsRegression/Datasets/Without_mask/wihtout_mask (147).png', '/content/drive/My Drive/CS114/FaceMask/FaceMask_LogicticsRegression/Datasets/Without_mask/wihtout_mask (146).png', '/content/drive/My Drive/CS114/FaceMask/FaceMask_LogicticsRegression/Datasets/Without_mask/wihtout_mask (145).png', '/content/drive/My Drive/CS114/FaceMask/FaceMask_LogicticsRegression/Datasets/Without_mask/wihtout_mask (167).png', '/content/drive/My Drive/CS114/FaceMask/FaceMask_LogicticsRegression/Datasets/Without_mask/wihtout_mask (166).png', '/content/drive/My Drive/CS114/FaceMask/FaceMask_LogicticsRegression/Datasets/Without_mask/wihtout_mask (165).png', '/content/drive/My Drive/CS114/FaceMask/FaceMask_LogicticsRegression/Datasets/Without_mask/wihtout_mask (164).png', '/content/drive/My Drive/CS114/FaceMask/FaceMask_LogicticsRegression/Datasets/Without_mask/wihtout_mask (163).png', '/content/drive/My Drive/CS114/FaceMask/FaceMask_LogicticsRegression/Datasets/Without_mask/wihtout_mask (162).png', '/content/drive/My Drive/CS114/FaceMask/FaceMask_LogicticsRegression/Datasets/Without_mask/wihtout_mask (160).png', '/content/drive/My Drive/CS114/FaceMask/FaceMask_LogicticsRegression/Datasets/Without_mask/wihtout_mask (161).png', '/content/drive/My Drive/CS114/FaceMask/FaceMask_LogicticsRegression/Datasets/Without_mask/wihtout_mask (159).png', '/content/drive/My Drive/CS114/FaceMask/FaceMask_LogicticsRegression/Datasets/Without_mask/wihtout_mask (158).png', '/content/drive/My Drive/CS114/FaceMask/FaceMask_LogicticsRegression/Datasets/Without_mask/wihtout_mask (157).png', '/content/drive/My Drive/CS114/FaceMask/FaceMask_LogicticsRegression/Datasets/Without_mask/wihtout_mask (156).png', '/content/drive/My Drive/CS114/FaceMask/FaceMask_LogicticsRegression/Datasets/Without_mask/wihtout_mask (155).png', '/content/drive/My Drive/CS114/FaceMask/FaceMask_LogicticsRegression/Datasets/Without_mask/wihtout_mask (154).png', '/content/drive/My Drive/CS114/FaceMask/FaceMask_LogicticsRegression/Datasets/Without_mask/wihtout_mask (153).png', '/content/drive/My Drive/CS114/FaceMask/FaceMask_LogicticsRegression/Datasets/Without_mask/wihtout_mask (152).png', '/content/drive/My Drive/CS114/FaceMask/FaceMask_LogicticsRegression/Datasets/Without_mask/wihtout_mask (151).png', '/content/drive/My Drive/CS114/FaceMask/FaceMask_LogicticsRegression/Datasets/Without_mask/wihtout_mask (150).png', '/content/drive/My Drive/CS114/FaceMask/FaceMask_LogicticsRegression/Datasets/Without_mask/wihtout_mask (149).png', '/content/drive/My Drive/CS114/FaceMask/FaceMask_LogicticsRegression/Datasets/Without_mask/wihtout_mask (182).png', '/content/drive/My Drive/CS114/FaceMask/FaceMask_LogicticsRegression/Datasets/Without_mask/wihtout_mask (181).png', '/content/drive/My Drive/CS114/FaceMask/FaceMask_LogicticsRegression/Datasets/Without_mask/wihtout_mask (180).png', '/content/drive/My Drive/CS114/FaceMask/FaceMask_LogicticsRegression/Datasets/Without_mask/wihtout_mask (179).png', '/content/drive/My Drive/CS114/FaceMask/FaceMask_LogicticsRegression/Datasets/Without_mask/wihtout_mask (178).png', '/content/drive/My Drive/CS114/FaceMask/FaceMask_LogicticsRegression/Datasets/Without_mask/wihtout_mask (177).png', '/content/drive/My Drive/CS114/FaceMask/FaceMask_LogicticsRegression/Datasets/Without_mask/wihtout_mask (176).png', '/content/drive/My Drive/CS114/FaceMask/FaceMask_LogicticsRegression/Datasets/Without_mask/wihtout_mask (175).png', '/content/drive/My Drive/CS114/FaceMask/FaceMask_LogicticsRegression/Datasets/Without_mask/wihtout_mask (174).png', '/content/drive/My Drive/CS114/FaceMask/FaceMask_LogicticsRegression/Datasets/Without_mask/wihtout_mask (173).png', '/content/drive/My Drive/CS114/FaceMask/FaceMask_LogicticsRegression/Datasets/Without_mask/wihtout_mask (172).png', '/content/drive/My Drive/CS114/FaceMask/FaceMask_LogicticsRegression/Datasets/Without_mask/wihtout_mask (171).png', '/content/drive/My Drive/CS114/FaceMask/FaceMask_LogicticsRegression/Datasets/Without_mask/wihtout_mask (170).png', '/content/drive/My Drive/CS114/FaceMask/FaceMask_LogicticsRegression/Datasets/Without_mask/wihtout_mask (169).png', '/content/drive/My Drive/CS114/FaceMask/FaceMask_LogicticsRegression/Datasets/Without_mask/wihtout_mask (168).png', '/content/drive/My Drive/CS114/FaceMask/FaceMask_LogicticsRegression/Datasets/Without_mask/wihtout_mask (197).png', '/content/drive/My Drive/CS114/FaceMask/FaceMask_LogicticsRegression/Datasets/Without_mask/wihtout_mask (196).png', '/content/drive/My Drive/CS114/FaceMask/FaceMask_LogicticsRegression/Datasets/Without_mask/wihtout_mask (195).png', '/content/drive/My Drive/CS114/FaceMask/FaceMask_LogicticsRegression/Datasets/Without_mask/wihtout_mask (194).png', '/content/drive/My Drive/CS114/FaceMask/FaceMask_LogicticsRegression/Datasets/Without_mask/wihtout_mask (193).png', '/content/drive/My Drive/CS114/FaceMask/FaceMask_LogicticsRegression/Datasets/Without_mask/wihtout_mask (192).png', '/content/drive/My Drive/CS114/FaceMask/FaceMask_LogicticsRegression/Datasets/Without_mask/wihtout_mask (191).png', '/content/drive/My Drive/CS114/FaceMask/FaceMask_LogicticsRegression/Datasets/Without_mask/wihtout_mask (190).png', '/content/drive/My Drive/CS114/FaceMask/FaceMask_LogicticsRegression/Datasets/Without_mask/wihtout_mask (189).png', '/content/drive/My Drive/CS114/FaceMask/FaceMask_LogicticsRegression/Datasets/Without_mask/wihtout_mask (188).png', '/content/drive/My Drive/CS114/FaceMask/FaceMask_LogicticsRegression/Datasets/Without_mask/wihtout_mask (187).png', '/content/drive/My Drive/CS114/FaceMask/FaceMask_LogicticsRegression/Datasets/Without_mask/wihtout_mask (186).png', '/content/drive/My Drive/CS114/FaceMask/FaceMask_LogicticsRegression/Datasets/Without_mask/wihtout_mask (185).png', '/content/drive/My Drive/CS114/FaceMask/FaceMask_LogicticsRegression/Datasets/Without_mask/wihtout_mask (184).png', '/content/drive/My Drive/CS114/FaceMask/FaceMask_LogicticsRegression/Datasets/Without_mask/wihtout_mask (183).png', '/content/drive/My Drive/CS114/FaceMask/FaceMask_LogicticsRegression/Datasets/Without_mask/wihtout_mask (210).png', '/content/drive/My Drive/CS114/FaceMask/FaceMask_LogicticsRegression/Datasets/Without_mask/wihtout_mask (209).png', '/content/drive/My Drive/CS114/FaceMask/FaceMask_LogicticsRegression/Datasets/Without_mask/wihtout_mask (208).png', '/content/drive/My Drive/CS114/FaceMask/FaceMask_LogicticsRegression/Datasets/Without_mask/wihtout_mask (207).png', '/content/drive/My Drive/CS114/FaceMask/FaceMask_LogicticsRegression/Datasets/Without_mask/wihtout_mask (206).png', '/content/drive/My Drive/CS114/FaceMask/FaceMask_LogicticsRegression/Datasets/Without_mask/wihtout_mask (205).png', '/content/drive/My Drive/CS114/FaceMask/FaceMask_LogicticsRegression/Datasets/Without_mask/wihtout_mask (204).png', '/content/drive/My Drive/CS114/FaceMask/FaceMask_LogicticsRegression/Datasets/Without_mask/wihtout_mask (203).png', '/content/drive/My Drive/CS114/FaceMask/FaceMask_LogicticsRegression/Datasets/Without_mask/wihtout_mask (202).png', '/content/drive/My Drive/CS114/FaceMask/FaceMask_LogicticsRegression/Datasets/Without_mask/wihtout_mask (201).png', '/content/drive/My Drive/CS114/FaceMask/FaceMask_LogicticsRegression/Datasets/Without_mask/wihtout_mask (200).png', '/content/drive/My Drive/CS114/FaceMask/FaceMask_LogicticsRegression/Datasets/Without_mask/wihtout_mask (199).png', '/content/drive/My Drive/CS114/FaceMask/FaceMask_LogicticsRegression/Datasets/Without_mask/wihtout_mask (198).png', '/content/drive/My Drive/CS114/FaceMask/FaceMask_LogicticsRegression/Datasets/Without_mask/wihtout_mask (214).png', '/content/drive/My Drive/CS114/FaceMask/FaceMask_LogicticsRegression/Datasets/Without_mask/wihtout_mask (213).png', '/content/drive/My Drive/CS114/FaceMask/FaceMask_LogicticsRegression/Datasets/Without_mask/wihtout_mask (212).png', '/content/drive/My Drive/CS114/FaceMask/FaceMask_LogicticsRegression/Datasets/Without_mask/wihtout_mask (211).png', '/content/drive/My Drive/CS114/FaceMask/FaceMask_LogicticsRegression/Datasets/Without_mask/wihtout_mask (219).png', '/content/drive/My Drive/CS114/FaceMask/FaceMask_LogicticsRegression/Datasets/Without_mask/wihtout_mask (218).png', '/content/drive/My Drive/CS114/FaceMask/FaceMask_LogicticsRegression/Datasets/Without_mask/wihtout_mask (217).png', '/content/drive/My Drive/CS114/FaceMask/FaceMask_LogicticsRegression/Datasets/Without_mask/wihtout_mask (216).png', '/content/drive/My Drive/CS114/FaceMask/FaceMask_LogicticsRegression/Datasets/Without_mask/wihtout_mask (215).png', '/content/drive/My Drive/CS114/FaceMask/FaceMask_LogicticsRegression/Datasets/Without_mask/wihtout_mask (228).png', '/content/drive/My Drive/CS114/FaceMask/FaceMask_LogicticsRegression/Datasets/Without_mask/wihtout_mask (227).png', '/content/drive/My Drive/CS114/FaceMask/FaceMask_LogicticsRegression/Datasets/Without_mask/wihtout_mask (226).png', '/content/drive/My Drive/CS114/FaceMask/FaceMask_LogicticsRegression/Datasets/Without_mask/wihtout_mask (225).png', '/content/drive/My Drive/CS114/FaceMask/FaceMask_LogicticsRegression/Datasets/Without_mask/wihtout_mask (224).png', '/content/drive/My Drive/CS114/FaceMask/FaceMask_LogicticsRegression/Datasets/Without_mask/wihtout_mask (223).png', '/content/drive/My Drive/CS114/FaceMask/FaceMask_LogicticsRegression/Datasets/Without_mask/wihtout_mask (222).png', '/content/drive/My Drive/CS114/FaceMask/FaceMask_LogicticsRegression/Datasets/Without_mask/wihtout_mask (221).png', '/content/drive/My Drive/CS114/FaceMask/FaceMask_LogicticsRegression/Datasets/Without_mask/wihtout_mask (220).png', '/content/drive/My Drive/CS114/FaceMask/FaceMask_LogicticsRegression/Datasets/Without_mask/wihtout_mask (238).png', '/content/drive/My Drive/CS114/FaceMask/FaceMask_LogicticsRegression/Datasets/Without_mask/wihtout_mask (237).png', '/content/drive/My Drive/CS114/FaceMask/FaceMask_LogicticsRegression/Datasets/Without_mask/wihtout_mask (236).png', '/content/drive/My Drive/CS114/FaceMask/FaceMask_LogicticsRegression/Datasets/Without_mask/wihtout_mask (235).png', '/content/drive/My Drive/CS114/FaceMask/FaceMask_LogicticsRegression/Datasets/Without_mask/wihtout_mask (234).png', '/content/drive/My Drive/CS114/FaceMask/FaceMask_LogicticsRegression/Datasets/Without_mask/wihtout_mask (233).png', '/content/drive/My Drive/CS114/FaceMask/FaceMask_LogicticsRegression/Datasets/Without_mask/wihtout_mask (232).png', '/content/drive/My Drive/CS114/FaceMask/FaceMask_LogicticsRegression/Datasets/Without_mask/wihtout_mask (231).png', '/content/drive/My Drive/CS114/FaceMask/FaceMask_LogicticsRegression/Datasets/Without_mask/wihtout_mask (230).png', '/content/drive/My Drive/CS114/FaceMask/FaceMask_LogicticsRegression/Datasets/Without_mask/wihtout_mask (229).png', '/content/drive/My Drive/CS114/FaceMask/FaceMask_LogicticsRegression/Datasets/Without_mask/wihtout_mask (247).png', '/content/drive/My Drive/CS114/FaceMask/FaceMask_LogicticsRegression/Datasets/Without_mask/wihtout_mask (246).png', '/content/drive/My Drive/CS114/FaceMask/FaceMask_LogicticsRegression/Datasets/Without_mask/wihtout_mask (245).png', '/content/drive/My Drive/CS114/FaceMask/FaceMask_LogicticsRegression/Datasets/Without_mask/wihtout_mask (244).png', '/content/drive/My Drive/CS114/FaceMask/FaceMask_LogicticsRegression/Datasets/Without_mask/wihtout_mask (243).png', '/content/drive/My Drive/CS114/FaceMask/FaceMask_LogicticsRegression/Datasets/Without_mask/wihtout_mask (242).png', '/content/drive/My Drive/CS114/FaceMask/FaceMask_LogicticsRegression/Datasets/Without_mask/wihtout_mask (241).png', '/content/drive/My Drive/CS114/FaceMask/FaceMask_LogicticsRegression/Datasets/Without_mask/wihtout_mask (240).png', '/content/drive/My Drive/CS114/FaceMask/FaceMask_LogicticsRegression/Datasets/Without_mask/wihtout_mask (239).png', '/content/drive/My Drive/CS114/FaceMask/FaceMask_LogicticsRegression/Datasets/Without_mask/wihtout_mask (257).png', '/content/drive/My Drive/CS114/FaceMask/FaceMask_LogicticsRegression/Datasets/Without_mask/wihtout_mask (256).png', '/content/drive/My Drive/CS114/FaceMask/FaceMask_LogicticsRegression/Datasets/Without_mask/wihtout_mask (255).png', '/content/drive/My Drive/CS114/FaceMask/FaceMask_LogicticsRegression/Datasets/Without_mask/wihtout_mask (254).png', '/content/drive/My Drive/CS114/FaceMask/FaceMask_LogicticsRegression/Datasets/Without_mask/wihtout_mask (253).png', '/content/drive/My Drive/CS114/FaceMask/FaceMask_LogicticsRegression/Datasets/Without_mask/wihtout_mask (252).png', '/content/drive/My Drive/CS114/FaceMask/FaceMask_LogicticsRegression/Datasets/Without_mask/wihtout_mask (251).png', '/content/drive/My Drive/CS114/FaceMask/FaceMask_LogicticsRegression/Datasets/Without_mask/wihtout_mask (250).png', '/content/drive/My Drive/CS114/FaceMask/FaceMask_LogicticsRegression/Datasets/Without_mask/wihtout_mask (249).png', '/content/drive/My Drive/CS114/FaceMask/FaceMask_LogicticsRegression/Datasets/Without_mask/wihtout_mask (248).png', '/content/drive/My Drive/CS114/FaceMask/FaceMask_LogicticsRegression/Datasets/Without_mask/wihtout_mask (273).png', '/content/drive/My Drive/CS114/FaceMask/FaceMask_LogicticsRegression/Datasets/Without_mask/wihtout_mask (272).png', '/content/drive/My Drive/CS114/FaceMask/FaceMask_LogicticsRegression/Datasets/Without_mask/wihtout_mask (271).png', '/content/drive/My Drive/CS114/FaceMask/FaceMask_LogicticsRegression/Datasets/Without_mask/wihtout_mask (270).png', '/content/drive/My Drive/CS114/FaceMask/FaceMask_LogicticsRegression/Datasets/Without_mask/wihtout_mask (269).png', '/content/drive/My Drive/CS114/FaceMask/FaceMask_LogicticsRegression/Datasets/Without_mask/wihtout_mask (268).png', '/content/drive/My Drive/CS114/FaceMask/FaceMask_LogicticsRegression/Datasets/Without_mask/wihtout_mask (267).png', '/content/drive/My Drive/CS114/FaceMask/FaceMask_LogicticsRegression/Datasets/Without_mask/wihtout_mask (266).png', '/content/drive/My Drive/CS114/FaceMask/FaceMask_LogicticsRegression/Datasets/Without_mask/wihtout_mask (265).png', '/content/drive/My Drive/CS114/FaceMask/FaceMask_LogicticsRegression/Datasets/Without_mask/wihtout_mask (264).png', '/content/drive/My Drive/CS114/FaceMask/FaceMask_LogicticsRegression/Datasets/Without_mask/wihtout_mask (263).png', '/content/drive/My Drive/CS114/FaceMask/FaceMask_LogicticsRegression/Datasets/Without_mask/wihtout_mask (262).png', '/content/drive/My Drive/CS114/FaceMask/FaceMask_LogicticsRegression/Datasets/Without_mask/wihtout_mask (261).png', '/content/drive/My Drive/CS114/FaceMask/FaceMask_LogicticsRegression/Datasets/Without_mask/wihtout_mask (260).png', '/content/drive/My Drive/CS114/FaceMask/FaceMask_LogicticsRegression/Datasets/Without_mask/wihtout_mask (259).png', '/content/drive/My Drive/CS114/FaceMask/FaceMask_LogicticsRegression/Datasets/Without_mask/wihtout_mask (258).png', '/content/drive/My Drive/CS114/FaceMask/FaceMask_LogicticsRegression/Datasets/Without_mask/wihtout_mask (284).png', '/content/drive/My Drive/CS114/FaceMask/FaceMask_LogicticsRegression/Datasets/Without_mask/wihtout_mask (283).png', '/content/drive/My Drive/CS114/FaceMask/FaceMask_LogicticsRegression/Datasets/Without_mask/wihtout_mask (282).png', '/content/drive/My Drive/CS114/FaceMask/FaceMask_LogicticsRegression/Datasets/Without_mask/wihtout_mask (281).png', '/content/drive/My Drive/CS114/FaceMask/FaceMask_LogicticsRegression/Datasets/Without_mask/wihtout_mask (280).png', '/content/drive/My Drive/CS114/FaceMask/FaceMask_LogicticsRegression/Datasets/Without_mask/wihtout_mask (279).png', '/content/drive/My Drive/CS114/FaceMask/FaceMask_LogicticsRegression/Datasets/Without_mask/wihtout_mask (278).png', '/content/drive/My Drive/CS114/FaceMask/FaceMask_LogicticsRegression/Datasets/Without_mask/wihtout_mask (277).png', '/content/drive/My Drive/CS114/FaceMask/FaceMask_LogicticsRegression/Datasets/Without_mask/wihtout_mask (276).png', '/content/drive/My Drive/CS114/FaceMask/FaceMask_LogicticsRegression/Datasets/Without_mask/wihtout_mask (275).png', '/content/drive/My Drive/CS114/FaceMask/FaceMask_LogicticsRegression/Datasets/Without_mask/wihtout_mask (274).png', '/content/drive/My Drive/CS114/FaceMask/FaceMask_LogicticsRegression/Datasets/Without_mask/wihtout_mask (292).png', '/content/drive/My Drive/CS114/FaceMask/FaceMask_LogicticsRegression/Datasets/Without_mask/wihtout_mask (291).png', '/content/drive/My Drive/CS114/FaceMask/FaceMask_LogicticsRegression/Datasets/Without_mask/wihtout_mask (290).png', '/content/drive/My Drive/CS114/FaceMask/FaceMask_LogicticsRegression/Datasets/Without_mask/wihtout_mask (289).png', '/content/drive/My Drive/CS114/FaceMask/FaceMask_LogicticsRegression/Datasets/Without_mask/wihtout_mask (288).png', '/content/drive/My Drive/CS114/FaceMask/FaceMask_LogicticsRegression/Datasets/Without_mask/wihtout_mask (287).png', '/content/drive/My Drive/CS114/FaceMask/FaceMask_LogicticsRegression/Datasets/Without_mask/wihtout_mask (286).png', '/content/drive/My Drive/CS114/FaceMask/FaceMask_LogicticsRegression/Datasets/Without_mask/wihtout_mask (285).png', '/content/drive/My Drive/CS114/FaceMask/FaceMask_LogicticsRegression/Datasets/Without_mask/wihtout_mask (303).png', '/content/drive/My Drive/CS114/FaceMask/FaceMask_LogicticsRegression/Datasets/Without_mask/wihtout_mask (302).png', '/content/drive/My Drive/CS114/FaceMask/FaceMask_LogicticsRegression/Datasets/Without_mask/wihtout_mask (301).png', '/content/drive/My Drive/CS114/FaceMask/FaceMask_LogicticsRegression/Datasets/Without_mask/wihtout_mask (300).png', '/content/drive/My Drive/CS114/FaceMask/FaceMask_LogicticsRegression/Datasets/Without_mask/wihtout_mask (299).png', '/content/drive/My Drive/CS114/FaceMask/FaceMask_LogicticsRegression/Datasets/Without_mask/wihtout_mask (298).png', '/content/drive/My Drive/CS114/FaceMask/FaceMask_LogicticsRegression/Datasets/Without_mask/wihtout_mask (297).png', '/content/drive/My Drive/CS114/FaceMask/FaceMask_LogicticsRegression/Datasets/Without_mask/wihtout_mask (296).png', '/content/drive/My Drive/CS114/FaceMask/FaceMask_LogicticsRegression/Datasets/Without_mask/wihtout_mask (295).png', '/content/drive/My Drive/CS114/FaceMask/FaceMask_LogicticsRegression/Datasets/Without_mask/wihtout_mask (294).png', '/content/drive/My Drive/CS114/FaceMask/FaceMask_LogicticsRegression/Datasets/Without_mask/wihtout_mask (293).png', '/content/drive/My Drive/CS114/FaceMask/FaceMask_LogicticsRegression/Datasets/Without_mask/wihtout_mask (312).png', '/content/drive/My Drive/CS114/FaceMask/FaceMask_LogicticsRegression/Datasets/Without_mask/wihtout_mask (311).png', '/content/drive/My Drive/CS114/FaceMask/FaceMask_LogicticsRegression/Datasets/Without_mask/wihtout_mask (310).png', '/content/drive/My Drive/CS114/FaceMask/FaceMask_LogicticsRegression/Datasets/Without_mask/wihtout_mask (309).png', '/content/drive/My Drive/CS114/FaceMask/FaceMask_LogicticsRegression/Datasets/Without_mask/wihtout_mask (308).png', '/content/drive/My Drive/CS114/FaceMask/FaceMask_LogicticsRegression/Datasets/Without_mask/wihtout_mask (307).png', '/content/drive/My Drive/CS114/FaceMask/FaceMask_LogicticsRegression/Datasets/Without_mask/wihtout_mask (306).png', '/content/drive/My Drive/CS114/FaceMask/FaceMask_LogicticsRegression/Datasets/Without_mask/wihtout_mask (305).png', '/content/drive/My Drive/CS114/FaceMask/FaceMask_LogicticsRegression/Datasets/Without_mask/wihtout_mask (304).png', '/content/drive/My Drive/CS114/FaceMask/FaceMask_LogicticsRegression/Datasets/Without_mask/wihtout_mask (313).png']\n"
          ],
          "name": "stdout"
        }
      ]
    },
    {
      "cell_type": "markdown",
      "metadata": {
        "id": "vKdNLEZl0OGc",
        "colab_type": "text"
      },
      "source": [
        "##**Load từng ảnh từ file và pre_process nó**"
      ]
    },
    {
      "cell_type": "code",
      "metadata": {
        "id": "SHR4Lj9NvwJo",
        "colab_type": "code",
        "colab": {}
      },
      "source": [
        "# Vòng lặp để load dữ liệu \n",
        "\n",
        "for imagePath in imagePaths:\n",
        "\t# lấy nhãn từ đường dẫn tệp\n",
        "\tlabel = imagePath.split(os.path.sep)[-2]\n",
        "\n",
        "\t# load hình ảnh \n",
        "\timage = cv2.imread(imagePath)\n",
        "\t\n",
        "\t# preprocess ảnh\n",
        "\timage = cv2.resize(image,(32,32)).flatten()\n",
        "\t\n",
        " # đẩy dữ liệu vào data và label \n",
        "\tdata.append(image)\n",
        " \n",
        "\t# Gán label\n",
        "\tif (label == \"Mask\"):\n",
        "\t\t\tlabel = 1\n",
        "\telse:\n",
        "\t\t\tlabel = 0\n",
        "\n",
        "\t# đẩy label vào\n",
        "\tlabels.append(label)"
      ],
      "execution_count": 89,
      "outputs": []
    },
    {
      "cell_type": "markdown",
      "metadata": {
        "id": "RRVAJAANzyql",
        "colab_type": "text"
      },
      "source": [
        "##**Chuyển data và label sang dạng mảng**"
      ]
    },
    {
      "cell_type": "code",
      "metadata": {
        "id": "h-JLUE0Vv7le",
        "colab_type": "code",
        "colab": {
          "base_uri": "https://localhost:8080/",
          "height": 151
        },
        "outputId": "8d1ac046-f119-46ab-f46a-1bc94fe02f88"
      },
      "source": [
        "# chuyển label và data sang dạng mảng \n",
        "labels = np.array(labels)\n",
        "labels = labels.reshape(-1,1)\n",
        "data = np.array(data)\n",
        "\n",
        "print(data)\n",
        "print(data.shape)"
      ],
      "execution_count": 90,
      "outputs": [
        {
          "output_type": "stream",
          "text": [
            "[[ 26  35  45 ...  42  52  60]\n",
            " [  8   9  13 ...  72  96 126]\n",
            " [ 24  20  19 ... 114  91  75]\n",
            " ...\n",
            " [127 132 142 ...  64  54  77]\n",
            " [ 12  26  29 ... 120 127 170]\n",
            " [226 213 219 ...  50  57  86]]\n",
            "(485, 3072)\n"
          ],
          "name": "stdout"
        }
      ]
    },
    {
      "cell_type": "markdown",
      "metadata": {
        "id": "8SR7e3pCzsw_",
        "colab_type": "text"
      },
      "source": [
        "##**Chia dữ liệu thành 2 phần train và test**"
      ]
    },
    {
      "cell_type": "code",
      "metadata": {
        "id": "HVkhpzTYwI5-",
        "colab_type": "code",
        "colab": {}
      },
      "source": [
        "# chia đữ liệu thành 80% để train và 20% để test\n",
        "(trainX, testX, trainY, testY) = train_test_split(data, labels, test_size=0.25, stratify=labels, random_state=1)"
      ],
      "execution_count": 91,
      "outputs": []
    },
    {
      "cell_type": "code",
      "metadata": {
        "id": "5Kk-xK_NwMe2",
        "colab_type": "code",
        "colab": {
          "base_uri": "https://localhost:8080/",
          "height": 168
        },
        "outputId": "f433add8-fa8e-4c6a-d9a2-5269bcbc5f49"
      },
      "source": [
        "print(trainX.shape)\n",
        "print(testX.shape)\n",
        "print(trainX)"
      ],
      "execution_count": 92,
      "outputs": [
        {
          "output_type": "stream",
          "text": [
            "(363, 3072)\n",
            "(122, 3072)\n",
            "[[157 151 156 ...  91  92 205]\n",
            " [ 70  74  90 ...  47  69  89]\n",
            " [ 20  26  24 ...  82 134  92]\n",
            " ...\n",
            " [171 174 208 ...  13  26 197]\n",
            " [  5   1   7 ...  27   7  52]\n",
            " [ 21  39  34 ...  78  99 132]]\n"
          ],
          "name": "stdout"
        }
      ]
    },
    {
      "cell_type": "markdown",
      "metadata": {
        "id": "UL7k8zelzkvx",
        "colab_type": "text"
      },
      "source": [
        "##**Training và đánh giá model**"
      ]
    },
    {
      "cell_type": "code",
      "metadata": {
        "id": "2VgB_cDwwPxK",
        "colab_type": "code",
        "colab": {
          "base_uri": "https://localhost:8080/",
          "height": 356
        },
        "outputId": "4e625874-8483-47ff-8c23-46aa93582d5b"
      },
      "source": [
        "# training model \n",
        "model_Logic = LogisticRegression()\n",
        "model_Logic.fit(trainX,trainY)\n",
        "print(classification_report(testY, model_Logic.predict(testX)))"
      ],
      "execution_count": 93,
      "outputs": [
        {
          "output_type": "stream",
          "text": [
            "/usr/local/lib/python3.6/dist-packages/sklearn/utils/validation.py:760: DataConversionWarning: A column-vector y was passed when a 1d array was expected. Please change the shape of y to (n_samples, ), for example using ravel().\n",
            "  y = column_or_1d(y, warn=True)\n"
          ],
          "name": "stderr"
        },
        {
          "output_type": "stream",
          "text": [
            "              precision    recall  f1-score   support\n",
            "\n",
            "           0       0.99      0.99      0.99        71\n",
            "           1       0.98      0.98      0.98        51\n",
            "\n",
            "    accuracy                           0.98       122\n",
            "   macro avg       0.98      0.98      0.98       122\n",
            "weighted avg       0.98      0.98      0.98       122\n",
            "\n"
          ],
          "name": "stdout"
        },
        {
          "output_type": "stream",
          "text": [
            "/usr/local/lib/python3.6/dist-packages/sklearn/linear_model/_logistic.py:940: ConvergenceWarning: lbfgs failed to converge (status=1):\n",
            "STOP: TOTAL NO. of ITERATIONS REACHED LIMIT.\n",
            "\n",
            "Increase the number of iterations (max_iter) or scale the data as shown in:\n",
            "    https://scikit-learn.org/stable/modules/preprocessing.html\n",
            "Please also refer to the documentation for alternative solver options:\n",
            "    https://scikit-learn.org/stable/modules/linear_model.html#logistic-regression\n",
            "  extra_warning_msg=_LOGISTIC_SOLVER_CONVERGENCE_MSG)\n"
          ],
          "name": "stderr"
        }
      ]
    },
    {
      "cell_type": "markdown",
      "metadata": {
        "id": "FqI-MeM_zd-V",
        "colab_type": "text"
      },
      "source": [
        "##**Save Model**"
      ]
    },
    {
      "cell_type": "code",
      "metadata": {
        "id": "nl5CGdQTxyQP",
        "colab_type": "code",
        "colab": {}
      },
      "source": [
        "import pickle\n",
        "f = open('/content/drive/My Drive/CS114/FaceMask/FaceMask_LogicticsRegression/Model_LR/FaceDataset.pkl', 'wb')\n",
        "pickle.dump(model_Logic, f)"
      ],
      "execution_count": 94,
      "outputs": []
    },
    {
      "cell_type": "code",
      "metadata": {
        "id": "62CT7DIhywGx",
        "colab_type": "code",
        "colab": {}
      },
      "source": [
        ""
      ],
      "execution_count": null,
      "outputs": []
    }
  ]
}