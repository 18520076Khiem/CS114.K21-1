{
  "nbformat": 4,
  "nbformat_minor": 0,
  "metadata": {
    "colab": {
      "name": "FaceMask_LR_Model.ipynb",
      "provenance": [],
      "collapsed_sections": [],
      "authorship_tag": "ABX9TyMiTs8tFy8+Wq47ncEPlgwo",
      "include_colab_link": true
    },
    "kernelspec": {
      "name": "python3",
      "display_name": "Python 3"
    }
  },
  "cells": [
    {
      "cell_type": "markdown",
      "metadata": {
        "id": "view-in-github",
        "colab_type": "text"
      },
      "source": [
        "<a href=\"https://colab.research.google.com/github/Hoangthang017/CS114.K21/blob/master/FaceMask_LR/FaceMask_LR_Model.ipynb\" target=\"_parent\"><img src=\"https://colab.research.google.com/assets/colab-badge.svg\" alt=\"Open In Colab\"/></a>"
      ]
    },
    {
      "cell_type": "markdown",
      "metadata": {
        "id": "qsNMaY8f0mp-",
        "colab_type": "text"
      },
      "source": [
        "#**Xây dựng model**"
      ]
    },
    {
      "cell_type": "markdown",
      "metadata": {
        "id": "TW5rhsCO0eTB",
        "colab_type": "text"
      },
      "source": [
        "##**Mount drive**"
      ]
    },
    {
      "cell_type": "code",
      "metadata": {
        "id": "Xqg9Yk7hvT7a",
        "colab_type": "code",
        "colab": {
          "base_uri": "https://localhost:8080/",
          "height": 121
        },
        "outputId": "ec702b26-472c-49c7-c8e5-0b88ff3b78b4"
      },
      "source": [
        "from google.colab import drive\n",
        "drive.mount('/content/drive')"
      ],
      "execution_count": 1,
      "outputs": [
        {
          "output_type": "stream",
          "text": [
            "Go to this URL in a browser: https://accounts.google.com/o/oauth2/auth?client_id=947318989803-6bn6qk8qdgf4n4g3pfee6491hc0brc4i.apps.googleusercontent.com&redirect_uri=urn%3aietf%3awg%3aoauth%3a2.0%3aoob&response_type=code&scope=email%20https%3a%2f%2fwww.googleapis.com%2fauth%2fdocs.test%20https%3a%2f%2fwww.googleapis.com%2fauth%2fdrive%20https%3a%2f%2fwww.googleapis.com%2fauth%2fdrive.photos.readonly%20https%3a%2f%2fwww.googleapis.com%2fauth%2fpeopleapi.readonly\n",
            "\n",
            "Enter your authorization code:\n",
            "··········\n",
            "Mounted at /content/drive\n"
          ],
          "name": "stdout"
        }
      ]
    },
    {
      "cell_type": "markdown",
      "metadata": {
        "id": "q9DfO4YX0YAM",
        "colab_type": "text"
      },
      "source": [
        "##**Các thư viện được sử dụng trong bài**"
      ]
    },
    {
      "cell_type": "code",
      "metadata": {
        "id": "ft0n3Yhtvtx9",
        "colab_type": "code",
        "colab": {}
      },
      "source": [
        "from sklearn.model_selection import train_test_split\n",
        "from sklearn.linear_model import LogisticRegression\n",
        "from sklearn.metrics import classification_report\n",
        "from imutils import paths\n",
        "import os\n",
        "import cv2\n",
        "import numpy as np"
      ],
      "execution_count": 10,
      "outputs": []
    },
    {
      "cell_type": "markdown",
      "metadata": {
        "id": "pNSUJPGCz7A4",
        "colab_type": "text"
      },
      "source": [
        "##**Load data từ Google Drive và tiền xử lí nó**"
      ]
    },
    {
      "cell_type": "markdown",
      "metadata": {
        "id": "iKqx1O090EV3",
        "colab_type": "text"
      },
      "source": [
        "###**Lấy đường dẫn file chưa data và khởi tạo 2 list data và label**"
      ]
    },
    {
      "cell_type": "code",
      "metadata": {
        "id": "3FS_R5rxvkr7",
        "colab_type": "code",
        "colab": {
          "base_uri": "https://localhost:8080/",
          "height": 34
        },
        "outputId": "93e260a8-b87b-46d5-dccc-12d5b3213f03"
      },
      "source": [
        "# load dataset \n",
        "print(\"[INFO] loading images...\")\n",
        "imagePaths = list(paths.list_images('/content/drive/My Drive/CS114/FaceMask/dataset'))\n",
        "\n",
        "# khởi tạo dữ liệu\n",
        "data = []\n",
        "\n",
        "# khởi tạo label ứng với dữ liệu\n",
        "labels = []"
      ],
      "execution_count": 4,
      "outputs": [
        {
          "output_type": "stream",
          "text": [
            "[INFO] loading images...\n"
          ],
          "name": "stdout"
        }
      ]
    },
    {
      "cell_type": "markdown",
      "metadata": {
        "id": "vKdNLEZl0OGc",
        "colab_type": "text"
      },
      "source": [
        "##**Load từng ảnh từ file và pre_process nó**"
      ]
    },
    {
      "cell_type": "code",
      "metadata": {
        "id": "SHR4Lj9NvwJo",
        "colab_type": "code",
        "colab": {}
      },
      "source": [
        "# Vòng lặp để load dữ liệu \n",
        "i = 0\n",
        "for imagePath in imagePaths:\n",
        "\t# lấy nhãn từ đường dẫn tệp\n",
        "\tlabel = imagePath.split(os.path.sep)[-2]\n",
        "\n",
        "\t# load hình ảnh ở dạng PIL(Python Imaging Library) \n",
        "\t# Thay đổi kích thước ảnh đầu vào dạng 244 x 244 pixels\n",
        "\timage = cv2.imread(imagePath)\n",
        "\t\n",
        "\timage = cv2.resize(image,(32,32)).flatten()\n",
        "\t\n",
        " # đẩy dữ liệu vào data và label \n",
        "\tdata.append(image)\n",
        " \n",
        "\tif (label == \"with_mask\"):\n",
        "\t\t\tlabel = 1\n",
        "\telse:\n",
        "\t\t\tlabel = 0\n",
        "\n",
        "\tlabels.append(label)\n",
        " \n",
        "\ti += 1\n",
        "\n",
        "\tprint(\"done \",i)"
      ],
      "execution_count": null,
      "outputs": []
    },
    {
      "cell_type": "markdown",
      "metadata": {
        "id": "RRVAJAANzyql",
        "colab_type": "text"
      },
      "source": [
        "##**Chuyển data và label sang dạng mảng**"
      ]
    },
    {
      "cell_type": "code",
      "metadata": {
        "id": "h-JLUE0Vv7le",
        "colab_type": "code",
        "colab": {
          "base_uri": "https://localhost:8080/",
          "height": 168
        },
        "outputId": "6dd3c37e-df48-4a13-80a0-9edfbb0f2835"
      },
      "source": [
        "# chuyển label và data sang dạng mảng \n",
        "labels = np.array(labels)\n",
        "labels = labels.reshape(-1,1)\n",
        "print(labels.shape)\n",
        "data = np.array(data)\n",
        "print(data)\n",
        "print(data.shape)"
      ],
      "execution_count": 8,
      "outputs": [
        {
          "output_type": "stream",
          "text": [
            "(1376, 1)\n",
            "[[255 255 255 ... 136 137 156]\n",
            " [  0   0   0 ...   0   0   0]\n",
            " [151 193 216 ... 159 200 223]\n",
            " ...\n",
            " [ 90 136  79 ... 124  69 250]\n",
            " [251 255 255 ... 255 255 255]\n",
            " [252 254 254 ...  63  89  93]]\n",
            "(1376, 3072)\n"
          ],
          "name": "stdout"
        }
      ]
    },
    {
      "cell_type": "markdown",
      "metadata": {
        "id": "8SR7e3pCzsw_",
        "colab_type": "text"
      },
      "source": [
        "##**Chia dữ liệu thành 2 phần train và test**"
      ]
    },
    {
      "cell_type": "code",
      "metadata": {
        "id": "HVkhpzTYwI5-",
        "colab_type": "code",
        "colab": {}
      },
      "source": [
        "# chia đữ liệu thành 80% để train và 20% để test\n",
        "(trainX, testX, trainY, testY) = train_test_split(data, labels, test_size=0.2, stratify=labels, random_state=32)"
      ],
      "execution_count": 11,
      "outputs": []
    },
    {
      "cell_type": "code",
      "metadata": {
        "id": "5Kk-xK_NwMe2",
        "colab_type": "code",
        "colab": {
          "base_uri": "https://localhost:8080/",
          "height": 151
        },
        "outputId": "76ea1726-be15-4cfc-c59a-7561c7801824"
      },
      "source": [
        "print(trainX.shape)\n",
        "print(trainX)"
      ],
      "execution_count": 12,
      "outputs": [
        {
          "output_type": "stream",
          "text": [
            "(1100, 3072)\n",
            "[[251 255 255 ...  25  19  20]\n",
            " [252 250 252 ...  68  57  59]\n",
            " [  7   9  20 ... 154 163 176]\n",
            " ...\n",
            " [ 60  64  97 ... 141  56  29]\n",
            " [240 242 242 ... 225 224 226]\n",
            " [195 208 208 ... 217 208 195]]\n"
          ],
          "name": "stdout"
        }
      ]
    },
    {
      "cell_type": "markdown",
      "metadata": {
        "id": "UL7k8zelzkvx",
        "colab_type": "text"
      },
      "source": [
        "##**Training và đánh giá model**"
      ]
    },
    {
      "cell_type": "code",
      "metadata": {
        "id": "2VgB_cDwwPxK",
        "colab_type": "code",
        "colab": {
          "base_uri": "https://localhost:8080/",
          "height": 356
        },
        "outputId": "68e7e621-0598-45cf-9cb4-10d6b4e247aa"
      },
      "source": [
        "# training model \n",
        "model_Logic = LogisticRegression()\n",
        "model_Logic.fit(trainX,trainY)\n",
        "print(classification_report(testY, model_Logic.predict(testX)))"
      ],
      "execution_count": 13,
      "outputs": [
        {
          "output_type": "stream",
          "text": [
            "/usr/local/lib/python3.6/dist-packages/sklearn/utils/validation.py:760: DataConversionWarning: A column-vector y was passed when a 1d array was expected. Please change the shape of y to (n_samples, ), for example using ravel().\n",
            "  y = column_or_1d(y, warn=True)\n"
          ],
          "name": "stderr"
        },
        {
          "output_type": "stream",
          "text": [
            "              precision    recall  f1-score   support\n",
            "\n",
            "           0       0.96      0.93      0.95       138\n",
            "           1       0.94      0.96      0.95       138\n",
            "\n",
            "    accuracy                           0.95       276\n",
            "   macro avg       0.95      0.95      0.95       276\n",
            "weighted avg       0.95      0.95      0.95       276\n",
            "\n"
          ],
          "name": "stdout"
        },
        {
          "output_type": "stream",
          "text": [
            "/usr/local/lib/python3.6/dist-packages/sklearn/linear_model/_logistic.py:940: ConvergenceWarning: lbfgs failed to converge (status=1):\n",
            "STOP: TOTAL NO. of ITERATIONS REACHED LIMIT.\n",
            "\n",
            "Increase the number of iterations (max_iter) or scale the data as shown in:\n",
            "    https://scikit-learn.org/stable/modules/preprocessing.html\n",
            "Please also refer to the documentation for alternative solver options:\n",
            "    https://scikit-learn.org/stable/modules/linear_model.html#logistic-regression\n",
            "  extra_warning_msg=_LOGISTIC_SOLVER_CONVERGENCE_MSG)\n"
          ],
          "name": "stderr"
        }
      ]
    },
    {
      "cell_type": "markdown",
      "metadata": {
        "id": "FqI-MeM_zd-V",
        "colab_type": "text"
      },
      "source": [
        "##**Save Model**"
      ]
    },
    {
      "cell_type": "code",
      "metadata": {
        "id": "nl5CGdQTxyQP",
        "colab_type": "code",
        "colab": {}
      },
      "source": [
        "import pickle\n",
        "f = open('/content/drive/My Drive/CS114/FaceMask/Model_LR/Model_LR.pkl', 'wb')\n",
        "pickle.dump(model_Logic, f)"
      ],
      "execution_count": 15,
      "outputs": []
    }
  ]
}