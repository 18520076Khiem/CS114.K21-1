{
  "nbformat": 4,
  "nbformat_minor": 0,
  "metadata": {
    "colab": {
      "name": "FaceMask_LR_Model.ipynb",
      "provenance": [],
      "collapsed_sections": [],
      "toc_visible": true,
      "authorship_tag": "ABX9TyOWjpO9zBII4nCqxW1ZUbH9",
      "include_colab_link": true
    },
    "kernelspec": {
      "name": "python3",
      "display_name": "Python 3"
    }
  },
  "cells": [
    {
      "cell_type": "markdown",
      "metadata": {
        "id": "view-in-github",
        "colab_type": "text"
      },
      "source": [
        "<a href=\"https://colab.research.google.com/github/Hoangthang017/CS114.K21/blob/master/FaceMask_LR/FaceMask_LR_Model.ipynb\" target=\"_parent\"><img src=\"https://colab.research.google.com/assets/colab-badge.svg\" alt=\"Open In Colab\"/></a>"
      ]
    },
    {
      "cell_type": "markdown",
      "metadata": {
        "id": "qsNMaY8f0mp-",
        "colab_type": "text"
      },
      "source": [
        "#**Xây dựng model**"
      ]
    },
    {
      "cell_type": "markdown",
      "metadata": {
        "id": "TW5rhsCO0eTB",
        "colab_type": "text"
      },
      "source": [
        "##**Mount drive**"
      ]
    },
    {
      "cell_type": "code",
      "metadata": {
        "id": "Xqg9Yk7hvT7a",
        "colab_type": "code",
        "colab": {
          "base_uri": "https://localhost:8080/",
          "height": 34
        },
        "outputId": "58820e9e-c3a7-4edc-b63d-6f6447dd68eb"
      },
      "source": [
        "from google.colab import drive\n",
        "drive.mount('/content/drive')"
      ],
      "execution_count": 22,
      "outputs": [
        {
          "output_type": "stream",
          "text": [
            "Drive already mounted at /content/drive; to attempt to forcibly remount, call drive.mount(\"/content/drive\", force_remount=True).\n"
          ],
          "name": "stdout"
        }
      ]
    },
    {
      "cell_type": "markdown",
      "metadata": {
        "id": "q9DfO4YX0YAM",
        "colab_type": "text"
      },
      "source": [
        "##**Các thư viện được sử dụng trong bài**"
      ]
    },
    {
      "cell_type": "code",
      "metadata": {
        "id": "ft0n3Yhtvtx9",
        "colab_type": "code",
        "colab": {}
      },
      "source": [
        "from sklearn.model_selection import train_test_split\n",
        "from sklearn.linear_model import LogisticRegression\n",
        "from sklearn.metrics import classification_report\n",
        "from imutils import paths\n",
        "import os\n",
        "import cv2\n",
        "import numpy as np"
      ],
      "execution_count": 23,
      "outputs": []
    },
    {
      "cell_type": "markdown",
      "metadata": {
        "id": "pNSUJPGCz7A4",
        "colab_type": "text"
      },
      "source": [
        "##**Load data từ Google Drive và tiền xử lí nó**"
      ]
    },
    {
      "cell_type": "markdown",
      "metadata": {
        "id": "iKqx1O090EV3",
        "colab_type": "text"
      },
      "source": [
        "###**Lấy đường dẫn file chưa data và khởi tạo 2 list data và label**"
      ]
    },
    {
      "cell_type": "code",
      "metadata": {
        "id": "3FS_R5rxvkr7",
        "colab_type": "code",
        "colab": {
          "base_uri": "https://localhost:8080/",
          "height": 34
        },
        "outputId": "af6516ce-ef4f-4e39-b701-742a282e8999"
      },
      "source": [
        "# load dataset \n",
        "print(\"[INFO] loading images...\")\n",
        "\n",
        "# lấy link ảnh có khẩu trang và không có khẩu trang\n",
        "imagePaths_Mask = list(paths.list_images('/content/drive/My Drive/CS114/FaceMask/FaceMask_LogicticsRegression/Datasets/Mask'))\n",
        "imagePaths_No_Mask =  list(paths.list_images('/content/drive/My Drive/CS114/FaceMask/FaceMask_LogicticsRegression/Datasets/Without_mask'))\n",
        "\n",
        "# hợp nhất 2 link vào 1 file\n",
        "imagePaths = imagePaths_Mask + imagePaths_No_Mask\n",
        "\n",
        "# khởi tạo dữ liệu\n",
        "data = []\n",
        "\n",
        "# khởi tạo label ứng với dữ liệu\n",
        "labels = []"
      ],
      "execution_count": 95,
      "outputs": [
        {
          "output_type": "stream",
          "text": [
            "[INFO] loading images...\n"
          ],
          "name": "stdout"
        }
      ]
    },
    {
      "cell_type": "markdown",
      "metadata": {
        "id": "vKdNLEZl0OGc",
        "colab_type": "text"
      },
      "source": [
        "##**Load từng ảnh từ file và pre_process nó**"
      ]
    },
    {
      "cell_type": "code",
      "metadata": {
        "id": "SHR4Lj9NvwJo",
        "colab_type": "code",
        "colab": {}
      },
      "source": [
        "# Vòng lặp để load dữ liệu \n",
        "\n",
        "for imagePath in imagePaths:\n",
        "\t# lấy nhãn từ đường dẫn tệp\n",
        "\tlabel = imagePath.split(os.path.sep)[-2]\n",
        "\n",
        "\t# load hình ảnh \n",
        "\timage = cv2.imread(imagePath)\n",
        "\t\n",
        "\t# preprocess ảnh\n",
        "\timage = cv2.resize(image,(32,32)).flatten()\n",
        "\t\n",
        "  # đẩy dữ liệu vào data và label \n",
        "\tdata.append(image)\n",
        " \n",
        "\t# Gán label\n",
        "\tif (label == \"Mask\"):\n",
        "\t\t\tlabel = 1\n",
        "\telse:\n",
        "\t\t\tlabel = 0\n",
        "\n",
        "\t# đẩy label vào\n",
        "\tlabels.append(label)"
      ],
      "execution_count": 96,
      "outputs": []
    },
    {
      "cell_type": "markdown",
      "metadata": {
        "id": "RRVAJAANzyql",
        "colab_type": "text"
      },
      "source": [
        "##**Chuyển data và label sang dạng mảng**"
      ]
    },
    {
      "cell_type": "code",
      "metadata": {
        "id": "h-JLUE0Vv7le",
        "colab_type": "code",
        "colab": {
          "base_uri": "https://localhost:8080/",
          "height": 151
        },
        "outputId": "8d1ac046-f119-46ab-f46a-1bc94fe02f88"
      },
      "source": [
        "# chuyển label và data sang dạng mảng \n",
        "labels = np.array(labels)\n",
        "labels = labels.reshape(-1,1)\n",
        "data = np.array(data)\n",
        "\n",
        "print(data)\n",
        "print(data.shape)"
      ],
      "execution_count": 90,
      "outputs": [
        {
          "output_type": "stream",
          "text": [
            "[[ 26  35  45 ...  42  52  60]\n",
            " [  8   9  13 ...  72  96 126]\n",
            " [ 24  20  19 ... 114  91  75]\n",
            " ...\n",
            " [127 132 142 ...  64  54  77]\n",
            " [ 12  26  29 ... 120 127 170]\n",
            " [226 213 219 ...  50  57  86]]\n",
            "(485, 3072)\n"
          ],
          "name": "stdout"
        }
      ]
    },
    {
      "cell_type": "markdown",
      "metadata": {
        "id": "8SR7e3pCzsw_",
        "colab_type": "text"
      },
      "source": [
        "##**Chia dữ liệu thành 2 phần train và test**"
      ]
    },
    {
      "cell_type": "code",
      "metadata": {
        "id": "HVkhpzTYwI5-",
        "colab_type": "code",
        "colab": {}
      },
      "source": [
        "# chia đữ liệu thành 80% để train và 20% để test\n",
        "(trainX, testX, trainY, testY) = train_test_split(data, labels, test_size=0.25, stratify=labels, random_state=1)"
      ],
      "execution_count": 91,
      "outputs": []
    },
    {
      "cell_type": "code",
      "metadata": {
        "id": "5Kk-xK_NwMe2",
        "colab_type": "code",
        "colab": {
          "base_uri": "https://localhost:8080/",
          "height": 168
        },
        "outputId": "f433add8-fa8e-4c6a-d9a2-5269bcbc5f49"
      },
      "source": [
        "print(trainX.shape)\n",
        "print(testX.shape)\n",
        "print(trainX)"
      ],
      "execution_count": 92,
      "outputs": [
        {
          "output_type": "stream",
          "text": [
            "(363, 3072)\n",
            "(122, 3072)\n",
            "[[157 151 156 ...  91  92 205]\n",
            " [ 70  74  90 ...  47  69  89]\n",
            " [ 20  26  24 ...  82 134  92]\n",
            " ...\n",
            " [171 174 208 ...  13  26 197]\n",
            " [  5   1   7 ...  27   7  52]\n",
            " [ 21  39  34 ...  78  99 132]]\n"
          ],
          "name": "stdout"
        }
      ]
    },
    {
      "cell_type": "markdown",
      "metadata": {
        "id": "UL7k8zelzkvx",
        "colab_type": "text"
      },
      "source": [
        "##**Training và đánh giá model**"
      ]
    },
    {
      "cell_type": "code",
      "metadata": {
        "id": "2VgB_cDwwPxK",
        "colab_type": "code",
        "colab": {
          "base_uri": "https://localhost:8080/",
          "height": 356
        },
        "outputId": "4e625874-8483-47ff-8c23-46aa93582d5b"
      },
      "source": [
        "# training model \n",
        "model_Logic = LogisticRegression()\n",
        "model_Logic.fit(trainX,trainY)\n",
        "print(classification_report(testY, model_Logic.predict(testX)))"
      ],
      "execution_count": 93,
      "outputs": [
        {
          "output_type": "stream",
          "text": [
            "/usr/local/lib/python3.6/dist-packages/sklearn/utils/validation.py:760: DataConversionWarning: A column-vector y was passed when a 1d array was expected. Please change the shape of y to (n_samples, ), for example using ravel().\n",
            "  y = column_or_1d(y, warn=True)\n"
          ],
          "name": "stderr"
        },
        {
          "output_type": "stream",
          "text": [
            "              precision    recall  f1-score   support\n",
            "\n",
            "           0       0.99      0.99      0.99        71\n",
            "           1       0.98      0.98      0.98        51\n",
            "\n",
            "    accuracy                           0.98       122\n",
            "   macro avg       0.98      0.98      0.98       122\n",
            "weighted avg       0.98      0.98      0.98       122\n",
            "\n"
          ],
          "name": "stdout"
        },
        {
          "output_type": "stream",
          "text": [
            "/usr/local/lib/python3.6/dist-packages/sklearn/linear_model/_logistic.py:940: ConvergenceWarning: lbfgs failed to converge (status=1):\n",
            "STOP: TOTAL NO. of ITERATIONS REACHED LIMIT.\n",
            "\n",
            "Increase the number of iterations (max_iter) or scale the data as shown in:\n",
            "    https://scikit-learn.org/stable/modules/preprocessing.html\n",
            "Please also refer to the documentation for alternative solver options:\n",
            "    https://scikit-learn.org/stable/modules/linear_model.html#logistic-regression\n",
            "  extra_warning_msg=_LOGISTIC_SOLVER_CONVERGENCE_MSG)\n"
          ],
          "name": "stderr"
        }
      ]
    },
    {
      "cell_type": "markdown",
      "metadata": {
        "id": "FqI-MeM_zd-V",
        "colab_type": "text"
      },
      "source": [
        "##**Save Model**"
      ]
    },
    {
      "cell_type": "code",
      "metadata": {
        "id": "nl5CGdQTxyQP",
        "colab_type": "code",
        "colab": {}
      },
      "source": [
        "import pickle\n",
        "f = open('/content/drive/My Drive/CS114/FaceMask/FaceMask_LogicticsRegression/Model_LR/FaceDataset.pkl', 'wb')\n",
        "pickle.dump(model_Logic, f)"
      ],
      "execution_count": 94,
      "outputs": []
    },
    {
      "cell_type": "code",
      "metadata": {
        "id": "62CT7DIhywGx",
        "colab_type": "code",
        "colab": {}
      },
      "source": [
        ""
      ],
      "execution_count": null,
      "outputs": []
    }
  ]
}