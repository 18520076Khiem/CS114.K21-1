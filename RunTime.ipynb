{
  "nbformat": 4,
  "nbformat_minor": 0,
  "metadata": {
    "colab": {
      "name": "RunTime.ipynb",
      "provenance": [],
      "collapsed_sections": [],
      "authorship_tag": "ABX9TyPVGNx9zc2c75u8eLFnktRN",
      "include_colab_link": true
    },
    "kernelspec": {
      "name": "python3",
      "display_name": "Python 3"
    }
  },
  "cells": [
    {
      "cell_type": "markdown",
      "metadata": {
        "id": "view-in-github",
        "colab_type": "text"
      },
      "source": [
        "<a href=\"https://colab.research.google.com/github/Hoangthang017/CS114.K21/blob/master/RunTime.ipynb\" target=\"_parent\"><img src=\"https://colab.research.google.com/assets/colab-badge.svg\" alt=\"Open In Colab\"/></a>"
      ]
    },
    {
      "cell_type": "code",
      "metadata": {
        "id": "UnUAkvSlq1vH",
        "colab_type": "code",
        "colab": {}
      },
      "source": [
        "# import thư viện\n",
        "import numpy as np\n",
        "import matplotlib.pyplot as plt\n",
        "from sklearn.linear_model import LinearRegression\n",
        "from sklearn.model_selection import train_test_split\n",
        "from sklearn.metrics import mean_squared_error, r2_score"
      ],
      "execution_count": 0,
      "outputs": []
    },
    {
      "cell_type": "code",
      "metadata": {
        "id": "I1i8NddOvzOt",
        "colab_type": "code",
        "colab": {}
      },
      "source": [
        "# load và xử lí data\n",
        "\n",
        "url = 'http://cs.uit.edu.vn/data2.txt'\n",
        " \n",
        "Dataset = np.loadtxt(url , delimiter = ',')\n",
        "\n",
        "# chia dataset thành 2 phần X (feature) và Y(label)\n",
        "X = Dataset[:,np.newaxis:1]\n",
        "Y = Dataset[:,1:np.newaxis]\n",
        "\n",
        "# chia dữ liệu thành 2 phần train và test\n",
        "X_train , X_test, Y_train, Y_test = train_test_split(X,Y,test_size = 0.9, random_state = 1)\n"
      ],
      "execution_count": 0,
      "outputs": []
    },
    {
      "cell_type": "markdown",
      "metadata": {
        "id": "myi7CJVnvQhk",
        "colab_type": "text"
      },
      "source": [
        "# ***dùng hàm loadtxt của thư viện numpy để lấy dữ liệu từ url***"
      ]
    },
    {
      "cell_type": "code",
      "metadata": {
        "id": "mKj5Lbidyb0r",
        "colab_type": "code",
        "colab": {
          "base_uri": "https://localhost:8080/",
          "height": 280
        },
        "outputId": "e12cfb63-fc5a-4c92-e73f-5408890a9b38"
      },
      "source": [
        "# quan sát dữ liệu train\n",
        "plt.plot(X_train,Y_train,'.')\n",
        "\n",
        "plt.xlabel(\"Thời Gian Chạy\")\n",
        "plt.ylabel(\"Kích Thước\")\n",
        "\n",
        "plt.grid()\n",
        "plt.show()"
      ],
      "execution_count": 9,
      "outputs": [
        {
          "output_type": "display_data",
          "data": {
            "image/png": "[encoded data removed]",
            "text/plain": [
              "<Figure size 432x288 with 1 Axes>"
            ]
          },
          "metadata": {
            "tags": [],
            "needs_background": "light"
          }
        }
      ]
    },
    {
      "cell_type": "code",
      "metadata": {
        "id": "rIsFOTJSzjlr",
        "colab_type": "code",
        "colab": {}
      },
      "source": [
        "# xây dựng và đánh giá model\n",
        "\n",
        "# '''\n",
        "my_model = LinearRegression().fit(X_train,Y_train)\n",
        "result = my_model.predict(X_test)\n"
      ],
      "execution_count": 0,
      "outputs": []
    },
    {
      "cell_type": "markdown",
      "metadata": {
        "id": "u_sX4j1OvDKq",
        "colab_type": "text"
      },
      "source": [
        "# ***từ đồ thị trên ta có thấy thấy đây là data có label và dữ liệu đầu ra là 1 số liên tục nên chọn model là linear Regression***"
      ]
    },
    {
      "cell_type": "code",
      "metadata": {
        "id": "d6ZY9SJYtSjw",
        "colab_type": "code",
        "colab": {
          "base_uri": "https://localhost:8080/",
          "height": 67
        },
        "outputId": "6e931f88-d57a-41d4-b433-c75c5097acda"
      },
      "source": [
        "# Đánh giá model \n",
        "print(\"Hệ số w: \" , my_model.coef_)\n",
        "print(\"MSE : \" , mean_squared_error(Y_test,result))\n",
        "print(\"Độ chính xác: \" , r2_score(Y_test,result))"
      ],
      "execution_count": 11,
      "outputs": [
        {
          "output_type": "stream",
          "text": [
            "Hệ số w:  [[8.45491332e-08]]\n",
            "MSE :  0.0001434837802117181\n",
            "Độ chính xác:  0.9975915055673592\n"
          ],
          "name": "stdout"
        }
      ]
    },
    {
      "cell_type": "markdown",
      "metadata": {
        "id": "7WCR_iwMvcFl",
        "colab_type": "text"
      },
      "source": [
        "# ***Đánh giá model thông qua cost function (MSE) và độ chính xác ***\n",
        "# ***với độ chính xác lên đến 99% ta có thể đánh giá model khá tốt***"
      ]
    },
    {
      "cell_type": "code",
      "metadata": {
        "id": "hQBVkMgTkcce",
        "colab_type": "code",
        "colab": {
          "base_uri": "https://localhost:8080/",
          "height": 280
        },
        "outputId": "f70e5c06-36eb-4f64-f551-e6886d2883c3"
      },
      "source": [
        "# Đồ thị kết quả \n",
        "plt.plot(X_test,Y_test,'.',\n",
        "         X_test,result,'-')\n",
        "\n",
        "\n",
        "plt.xlabel(\"Thời Gian Chạy\")\n",
        "plt.ylabel(\"Kích Thước\")\n",
        "\n",
        "plt.grid()\n",
        "plt.show()"
      ],
      "execution_count": 12,
      "outputs": [
        {
          "output_type": "display_data",
          "data": {
            "image/png": "[encoded data removed]",
            "text/plain": [
              "<Figure size 432x288 with 1 Axes>"
            ]
          },
          "metadata": {
            "tags": [],
            "needs_background": "light"
          }
        }
      ]
    },
    {
      "cell_type": "code",
      "metadata": {
        "id": "ohW3qlrQxaEN",
        "colab_type": "code",
        "colab": {
          "base_uri": "https://localhost:8080/",
          "height": 67
        },
        "outputId": "96602755-c28b-42c4-a261-538a850db118"
      },
      "source": [
        "# dự đoán 1 giá trị ngoài Dataset\n",
        "X_new = float(input(\"Nhập giá trị bạn muốn dự đoán : \\n\"))\n",
        "\n",
        "Y_pred = my_model.predict([[X_new]])\n",
        "\n",
        "print('Thời gian chạy là : %.4f' % Y_pred)"
      ],
      "execution_count": 13,
      "outputs": [
        {
          "output_type": "stream",
          "text": [
            "Nhập giá trị bạn muốn dự đoán : \n",
            "231245123\n",
            "Thời gian chạy là : 19.5356\n"
          ],
          "name": "stdout"
        }
      ]
    },
    {
      "cell_type": "markdown",
      "metadata": {
        "id": "iR_icbA6vtjB",
        "colab_type": "text"
      },
      "source": [
        "# ***Dùng model trên sao đó nhập data chưa biết từ ngoài vào sao đó predict nó***"
      ]
    }
  ]
}