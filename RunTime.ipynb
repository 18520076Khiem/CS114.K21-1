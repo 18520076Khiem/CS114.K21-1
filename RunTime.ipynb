{
  "nbformat": 4,
  "nbformat_minor": 0,
  "metadata": {
    "colab": {
      "name": "RunTime.ipynb",
      "provenance": [],
      "authorship_tag": "ABX9TyNwt6vOMQPt1ItTAErngJGN",
      "include_colab_link": true
    },
    "kernelspec": {
      "name": "python3",
      "display_name": "Python 3"
    }
  },
  "cells": [
    {
      "cell_type": "markdown",
      "metadata": {
        "id": "view-in-github",
        "colab_type": "text"
      },
      "source": [
        "<a href=\"https://colab.research.google.com/github/Hoangthang017/CS114.K21/blob/master/RunTime.ipynb\" target=\"_parent\"><img src=\"https://colab.research.google.com/assets/colab-badge.svg\" alt=\"Open In Colab\"/></a>"
      ]
    },
    {
      "cell_type": "code",
      "metadata": {
        "id": "UnUAkvSlq1vH",
        "colab_type": "code",
        "colab": {}
      },
      "source": [
        "# import thư viện\n",
        "import numpy as np\n",
        "import matplotlib.pyplot as plt\n",
        "from sklearn.linear_model import LinearRegression\n",
        "from sklearn.model_selection import train_test_split\n",
        "from sklearn.metrics import mean_squared_error, r2_score"
      ],
      "execution_count": 0,
      "outputs": []
    },
    {
      "cell_type": "code",
      "metadata": {
        "id": "I1i8NddOvzOt",
        "colab_type": "code",
        "outputId": "e87ca7c0-adb7-4a88-c525-62a1681bc48a",
        "colab": {
          "base_uri": "https://localhost:8080/",
          "height": 50
        }
      },
      "source": [
        "# load và xử lí data\n",
        "url = 'https://cs.uit.edu.vn/data.txt'\n",
        "Dataset = np.loadtxt(url , delimiter = ',')\n",
        "X = Dataset[:,np.newaxis:1]\n",
        "Y = Dataset[:,1:np.newaxis]\n",
        "X_train , X_test, Y_train, Y_test = train_test_split(X,Y,test_size = 0.1, random_state =0)\n",
        "print(X_train.shape)\n",
        "print(X_test.shape)"
      ],
      "execution_count": 131,
      "outputs": [
        {
          "output_type": "stream",
          "text": [
            "(4689, 1)\n",
            "(522, 1)\n"
          ],
          "name": "stdout"
        }
      ]
    },
    {
      "cell_type": "code",
      "metadata": {
        "id": "mKj5Lbidyb0r",
        "colab_type": "code",
        "outputId": "87c6dc47-f2a5-4921-e5cf-106debe54ee6",
        "colab": {
          "base_uri": "https://localhost:8080/",
          "height": 280
        }
      },
      "source": [
        "# đồ thị dữ liệu train\n",
        "plt.scatter(X_train,Y_train,color = 'black')\n",
        "\n",
        "plt.xlabel(\"Thời Gian Chạy\")\n",
        "plt.ylabel(\"Kích Thước\")\n",
        "\n",
        "plt.show()"
      ],
      "execution_count": 132,
      "outputs": [
        {
          "output_type": "display_data",
          "data": {
            "image/png": "[encoded data removed]",
            "text/plain": [
              "<Figure size 432x288 with 1 Axes>"
            ]
          },
          "metadata": {
            "tags": [],
            "needs_background": "light"
          }
        }
      ]
    },
    {
      "cell_type": "code",
      "metadata": {
        "id": "rIsFOTJSzjlr",
        "colab_type": "code",
        "outputId": "ec9429af-0f43-4a79-d9f2-d21b8ff89432",
        "colab": {
          "base_uri": "https://localhost:8080/",
          "height": 67
        }
      },
      "source": [
        "# xây dựng và đánh giá model\n",
        "my_model = LinearRegression()\n",
        "my_model = my_model.fit(X_train,Y_train)\n",
        "result = my_model.predict(X_test)\n",
        "print(\"Coefficients\", my_model.coef_)\n",
        "print(\"Mean squared error : %.2f\" % mean_squared_error(Y_test,result))\n",
        "print(\"Coefficient of determination: %.2f\" % r2_score(Y_test,result))"
      ],
      "execution_count": 133,
      "outputs": [
        {
          "output_type": "stream",
          "text": [
            "Coefficients [[2.84043484e-07]]\n",
            "Mean squared error : 0.00\n",
            "Coefficient of determination: 1.00\n"
          ],
          "name": "stdout"
        }
      ]
    },
    {
      "cell_type": "code",
      "metadata": {
        "id": "hQBVkMgTkcce",
        "colab_type": "code",
        "colab": {
          "base_uri": "https://localhost:8080/",
          "height": 263
        },
        "outputId": "a6aa1777-c2db-41fb-aa09-b90f183b2b96"
      },
      "source": [
        "# Đồ thị kết quả \n",
        "plt.scatter(X_test, Y_test,color='black')\n",
        "plt.plot(X_test,result,color='blue',linewidth=3)\n",
        "\n",
        "plt.xticks(())\n",
        "plt.yticks(())\n",
        "\n",
        "plt.xlabel(\"Thời Gian Chạy\")\n",
        "plt.ylabel(\"Kích Thước\")\n",
        "\n",
        "\n",
        "plt.show()"
      ],
      "execution_count": 134,
      "outputs": [
        {
          "output_type": "display_data",
          "data": {
            "image/png": "[encoded data removed]",
            "text/plain": [
              "<Figure size 432x288 with 1 Axes>"
            ]
          },
          "metadata": {
            "tags": []
          }
        }
      ]
    },
    {
      "cell_type": "code",
      "metadata": {
        "id": "ohW3qlrQxaEN",
        "colab_type": "code",
        "colab": {
          "base_uri": "https://localhost:8080/",
          "height": 67
        },
        "outputId": "4d6a30b8-4b15-47b9-ec8c-fa44a92f78b1"
      },
      "source": [
        "# dự đoán 1 giá trị ngoài Dataset\n",
        "X_new = float(input(\"Nhập giá trị bạn muốn dự đoán : \\n\"))\n",
        "\n",
        "Y_pred = my_model.predict([[X_new]])\n",
        "\n",
        "print('Thời gian chạy là : %.2f' % Y_pred)"
      ],
      "execution_count": 135,
      "outputs": [
        {
          "output_type": "stream",
          "text": [
            "Nhập giá trị bạn muốn dự đoán : \n",
            "98980912\n",
            "Thời gian chạy là : 28.06\n"
          ],
          "name": "stdout"
        }
      ]
    },
    {
      "cell_type": "code",
      "metadata": {
        "id": "SPEkyfC5yZ1u",
        "colab_type": "code",
        "colab": {}
      },
      "source": [
        ""
      ],
      "execution_count": 0,
      "outputs": []
    }
  ]
}