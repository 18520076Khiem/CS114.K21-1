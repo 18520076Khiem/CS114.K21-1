{
  "nbformat": 4,
  "nbformat_minor": 0,
  "metadata": {
    "colab": {
      "name": "RunTime.ipynb",
      "provenance": [],
      "authorship_tag": "ABX9TyNGqN9r4aVhCQAtbjfHmAmj",
      "include_colab_link": true
    },
    "kernelspec": {
      "name": "python3",
      "display_name": "Python 3"
    }
  },
  "cells": [
    {
      "cell_type": "markdown",
      "metadata": {
        "id": "view-in-github",
        "colab_type": "text"
      },
      "source": [
        "<a href=\"https://colab.research.google.com/github/Hoangthang017/CS114.K21/blob/master/RunTime.ipynb\" target=\"_parent\"><img src=\"https://colab.research.google.com/assets/colab-badge.svg\" alt=\"Open In Colab\"/></a>"
      ]
    },
    {
      "cell_type": "code",
      "metadata": {
        "id": "UnUAkvSlq1vH",
        "colab_type": "code",
        "colab": {}
      },
      "source": [
        "# import thư viện\n",
        "import numpy as np\n",
        "import matplotlib.pyplot as plt\n",
        "from sklearn.linear_model import LinearRegression\n",
        "from sklearn.model_selection import train_test_split\n",
        "from sklearn.metrics import mean_squared_error, r2_score"
      ],
      "execution_count": 0,
      "outputs": []
    },
    {
      "cell_type": "code",
      "metadata": {
        "id": "I1i8NddOvzOt",
        "colab_type": "code",
        "colab": {}
      },
      "source": [
        "# load và xử lí data\n",
        "url = 'https://cs.uit.edu.vn/data.txt'\n",
        "Dataset = np.loadtxt(url , delimiter = ',')\n",
        "X = Dataset[:,np.newaxis:1]\n",
        "Y = Dataset[:,1:np.newaxis]\n",
        "X_train , X_test, Y_train, Y_test = train_test_split(X,Y,test_size = 0.01, random_state = 1)"
      ],
      "execution_count": 0,
      "outputs": []
    },
    {
      "cell_type": "code",
      "metadata": {
        "id": "mKj5Lbidyb0r",
        "colab_type": "code",
        "outputId": "326228b0-4725-49e2-ac9c-a5b08f0221b0",
        "colab": {
          "base_uri": "https://localhost:8080/",
          "height": 280
        }
      },
      "source": [
        "# đồ thị dữ liệu train\n",
        "plt.plot(X_train,Y_train,'.')\n",
        "\n",
        "plt.xlabel(\"Thời Gian Chạy\")\n",
        "plt.ylabel(\"Kích Thước\")\n",
        "\n",
        "plt.grid()\n",
        "plt.show()"
      ],
      "execution_count": 50,
      "outputs": [
        {
          "output_type": "display_data",
          "data": {
            "image/png": "[encoded data removed]",
            "text/plain": [
              "<Figure size 432x288 with 1 Axes>"
            ]
          },
          "metadata": {
            "tags": [],
            "needs_background": "light"
          }
        }
      ]
    },
    {
      "cell_type": "code",
      "metadata": {
        "id": "rIsFOTJSzjlr",
        "colab_type": "code",
        "outputId": "4dbd3395-475a-47f3-8c0c-0564c5256afa",
        "colab": {
          "base_uri": "https://localhost:8080/",
          "height": 67
        }
      },
      "source": [
        "# xây dựng và đánh giá model\n",
        "my_model = LinearRegression().fit(X_train,Y_train)\n",
        "result = my_model.predict(X_test)\n",
        "\n",
        "print(\"Hệ số w: \" , my_model.coef_)\n",
        "print(\"MSE : \" , mean_squared_error(Y_test,result))\n",
        "print(\"Độ chính xác: \" , r2_score(Y_test,result))"
      ],
      "execution_count": 51,
      "outputs": [
        {
          "output_type": "stream",
          "text": [
            "Hệ số w:  [[2.84044879e-07]]\n",
            "MSE :  0.0016301267222968551\n",
            "Độ chính xác:  0.9973968586398848\n"
          ],
          "name": "stdout"
        }
      ]
    },
    {
      "cell_type": "code",
      "metadata": {
        "id": "hQBVkMgTkcce",
        "colab_type": "code",
        "outputId": "ec6119d6-da24-426e-c559-d22067c685b1",
        "colab": {
          "base_uri": "https://localhost:8080/",
          "height": 280
        }
      },
      "source": [
        "# Đồ thị kết quả \n",
        "plt.plot(X_test,Y_test,'.',\n",
        "         X_test,result,'-')\n",
        "\n",
        "\n",
        "plt.xlabel(\"Thời Gian Chạy\")\n",
        "plt.ylabel(\"Kích Thước\")\n",
        "\n",
        "plt.grid()\n",
        "plt.show()"
      ],
      "execution_count": 52,
      "outputs": [
        {
          "output_type": "display_data",
          "data": {
            "image/png": "[encoded data removed]",
            "text/plain": [
              "<Figure size 432x288 with 1 Axes>"
            ]
          },
          "metadata": {
            "tags": [],
            "needs_background": "light"
          }
        }
      ]
    },
    {
      "cell_type": "code",
      "metadata": {
        "id": "ohW3qlrQxaEN",
        "colab_type": "code",
        "outputId": "8c613c93-3cf3-4556-a5bb-cc511772e607",
        "colab": {
          "base_uri": "https://localhost:8080/",
          "height": 67
        }
      },
      "source": [
        "# dự đoán 1 giá trị ngoài Dataset\n",
        "X_new = float(input(\"Nhập giá trị bạn muốn dự đoán : \\n\"))\n",
        "\n",
        "Y_pred = my_model.predict([[X_new]])\n",
        "\n",
        "print('Thời gian chạy là : %.4f' % Y_pred)"
      ],
      "execution_count": 53,
      "outputs": [
        {
          "output_type": "stream",
          "text": [
            "Nhập giá trị bạn muốn dự đoán : \n",
            "91238421731723\n",
            "Thời gian chạy là : 25915806.4137\n"
          ],
          "name": "stdout"
        }
      ]
    }
  ]
}