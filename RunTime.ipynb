{
  "nbformat": 4,
  "nbformat_minor": 0,
  "metadata": {
    "colab": {
      "name": "RunTime.ipynb",
      "provenance": [],
      "authorship_tag": "ABX9TyOfS5FAod7+kfRdOWM0/DvX",
      "include_colab_link": true
    },
    "kernelspec": {
      "name": "python3",
      "display_name": "Python 3"
    }
  },
  "cells": [
    {
      "cell_type": "markdown",
      "metadata": {
        "id": "view-in-github",
        "colab_type": "text"
      },
      "source": [
        "<a href=\"https://colab.research.google.com/github/Hoangthang017/CS114.K21/blob/master/RunTime.ipynb\" target=\"_parent\"><img src=\"https://colab.research.google.com/assets/colab-badge.svg\" alt=\"Open In Colab\"/></a>"
      ]
    },
    {
      "cell_type": "code",
      "metadata": {
        "id": "UnUAkvSlq1vH",
        "colab_type": "code",
        "colab": {}
      },
      "source": [
        "# import thư viện\n",
        "import numpy as np\n",
        "import matplotlib.pyplot as plt\n",
        "from sklearn.linear_model import LinearRegression\n",
        "from sklearn.model_selection import train_test_split\n",
        "from sklearn.metrics import mean_squared_error, r2_score"
      ],
      "execution_count": 0,
      "outputs": []
    },
    {
      "cell_type": "code",
      "metadata": {
        "id": "I1i8NddOvzOt",
        "colab_type": "code",
        "outputId": "fcf411f5-74de-425b-8456-99b5f70fa7c7",
        "colab": {
          "base_uri": "https://localhost:8080/",
          "height": 50
        }
      },
      "source": [
        "# load và xử lí data\n",
        "url = 'https://cs.uit.edu.vn/data.txt'\n",
        "Dataset = np.loadtxt(url , delimiter = ',')\n",
        "X = Dataset[:,np.newaxis:1]\n",
        "Y = Dataset[:,1:np.newaxis]\n",
        "X_train , X_test, Y_train, Y_test = train_test_split(X,Y,test_size = 0.1, random_state =0)\n",
        "print(X_train.shape)\n",
        "print(X_test.shape)"
      ],
      "execution_count": 117,
      "outputs": [
        {
          "output_type": "stream",
          "text": [
            "(4689, 1)\n",
            "(522, 1)\n"
          ],
          "name": "stdout"
        }
      ]
    },
    {
      "cell_type": "code",
      "metadata": {
        "id": "mKj5Lbidyb0r",
        "colab_type": "code",
        "outputId": "b8518f2c-b35e-42ad-936d-8e628df51177",
        "colab": {
          "base_uri": "https://localhost:8080/",
          "height": 279
        }
      },
      "source": [
        "# đồ thị dữ liệu train\n",
        "plt.scatter(X_train,Y_train,color = 'black')\n",
        "\n",
        "plt.xlabel(\"Kích Thước\")\n",
        "plt.ylabel(\"Thời Gian Chạy\")\n",
        "\n",
        "plt.show()"
      ],
      "execution_count": 118,
      "outputs": [
        {
          "output_type": "display_data",
          "data": {
            "image/png": "[encoded data removed]",
            "text/plain": [
              "<Figure size 432x288 with 1 Axes>"
            ]
          },
          "metadata": {
            "tags": [],
            "needs_background": "light"
          }
        }
      ]
    },
    {
      "cell_type": "code",
      "metadata": {
        "id": "rIsFOTJSzjlr",
        "colab_type": "code",
        "outputId": "9b7c5b00-ee2b-4fbe-8fdc-56c21e4cd624",
        "colab": {
          "base_uri": "https://localhost:8080/",
          "height": 67
        }
      },
      "source": [
        "# xây dựng và đánh giá model\n",
        "my_model = LinearRegression()\n",
        "my_model = my_model.fit(X_train,Y_train)\n",
        "result = my_model.predict(X_test)\n",
        "print(\"Coefficients\", my_model.coef_)\n",
        "print(\"Mean squared error : %.2f\" % mean_squared_error(Y_test,result))\n",
        "print(\"Coefficient of determination: %.2f\" % r2_score(Y_test,result))"
      ],
      "execution_count": 119,
      "outputs": [
        {
          "output_type": "stream",
          "text": [
            "Coefficients [[2.84043484e-07]]\n",
            "Mean squared error : 0.00\n",
            "Coefficient of determination: 1.00\n"
          ],
          "name": "stdout"
        }
      ]
    },
    {
      "cell_type": "code",
      "metadata": {
        "id": "hQBVkMgTkcce",
        "colab_type": "code",
        "colab": {
          "base_uri": "https://localhost:8080/",
          "height": 252
        },
        "outputId": "ed986297-60f4-44b0-b9f2-4a9764447347"
      },
      "source": [
        "# Đồ thị kết quả \n",
        "plt.scatter(X_test, Y_test,color='black')\n",
        "plt.plot(X_test,result,color='blue',linewidth=3)\n",
        "\n",
        "plt.xticks(())\n",
        "plt.yticks(())\n",
        "\n",
        "plt.show()"
      ],
      "execution_count": 120,
      "outputs": [
        {
          "output_type": "display_data",
          "data": {
            "image/png": "[encoded data removed]",
            "text/plain": [
              "<Figure size 432x288 with 1 Axes>"
            ]
          },
          "metadata": {
            "tags": []
          }
        }
      ]
    },
    {
      "cell_type": "code",
      "metadata": {
        "id": "ohW3qlrQxaEN",
        "colab_type": "code",
        "colab": {
          "base_uri": "https://localhost:8080/",
          "height": 67
        },
        "outputId": "e3748f9c-f991-4e48-ab36-29e547a0c0b7"
      },
      "source": [
        "# dự đoán 1 giá trị ngoài Dataset\n",
        "X_new = float(input(\"Nhập giá trị bạn muốn dự đoán : \\n\"))\n",
        "\n",
        "Y_pred = my_model.predict([[X_new]])\n",
        "\n",
        "print('Thời gian chạy là : %.2f' % Y_pred)"
      ],
      "execution_count": 121,
      "outputs": [
        {
          "output_type": "stream",
          "text": [
            "Nhập giá trị bạn muốn dự đoán : \n",
            "213125123221\n",
            "Thời gian chạy là : 60536.75\n"
          ],
          "name": "stdout"
        }
      ]
    },
    {
      "cell_type": "code",
      "metadata": {
        "id": "SPEkyfC5yZ1u",
        "colab_type": "code",
        "colab": {}
      },
      "source": [
        ""
      ],
      "execution_count": 0,
      "outputs": []
    }
  ]
}