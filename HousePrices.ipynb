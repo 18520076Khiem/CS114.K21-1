{
  "nbformat": 4,
  "nbformat_minor": 0,
  "metadata": {
    "colab": {
      "name": "HousePrices.ipynb",
      "provenance": [],
      "collapsed_sections": [],
      "authorship_tag": "ABX9TyNBS7mJxC5eoJL6xqB7+cbD",
      "include_colab_link": true
    },
    "kernelspec": {
      "name": "python3",
      "display_name": "Python 3"
    }
  },
  "cells": [
    {
      "cell_type": "markdown",
      "metadata": {
        "id": "view-in-github",
        "colab_type": "text"
      },
      "source": [
        "<a href=\"https://colab.research.google.com/github/Hoangthang017/CS114.K21/blob/master/HousePrices.ipynb\" target=\"_parent\"><img src=\"https://colab.research.google.com/assets/colab-badge.svg\" alt=\"Open In Colab\"/></a>"
      ]
    },
    {
      "cell_type": "code",
      "metadata": {
        "id": "LsHyeJZYHn4I",
        "colab_type": "code",
        "colab": {}
      },
      "source": [
        "#import thư viện\n",
        "import pandas as pd\n",
        "import numpy as np\n",
        "import matplotlib.pyplot as plt\n",
        "from sklearn.model_selection import train_test_split\n",
        "from sklearn.linear_model import LinearRegression\n",
        "from sklearn.metrics import mean_squared_error, r2_score"
      ],
      "execution_count": 0,
      "outputs": []
    },
    {
      "cell_type": "code",
      "metadata": {
        "id": "FXRWj3hrICZT",
        "colab_type": "code",
        "colab": {}
      },
      "source": [
        "# Lấy dữ liệu từ file scv \n",
        "\n",
        "url = \"https://d396qusza40orc.cloudfront.net/phoenixassets/home_data.csv\"\n",
        "\n",
        "dataFrame = pd.read_csv(url)"
      ],
      "execution_count": 0,
      "outputs": []
    },
    {
      "cell_type": "code",
      "metadata": {
        "id": "L9zd1cOH8w5z",
        "colab_type": "code",
        "colab": {
          "base_uri": "https://localhost:8080/",
          "height": 54
        },
        "outputId": "a080e20f-f75f-490a-9749-1bf155fd2923"
      },
      "source": [
        "# Bài 1 :\n",
        "'''\n",
        "Price_Zipcode = dataFrame[(dataFrame['zipcode'] == 98039)][['zipcode','price']].values\n",
        "\n",
        "Sum = sum(Price_Zipcode[:,1:None])\n",
        "Len = len(Price_Zipcode[:,1:None])\n",
        "average = Sum / Len\n",
        "\n",
        "print(average)\n",
        "\n",
        "'''"
      ],
      "execution_count": 80,
      "outputs": [
        {
          "output_type": "execute_result",
          "data": {
            "text/plain": [
              "\"\\nPrice_Zipcode = dataFrame[(dataFrame['zipcode'] == 98039)][['zipcode','price']].values\\n\\nSum = sum(Price_Zipcode[:,1:None])\\nLen = len(Price_Zipcode[:,1:None])\\naverage = Sum / Len\\n\\nprint(average)\\n\\n\""
            ]
          },
          "metadata": {
            "tags": []
          },
          "execution_count": 80
        }
      ]
    },
    {
      "cell_type": "code",
      "metadata": {
        "id": "f1gCMvb-8ydX",
        "colab_type": "code",
        "colab": {
          "base_uri": "https://localhost:8080/",
          "height": 54
        },
        "outputId": "8bb5a152-901c-453d-ff38-ddcc627e1fc1"
      },
      "source": [
        "# Bài 2 :\n",
        "'''\n",
        "features = ['sqft_living']\n",
        "target = ['price']\n",
        "\n",
        "dataFrame = dataFrame[(dataFrame['sqft_living'] > 2000) & (dataFrame['sqft_living'] < 4000)][['sqft_living','price']].values\n",
        "'''"
      ],
      "execution_count": 81,
      "outputs": [
        {
          "output_type": "execute_result",
          "data": {
            "text/plain": [
              "\"\\nfeatures = ['sqft_living']\\ntarget = ['price']\\n\\ndataFrame = dataFrame[(dataFrame['sqft_living'] > 2000) & (dataFrame['sqft_living'] < 4000)][['sqft_living','price']].values\\n\""
            ]
          },
          "metadata": {
            "tags": []
          },
          "execution_count": 81
        }
      ]
    },
    {
      "cell_type": "code",
      "metadata": {
        "id": "7439hV0J7o4h",
        "colab_type": "code",
        "colab": {}
      },
      "source": [
        "# Bài 3 : \n",
        "\n",
        "features = [\n",
        "'bedrooms', 'bathrooms', 'sqft_living', 'sqft_lot', 'floors', 'zipcode',\n",
        "'condition', # condition of house\t\t\t\t\n",
        "'grade', # measure of quality of construction\t\t\t\t\n",
        "'waterfront', # waterfront property\t\t\t\t\n",
        "'view', # type of view\t\t\t\t\n",
        "'sqft_above', # square feet above ground\t\t\t\t\n",
        "'sqft_basement', # square feet in basement\t\t\t\t\n",
        "'yr_built', # the year built\t\t\t\t\n",
        "'yr_renovated', # the year renovated\t\t\t\t\n",
        "'lat', 'long', # the lat-long of the parcel\t\t\t\t\n",
        "'sqft_living15', # average sq.ft. of 15 nearest neighbors \t\t\t\t\n",
        "'sqft_lot15', # average lot size of 15 nearest neighbors \n",
        "]\n",
        "target = ['price']\n",
        "\n",
        "dataFrame = dataFrame[features+target].values  \n"
      ],
      "execution_count": 0,
      "outputs": []
    },
    {
      "cell_type": "code",
      "metadata": {
        "id": "xPrBdmKp7tOv",
        "colab_type": "code",
        "colab": {}
      },
      "source": [
        "# Xử lí dữ liệu\n",
        "\n",
        "X = dataFrame[:,None:len(features)]\n",
        "Y = dataFrame[:,len(features):None]\n",
        "\n",
        "X_train , X_test , Y_train , Y_test = train_test_split(X,Y,test_size = 0.1,random_state = 1)"
      ],
      "execution_count": 0,
      "outputs": []
    },
    {
      "cell_type": "code",
      "metadata": {
        "id": "R6NbmgWbIwLI",
        "colab_type": "code",
        "outputId": "552ef84c-d19e-4e94-d84c-f3409361f244",
        "colab": {
          "base_uri": "https://localhost:8080/",
          "height": 134
        }
      },
      "source": [
        "# train và đánh giá cho model\n",
        "my_model = LinearRegression()\n",
        "my_model.fit(X_train,Y_train)\n",
        "result = my_model.predict(X_test)\n",
        "\n",
        "print(\"Coefficients: \", my_model.coef_)\n",
        "print(\"Mean squared error : %.2f\" % mean_squared_error(Y_test,result))\n",
        "print(\"Coefficient of determination: %.2f\" % r2_score(Y_test,result))"
      ],
      "execution_count": 84,
      "outputs": [
        {
          "output_type": "stream",
          "text": [
            "Coefficients:  [[-3.45084885e+04  4.32993258e+04  1.09011351e+02  9.74100306e-02\n",
            "   6.28094827e+03 -5.67349049e+02  2.68846436e+04  9.58422539e+04\n",
            "   5.43371841e+05  5.38802063e+04  7.11327580e+01  3.78785928e+01\n",
            "  -2.61761262e+03  1.96453502e+01  6.03759812e+05 -2.10480561e+05\n",
            "   1.87213895e+01 -3.53351057e-01]]\n",
            "Mean squared error : 51189089378.14\n",
            "Coefficient of determination: 0.68\n"
          ],
          "name": "stdout"
        }
      ]
    },
    {
      "cell_type": "code",
      "metadata": {
        "id": "Bqfnf1ls6uU2",
        "colab_type": "code",
        "colab": {
          "base_uri": "https://localhost:8080/",
          "height": 290
        },
        "outputId": "08fdc52e-2d19-4f51-faad-a07a02a42980"
      },
      "source": [
        "# Đồ thị kết quả \n",
        "\n",
        "plt.scatter(Y_test,result)\n",
        "\n",
        "plt.xlabel(\"Predict\")\n",
        "plt.ylabel(\"Test\")\n",
        "\n",
        "plt.show()"
      ],
      "execution_count": 85,
      "outputs": [
        {
          "output_type": "display_data",
          "data": {
            "image/png": "[encoded data removed]",
            "text/plain": [
              "<Figure size 432x288 with 1 Axes>"
            ]
          },
          "metadata": {
            "tags": [],
            "needs_background": "light"
          }
        }
      ]
    }
  ]
}