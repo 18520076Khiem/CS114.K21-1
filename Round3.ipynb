{
  "nbformat": 4,
  "nbformat_minor": 0,
  "metadata": {
    "colab": {
      "name": "Round3.ipynb",
      "provenance": [],
      "collapsed_sections": [],
      "authorship_tag": "ABX9TyP7XQYo8dC4Rf9I8HMZvWFg",
      "include_colab_link": true
    },
    "kernelspec": {
      "name": "python3",
      "display_name": "Python 3"
    }
  },
  "cells": [
    {
      "cell_type": "markdown",
      "metadata": {
        "id": "view-in-github",
        "colab_type": "text"
      },
      "source": [
        "<a href=\"https://colab.research.google.com/github/Hoangthang017/CS114.K21/blob/master/Round3.ipynb\" target=\"_parent\"><img src=\"https://colab.research.google.com/assets/colab-badge.svg\" alt=\"Open In Colab\"/></a>"
      ]
    },
    {
      "cell_type": "code",
      "metadata": {
        "id": "5EMafwf9zUDE",
        "colab_type": "code",
        "colab": {}
      },
      "source": [
        "# import thư viện\n",
        "import numpy as np\n",
        "import matplotlib.pyplot as plt\n",
        "from sklearn.linear_model import LinearRegression\n",
        "from sklearn.model_selection import train_test_split\n",
        "from sklearn.metrics import mean_squared_error, r2_score\n",
        "import math"
      ],
      "execution_count": 0,
      "outputs": []
    },
    {
      "cell_type": "markdown",
      "metadata": {
        "id": "qyGfaEYvfucf",
        "colab_type": "text"
      },
      "source": [
        "***Với bài này ta sẽ dùng thư viện:***\n",
        " - **numpy để load data và xử lí dữ liệu**\n",
        " - **matplotlib dùng để vẽ biểu đồ tạo sự thuận tiện cho việc quan sát dữ liệu**\n",
        " - **sklearn dùng để xử lí phần và đánh giá model**\n",
        " - **math để dùng hàm log tăng số lượng Feature**"
      ]
    },
    {
      "cell_type": "code",
      "metadata": {
        "id": "zxbxgDM5zXgW",
        "colab_type": "code",
        "colab": {}
      },
      "source": [
        "# load và xử lí data\n",
        " \n",
        "url = 'http://cs.uit.edu.vn/data3.txt'\n",
        " \n",
        "Dataset = np.loadtxt(url , delimiter = ',')\n",
        "\n",
        "# chia dataset thành 2 phần X (feature) và Y(label)\n",
        "X = Dataset[:,0]\n",
        "Y = Dataset[:,1:]\n",
        "\n",
        "# chia dữ liệu thành 2 phần train và test\n",
        "X_train , X_test, Y_train, Y_test = train_test_split(X,Y,test_size = 0.2, random_state = 1)\n"
      ],
      "execution_count": 0,
      "outputs": []
    },
    {
      "cell_type": "markdown",
      "metadata": {
        "id": "O4xrCeSHiRbX",
        "colab_type": "text"
      },
      "source": [
        "***Dùng hàm loadtxt của thư viện numpy để load data từ url , sao đó tách thành 2 phần X (feature) và Y(label) , tiếp đến dùng hàm train/test_split để chia dữ liệu thành 2 phần train và test***"
      ]
    },
    {
      "cell_type": "code",
      "metadata": {
        "id": "cGzaL9Yx1-3n",
        "colab_type": "code",
        "colab": {}
      },
      "source": [
        "# hàm tăng feature\n",
        "\n",
        "def UpFeature(X):\n",
        "  # tăng cột X^2\n",
        "  X_pow = X**2\n",
        "\n",
        "  # tăng cột X.log(X)\n",
        "  X_log = np.array([])\n",
        "\n",
        "  for i in range(len(X)):\n",
        "    temp = X[i]*math.log(X[i])\n",
        "    X_log = np.append(X_log,temp)\n",
        "\n",
        "  # tạo thành mảng mới\n",
        "  X_new = np.array([X,X_pow,X_log])\n",
        "\n",
        "  X_new = np.transpose(X_new)\n",
        "  return X_new\n"
      ],
      "execution_count": 0,
      "outputs": []
    },
    {
      "cell_type": "markdown",
      "metadata": {
        "id": "sCFaRhuQeMqJ",
        "colab_type": "text"
      },
      "source": [
        "#***Hàm tăng số lượng feature lên 2 cột là X^2 và X.log(X)***"
      ]
    },
    {
      "cell_type": "code",
      "metadata": {
        "id": "OQnT2TeD5ipD",
        "colab_type": "code",
        "colab": {}
      },
      "source": [
        "# Tăng số lượng Feature cho data train và data test\n",
        "X_train_new = UpFeature(X_train)\n",
        "X_test_new = UpFeature(X_test)\n",
        "\n",
        "# xoay ma trận cho dữ liệu có 1 vecto dùng để train model cũ \n",
        "X_train = X_train.reshape(-1,1)\n",
        "X_test = X_test.reshape(-1,1)"
      ],
      "execution_count": 0,
      "outputs": []
    },
    {
      "cell_type": "markdown",
      "metadata": {
        "id": "uj1CNdwHiteH",
        "colab_type": "text"
      },
      "source": [
        "***Update sau khi tăng số lượng data và chuẩn hóa dữ liệu cũ trước khi train model***"
      ]
    },
    {
      "cell_type": "code",
      "metadata": {
        "id": "VBp1J_vxzhmM",
        "colab_type": "code",
        "colab": {}
      },
      "source": [
        "# xây dựng và đánh giá model\n",
        " \n",
        "my_model = LinearRegression().fit(X_train,Y_train)\n",
        "result = my_model.predict(X_test)"
      ],
      "execution_count": 0,
      "outputs": []
    },
    {
      "cell_type": "markdown",
      "metadata": {
        "id": "FlmA0ZEQjCox",
        "colab_type": "text"
      },
      "source": [
        "***Sử dụng model bên round 2 với data round 3***"
      ]
    },
    {
      "cell_type": "code",
      "metadata": {
        "id": "QcRS9IJgcP5N",
        "colab_type": "code",
        "colab": {}
      },
      "source": [
        "# xây dựng model mới dự trên kỹ thuật Features Enginering\n",
        "\n",
        "New_model = LinearRegression().fit(X_train_new,Y_train)\n",
        "New_result = New_model.predict(X_test_new)"
      ],
      "execution_count": 0,
      "outputs": []
    },
    {
      "cell_type": "markdown",
      "metadata": {
        "id": "wrxaYorhjNDP",
        "colab_type": "text"
      },
      "source": [
        "***Sử dụng data sau khi tăng số lượng feature để tạo model mới***"
      ]
    },
    {
      "cell_type": "code",
      "metadata": {
        "id": "JK5jO2TKzjqw",
        "colab_type": "code",
        "outputId": "893a841e-5c5f-45d8-c2fb-c205881a1cc8",
        "colab": {
          "base_uri": "https://localhost:8080/",
          "height": 84
        }
      },
      "source": [
        "# Đánh giá model \n",
        "\n",
        "# model cũ \n",
        "print(\"Đánh giá model cũ : \")\n",
        "print(\"\\tHệ số w: \" , my_model.coef_)\n",
        "print(\"\\tMSE : \" , mean_squared_error(Y_test,result))\n",
        "print(\"\\tĐộ chính xác: \" , r2_score(Y_test,result))\n",
        "\n"
      ],
      "execution_count": 130,
      "outputs": [
        {
          "output_type": "stream",
          "text": [
            "Đánh giá model cũ : \n",
            "\tHệ số w:  [[9.27290489e-08]]\n",
            "\tMSE :  0.0029732305247697818\n",
            "\tĐộ chính xác:  0.9897290008911028\n"
          ],
          "name": "stdout"
        }
      ]
    },
    {
      "cell_type": "markdown",
      "metadata": {
        "id": "hmDgot0NdnTU",
        "colab_type": "text"
      },
      "source": [
        "# ***Độ chính xác giảm xuống so với round 2, Vì độ rộng của data 3 (10590) nhỏ hơn nhiều so với data 2 (71115) vì thế model 2 có độ chính xác cao hơn so với model 3***\n"
      ]
    },
    {
      "cell_type": "code",
      "metadata": {
        "id": "5RoEW-VWdhl_",
        "colab_type": "code",
        "colab": {
          "base_uri": "https://localhost:8080/",
          "height": 101
        },
        "outputId": "8d89ac5f-8c8d-48be-863d-9e39f8eb5b97"
      },
      "source": [
        "# model mới\n",
        "print(\"Đánh giá model mơi : \")\n",
        "print(\"\\tHệ số w: \" , New_model.coef_)\n",
        "print(\"\\tMSE : \" , mean_squared_error(Y_test,New_result))\n",
        "print(\"\\tĐộ chính xác: \" , r2_score(Y_test,New_result))\n",
        "\n",
        "incr_percent = 100*(r2_score(Y_test,New_result)-r2_score(Y_test,result))\n",
        "print(\"increase : %.5f\" % incr_percent)"
      ],
      "execution_count": 131,
      "outputs": [
        {
          "output_type": "stream",
          "text": [
            "Đánh giá model mơi : \n",
            "\tHệ số w:  [[ 6.34826082e-07  6.52316668e-16 -3.19265684e-08]]\n",
            "\tMSE :  0.0029729965832469333\n",
            "\tĐộ chính xác:  0.9897298090400682\n",
            "increase : 0.00008\n"
          ],
          "name": "stdout"
        }
      ]
    },
    {
      "cell_type": "markdown",
      "metadata": {
        "id": "zEExHpH3gxo9",
        "colab_type": "text"
      },
      "source": [
        "***Sao khi áp dụng kĩ thuật tăng số Feature thì độ chính xác có tăng khoảng 0.00008%***"
      ]
    }
  ]
}