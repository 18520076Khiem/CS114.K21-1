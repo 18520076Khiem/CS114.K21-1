{
  "nbformat": 4,
  "nbformat_minor": 0,
  "metadata": {
    "colab": {
      "name": "Round3.ipynb",
      "provenance": [],
      "authorship_tag": "ABX9TyMaLhX2aLCsKNG5Q13iIO5+",
      "include_colab_link": true
    },
    "kernelspec": {
      "name": "python3",
      "display_name": "Python 3"
    }
  },
  "cells": [
    {
      "cell_type": "markdown",
      "metadata": {
        "id": "view-in-github",
        "colab_type": "text"
      },
      "source": [
        "<a href=\"https://colab.research.google.com/github/Hoangthang017/CS114.K21/blob/master/Round3.ipynb\" target=\"_parent\"><img src=\"https://colab.research.google.com/assets/colab-badge.svg\" alt=\"Open In Colab\"/></a>"
      ]
    },
    {
      "cell_type": "code",
      "metadata": {
        "id": "5EMafwf9zUDE",
        "colab_type": "code",
        "colab": {}
      },
      "source": [
        "# import thư viện\n",
        "import numpy as np\n",
        "import matplotlib.pyplot as plt\n",
        "from sklearn.linear_model import LinearRegression\n",
        "from sklearn.model_selection import train_test_split\n",
        "from sklearn.metrics import mean_squared_error, r2_score"
      ],
      "execution_count": 0,
      "outputs": []
    },
    {
      "cell_type": "code",
      "metadata": {
        "id": "zxbxgDM5zXgW",
        "colab_type": "code",
        "colab": {}
      },
      "source": [
        "# load và xử lí data\n",
        " \n",
        "url = 'http://cs.uit.edu.vn/data3.txt'\n",
        " \n",
        "Dataset = np.loadtxt(url , delimiter = ',')\n",
        " \n",
        "# chia dataset thành 2 phần X (feature) và Y(label)\n",
        "X = Dataset[:,np.newaxis:1]\n",
        "Y = Dataset[:,1:np.newaxis]\n",
        " \n",
        " # chia dữ liệu thành 2 phần train và test\n",
        "X_train , X_test, Y_train, Y_test = train_test_split(X_new,Y,test_size = 0.9, random_state = 1)\n"
      ],
      "execution_count": 0,
      "outputs": []
    },
    {
      "cell_type": "code",
      "metadata": {
        "id": "cGzaL9Yx1-3n",
        "colab_type": "code",
        "colab": {
          "base_uri": "https://localhost:8080/",
          "height": 34
        },
        "outputId": "32ef626e-a54d-476f-f0ce-22cfa9d00e35"
      },
      "source": [
        "import math\n",
        "\n",
        "X_pow = X**2\n",
        "X_log_List = []\n",
        "for i in range(len(X)):\n",
        "  temp = X[i][0]*math.log(X[i][0])\n",
        "  X_log_List.append(temp)\n",
        "\n",
        "X_log = np.array(X_log_List).reshape(-1,1)\n",
        "\n",
        "X_new = np.array([X,X_pow,X_log])\n",
        "\n",
        "print(X_pow.shape)\n"
      ],
      "execution_count": 36,
      "outputs": [
        {
          "output_type": "stream",
          "text": [
            "(10590, 1)\n"
          ],
          "name": "stdout"
        }
      ]
    },
    {
      "cell_type": "code",
      "metadata": {
        "id": "M8Uo-jsnzeRN",
        "colab_type": "code",
        "outputId": "e0d0ec39-45d1-44f8-fd87-bcda4d5e7a18",
        "colab": {
          "base_uri": "https://localhost:8080/",
          "height": 280
        }
      },
      "source": [
        "# quan sát dữ liệu train\n",
        "plt.plot(X_train,Y_train,'.')\n",
        " \n",
        "plt.xlabel(\"Thời Gian Chạy\")\n",
        "plt.ylabel(\"Kích Thước\")\n",
        " \n",
        "plt.grid()\n",
        "plt.show()"
      ],
      "execution_count": 27,
      "outputs": [
        {
          "output_type": "display_data",
          "data": {
            "image/png": "[encoded data removed]",
            "text/plain": [
              "<Figure size 432x288 with 1 Axes>"
            ]
          },
          "metadata": {
            "tags": [],
            "needs_background": "light"
          }
        }
      ]
    },
    {
      "cell_type": "code",
      "metadata": {
        "id": "VBp1J_vxzhmM",
        "colab_type": "code",
        "colab": {}
      },
      "source": [
        "# xây dựng và đánh giá model\n",
        " \n",
        "my_model = LinearRegression().fit(X_train,Y_train)\n",
        "result = my_model.predict(X_test)"
      ],
      "execution_count": 0,
      "outputs": []
    },
    {
      "cell_type": "code",
      "metadata": {
        "id": "JK5jO2TKzjqw",
        "colab_type": "code",
        "outputId": "f2473d8e-3db8-492f-b685-e0c64b83f728",
        "colab": {
          "base_uri": "https://localhost:8080/",
          "height": 67
        }
      },
      "source": [
        "# Đánh giá model \n",
        "print(\"Hệ số w: \" , my_model.coef_)\n",
        "print(\"MSE : \" , mean_squared_error(Y_test,result))\n",
        "print(\"Độ chính xác: \" , r2_score(Y_test,result))"
      ],
      "execution_count": 29,
      "outputs": [
        {
          "output_type": "stream",
          "text": [
            "Hệ số w:  [[9.27776805e-08]]\n",
            "MSE :  0.003448400793504245\n",
            "Độ chính xác:  0.9880894311987796\n"
          ],
          "name": "stdout"
        }
      ]
    },
    {
      "cell_type": "markdown",
      "metadata": {
        "id": "vt5WOwKb0wTJ",
        "colab_type": "text"
      },
      "source": [
        "# ***Độ chính xác giảm xuống so với round 2***\n",
        "\n",
        "# ***có thể thấy ngay dưới đồ thị thì dữ liệu nó không fit như round 2 lên tỉ lệ chính xác đã giảm xuống ***"
      ]
    },
    {
      "cell_type": "code",
      "metadata": {
        "id": "mIuasoDxzlwS",
        "colab_type": "code",
        "outputId": "8faa77c6-12fd-44a2-9708-4fc77c8143ee",
        "colab": {
          "base_uri": "https://localhost:8080/",
          "height": 280
        }
      },
      "source": [
        "# Đồ thị kết quả \n",
        "plt.plot(X_test,Y_test,'.',\n",
        "         X_test,result,'-')\n",
        " \n",
        " \n",
        "plt.xlabel(\"Thời Gian Chạy\")\n",
        "plt.ylabel(\"Kích Thước\")\n",
        " \n",
        "plt.grid()\n",
        "plt.show()"
      ],
      "execution_count": 30,
      "outputs": [
        {
          "output_type": "display_data",
          "data": {
            "image/png": "[encoded data removed]",
            "text/plain": [
              "<Figure size 432x288 with 1 Axes>"
            ]
          },
          "metadata": {
            "tags": [],
            "needs_background": "light"
          }
        }
      ]
    }
  ]
}