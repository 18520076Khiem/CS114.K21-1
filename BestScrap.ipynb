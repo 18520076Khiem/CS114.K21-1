{
  "nbformat": 4,
  "nbformat_minor": 0,
  "metadata": {
    "colab": {
      "name": "BestScrap.ipynb",
      "provenance": [],
      "authorship_tag": "ABX9TyNbIRnKPOyryM0VriVr2r6s",
      "include_colab_link": true
    },
    "kernelspec": {
      "name": "python3",
      "display_name": "Python 3"
    }
  },
  "cells": [
    {
      "cell_type": "markdown",
      "metadata": {
        "id": "view-in-github",
        "colab_type": "text"
      },
      "source": [
        "<a href=\"https://colab.research.google.com/github/Hoangthang017/CS114.K21/blob/master/BestScrap.ipynb\" target=\"_parent\"><img src=\"https://colab.research.google.com/assets/colab-badge.svg\" alt=\"Open In Colab\"/></a>"
      ]
    },
    {
      "cell_type": "code",
      "metadata": {
        "id": "LuyWDyVuIcrO",
        "colab_type": "code",
        "colab": {}
      },
      "source": [
        "from urllib.request import Request , urlopen \n",
        "from bs4 import BeautifulSoup\n",
        "Data = []\n",
        "for i in range(1,3):\n",
        "  url1 = 'https://www.huffingtonpost.co.uk/news/'+ str(i) +'/?guccounter=2'\n",
        "  req = Request(url1, headers={'User-Agent': 'XYZ/3.0'})\n",
        "  page = urlopen(req,timeout=10)\n",
        "  soup = BeautifulSoup(page,\"html.parser\")\n",
        "  headlines = soup.find_all('a',attrs={'class':'card__link yr-card-headline'})\n",
        "\n",
        "  for i in range(len(headlines)):\n",
        "    headline = headlines[i].text\n",
        "    Data.append(headline)"
      ],
      "execution_count": 119,
      "outputs": []
    },
    {
      "cell_type": "code",
      "metadata": {
        "id": "OeJGNpWlPwkX",
        "colab_type": "code",
        "colab": {
          "base_uri": "https://localhost:8080/",
          "height": 70
        },
        "outputId": "fe46fd44-d326-4bb0-e10b-7b076a3b476a"
      },
      "source": [
        "print(Data)\n",
        "print(len(Data))"
      ],
      "execution_count": 120,
      "outputs": [
        {
          "output_type": "stream",
          "text": [
            "['Zoomers Boast They Sabotaged Trump Rally Turnout With Fake Reservations', \"I'm Burning Out Fighting Racism, Yet I Never Feel Like I'm Doing Enough\", 'Manchester Shooting: Double Murder Inquiry Launched As Second Victim Dies', 'Reading Stabbing Attack Declared A Terrorist Incident, Police Say', \"Trump Uses Racist Terms 'Kung Flu' And 'Chinese Virus' To Describe Covid-19\", 'I Was A Doctor In Syria’s Civil War. Now I’m On The NHS’ Coronavirus Frontline', 'Three People Killed In Reading Knife Attack', 'Britons Can Travel To Spain Without Quarantine From Sunday', 'Three Young Children Die In Paisley Flat Fire', \"Judge Rejects White House Demand To Block John Bolton's New Book\", 'Rishi Sunak Hints That Two-Metre Social Distancing Rule Will Be Relaxed', 'This Is How It Feels To Be Erased From Your Own History Lesson', 'Scathing Supercut Shows How Quickly Trump Flips On His Once Most Trusted Aides', 'Leaked Lockdown Rules Reveal What Your Pub And Restaurant Trips Might Look Like Next Month', 'Just Spit Into A Pot For New Coronavirus Test That Could Replace Throat Swab', 'Second Victim Of Reading Terror Attack Named By Family And Friends As Joe Ritchie-Bennett', \"Reading Park Terror Suspect 'Came To The Attention Of MI5 Last Year'\", 'Noose Found In Garage Used By NASCAR’s Bubba Wallace', 'Campaigners Blast Police As Black Driver Is Pulled Over On Suspicion Of Using Vaseline To Smuggle Drugs', 'UK Records 43 More Coronavirus Deaths In 24 Hours, Bringing Total To 42,632', '1 Dead, 11 Injured In Minneapolis Shooting', 'Commuters Not Wearing Face Masks Correctly, Expert Warns', \"Law Graduate Pursues Private Prosecution Of 'Arrogant' Dominic Cummings\", 'After Weeks Of Anticipation, Trump Rally Crowd Underwhelms', 'Reading Stabbing Attack: Everything We Know So Far', 'Anti-Racism Protesters March In UK Cities For Fourth Consecutive Week', 'UK Records 128 More Coronavirus Deaths In 24 Hours, Bringing Total To 42,589', 'Donald Trump Said So Many Daft Things This Week We Had To Do This Roundup', \"Melania Trump Posts Juneteenth Tweet And Gets Reminded Of 'Birther' Past\", \"Jeremy Corbyn's Brother Charged With Breaching Coronavirus Regulations At 5G Protest\", \"Opinion: Removing Statues Is The Easy Part. Confronting Britain's Racist Legacy Will Be Harder\", 'Could Wave Of Action Result In Meaningful Change For Black People?', 'Watch Live: Gavin Williamson Gives Daily Coronavirus Briefing', 'Devastated Family Pay Tribute To Sisters Stabbed To Death In London Park As Police Search For Attacker', \"Facebook Takes Down Trump Campaign Ads Featuring 'Nazi Symbol'\", \"Twitter Slaps Donald Trump's 'Racist Baby' Post With Manipulated Media Warning\", 'Less Than 1% Of Government Funds To Remove Cladding From Private Buildings Paid Out', \"Comedian Ava Vidal Breaks Down 'Racist' Tropes In TV Comedies\", 'Watch Live: Matt Hancock Leads Coronavirus Briefing After Tracing App U-Turn', 'UK Records 135 More Coronavirus Deaths In 24 Hours, Including 13-Day-Old Baby', 'Who Is Cabinet Minister Robert Jenrick?', 'Deaths In Police Custody: Why Has No Police Officer Been Convicted?', \"Pub Chain Greene King And Lloyd's Of London To Pay Reparations Over Links To Slave Trade\", 'Opinion: The LGBTQ Community Is Not A Safe Space For Black People', \"Trump 'Wanted To Give Kim Jong Un A Copy Of Rocket Man' And 5 Other Claims From John Bolton's Book\", 'I Started A Food Bank For Refugees Like Me Going Hungry In This Pandemic', 'For Refugees Like Me, Loneliness Is Yet Another Struggle To Overcome', 'Katie Hopkins Permanently Banned From Twitter, Social Media Firm Confirms', 'Boris Johnson Says Swing Low, Sweet Chariot Should Not Be Banned', 'UK Records 173 More Coronavirus Deaths In 24 Hours, Bringing Total To 42,461', 'South Asian People Most Likely To Die In Hospital From Coronavirus, New Study Finds', \"Opinion: Black Lives Matter –\\xa0Unless You're Black In The Workplace\", \"Church Of England Brands Historic Links To Slavery Through Clergymen 'A Source Of Shame'\", 'Homeless Migrants Could Be Sent Back To The Streets As Lockdown Eases', \"Exclusive: UK Charities And Schools Blasted For Hosting Mock 'Slave Auctions'\", 'We’ve Been Hosting Two Refugees During Lockdown. Here’s What We’ve Learned', 'Opinion: Anti-Racism Protests Are Not Fantasy Television', \"Former White House Ethics Chief Reveals 'Disturbing' Ivanka Trump Emails\", 'Opinion: If My Grades Were Predicted I Would Never Have Studied At Oxford And Yale', 'Parents Of Emily Jones Plead With Far-Right To Stop Using Her Photo At Protests', 'Inside The Dangerous Online Fever Swamps Of American Police', 'Trump Says Police Killing Of Rayshard Brooks ‘Terrible,’ But ‘You Can’t Resist’ Officers', \"Raheem Sterling Hails 'Massive Step' As Players Take A Knee On Premier League’s Return\", 'Oxford College Governors Vote To Remove Cecil Rhodes Statue']\n",
            "64\n"
          ],
          "name": "stdout"
        }
      ]
    },
    {
      "cell_type": "code",
      "metadata": {
        "id": "wPjaNGMvP1Xf",
        "colab_type": "code",
        "colab": {}
      },
      "source": [
        ""
      ],
      "execution_count": null,
      "outputs": []
    }
  ]
}