{
  "nbformat": 4,
  "nbformat_minor": 0,
  "metadata": {
    "colab": {
      "name": "SarcasmDetection_Kaggle.ipynb",
      "provenance": [],
      "authorship_tag": "ABX9TyNzjhz5ZadTn33IAArfxwM4",
      "include_colab_link": true
    },
    "kernelspec": {
      "name": "python3",
      "display_name": "Python 3"
    }
  },
  "cells": [
    {
      "cell_type": "markdown",
      "metadata": {
        "id": "view-in-github",
        "colab_type": "text"
      },
      "source": [
        "<a href=\"https://colab.research.google.com/github/Hoangthang017/CS114.K21/blob/master/Sarcasm/SarcasmDetection_Kaggle.ipynb\" target=\"_parent\"><img src=\"https://colab.research.google.com/assets/colab-badge.svg\" alt=\"Open In Colab\"/></a>"
      ]
    },
    {
      "cell_type": "code",
      "metadata": {
        "id": "KDCaG3SJXscc",
        "colab_type": "code",
        "colab": {
          "base_uri": "https://localhost:8080/",
          "height": 121
        },
        "outputId": "0c168aee-9402-4571-ac32-17297fe5c515"
      },
      "source": [
        "from google.colab import drive\n",
        "drive.mount('/content/drive')"
      ],
      "execution_count": null,
      "outputs": [
        {
          "output_type": "stream",
          "text": [
            "Go to this URL in a browser: https://accounts.google.com/o/oauth2/auth?client_id=947318989803-6bn6qk8qdgf4n4g3pfee6491hc0brc4i.apps.googleusercontent.com&redirect_uri=urn%3aietf%3awg%3aoauth%3a2.0%3aoob&response_type=code&scope=email%20https%3a%2f%2fwww.googleapis.com%2fauth%2fdocs.test%20https%3a%2f%2fwww.googleapis.com%2fauth%2fdrive%20https%3a%2f%2fwww.googleapis.com%2fauth%2fdrive.photos.readonly%20https%3a%2f%2fwww.googleapis.com%2fauth%2fpeopleapi.readonly\n",
            "\n",
            "Enter your authorization code:\n",
            "··········\n",
            "Mounted at /content/drive\n"
          ],
          "name": "stdout"
        }
      ]
    },
    {
      "cell_type": "code",
      "metadata": {
        "id": "KC0f29lMYCO1",
        "colab_type": "code",
        "colab": {
          "base_uri": "https://localhost:8080/",
          "height": 70
        },
        "outputId": "401cc2b1-6023-491f-a15a-9557506abe78"
      },
      "source": [
        "import numpy as np\n",
        "import pandas as pd\n",
        "import seaborn as sns\n",
        "import matplotlib.pyplot as plt"
      ],
      "execution_count": null,
      "outputs": [
        {
          "output_type": "stream",
          "text": [
            "/usr/local/lib/python3.6/dist-packages/statsmodels/tools/_testing.py:19: FutureWarning: pandas.util.testing is deprecated. Use the functions in the public API at pandas.testing instead.\n",
            "  import pandas.util.testing as tm\n"
          ],
          "name": "stderr"
        }
      ]
    },
    {
      "cell_type": "code",
      "metadata": {
        "id": "XnnjP3ELaB8V",
        "colab_type": "code",
        "colab": {
          "base_uri": "https://localhost:8080/",
          "height": 168
        },
        "outputId": "96be243f-fb26-43f8-9acf-d4a83d98e7b1"
      },
      "source": [
        "df = pd.read_json('/content/drive/My Drive/CS114/DataHeadline/Sarcasm_Headlines_Dataset.json',lines=True)\n",
        "\n",
        "print(df.head())\n",
        "print(len(df))"
      ],
      "execution_count": null,
      "outputs": [
        {
          "output_type": "stream",
          "text": [
            "                                        article_link  ... is_sarcastic\n",
            "0  https://www.huffingtonpost.com/entry/versace-b...  ...            0\n",
            "1  https://www.huffingtonpost.com/entry/roseanne-...  ...            0\n",
            "2  https://local.theonion.com/mom-starting-to-fea...  ...            1\n",
            "3  https://politics.theonion.com/boehner-just-wan...  ...            1\n",
            "4  https://www.huffingtonpost.com/entry/jk-rowlin...  ...            0\n",
            "\n",
            "[5 rows x 3 columns]\n",
            "26709\n"
          ],
          "name": "stdout"
        }
      ]
    },
    {
      "cell_type": "code",
      "metadata": {
        "id": "nGuwAkmBYVC6",
        "colab_type": "code",
        "colab": {
          "base_uri": "https://localhost:8080/",
          "height": 84
        },
        "outputId": "479811da-b64e-474d-e384-0ae25a57fef9"
      },
      "source": [
        "df.isna().sum()"
      ],
      "execution_count": null,
      "outputs": [
        {
          "output_type": "execute_result",
          "data": {
            "text/plain": [
              "article_link    0\n",
              "headline        0\n",
              "is_sarcastic    0\n",
              "dtype: int64"
            ]
          },
          "metadata": {
            "tags": []
          },
          "execution_count": 4
        }
      ]
    },
    {
      "cell_type": "code",
      "metadata": {
        "id": "lb3mO7LWZYje",
        "colab_type": "code",
        "colab": {}
      },
      "source": [
        "del df['article_link']"
      ],
      "execution_count": null,
      "outputs": []
    },
    {
      "cell_type": "code",
      "metadata": {
        "id": "aZbO4FuAfgFM",
        "colab_type": "code",
        "colab": {
          "base_uri": "https://localhost:8080/",
          "height": 454
        },
        "outputId": "8c175c03-4e29-4cb6-c62f-eb7a19503bde"
      },
      "source": [
        "headline = df['headline']\n",
        "print(headline)\n",
        "head = headline[0]\n",
        "headline = headline[1:]\n",
        "print(head)\n",
        "print(headline)\n",
        "print(headline[1])"
      ],
      "execution_count": null,
      "outputs": [
        {
          "output_type": "stream",
          "text": [
            "0        former versace store clerk sues over secret 'b...\n",
            "1        the 'roseanne' revival catches up to our thorn...\n",
            "2        mom starting to fear son's web series closest ...\n",
            "3        boehner just wants wife to listen, not come up...\n",
            "4        j.k. rowling wishes snape happy birthday in th...\n",
            "                               ...                        \n",
            "26704                 american politics in moral free-fall\n",
            "26705                              america's best 20 hikes\n",
            "26706                                reparations and obama\n",
            "26707    israeli ban targeting boycott supporters raise...\n",
            "26708                    gourmet gifts for the foodie 2014\n",
            "Name: headline, Length: 26709, dtype: object\n",
            "former versace store clerk sues over secret 'black code' for minority shoppers\n",
            "1        the 'roseanne' revival catches up to our thorn...\n",
            "2        mom starting to fear son's web series closest ...\n",
            "3        boehner just wants wife to listen, not come up...\n",
            "4        j.k. rowling wishes snape happy birthday in th...\n",
            "5                              advancing the world's women\n",
            "                               ...                        \n",
            "26704                 american politics in moral free-fall\n",
            "26705                              america's best 20 hikes\n",
            "26706                                reparations and obama\n",
            "26707    israeli ban targeting boycott supporters raise...\n",
            "26708                    gourmet gifts for the foodie 2014\n",
            "Name: headline, Length: 26708, dtype: object\n",
            "the 'roseanne' revival catches up to our thorny political mood, for better and worse\n"
          ],
          "name": "stdout"
        }
      ]
    },
    {
      "cell_type": "code",
      "metadata": {
        "id": "LH-8Gx5aZcth",
        "colab_type": "code",
        "colab": {
          "base_uri": "https://localhost:8080/",
          "height": 370
        },
        "outputId": "034afe9b-b648-4d65-aab0-68b5e0705542"
      },
      "source": [
        "count = 0 \n",
        "headline = df['headline']\n",
        "new_data = []\n",
        "l = len(headline)\n",
        "for i in range(3):\n",
        "  head = headline[i]\n",
        "  print(head)\n",
        "  headline = headline[1:]\n",
        "  print(headline.head())\n",
        "  if head in headline:\n",
        "    count += 1\n",
        "    new_data.append(head)\n"
      ],
      "execution_count": null,
      "outputs": [
        {
          "output_type": "stream",
          "text": [
            "former versace store clerk sues over secret 'black code' for minority shoppers\n",
            "1    the 'roseanne' revival catches up to our thorn...\n",
            "2    mom starting to fear son's web series closest ...\n",
            "3    boehner just wants wife to listen, not come up...\n",
            "4    j.k. rowling wishes snape happy birthday in th...\n",
            "5                          advancing the world's women\n",
            "Name: headline, dtype: object\n",
            "the 'roseanne' revival catches up to our thorny political mood, for better and worse\n",
            "2    mom starting to fear son's web series closest ...\n",
            "3    boehner just wants wife to listen, not come up...\n",
            "4    j.k. rowling wishes snape happy birthday in th...\n",
            "5                          advancing the world's women\n",
            "6       the fascinating case for eating lab-grown meat\n",
            "Name: headline, dtype: object\n",
            "mom starting to fear son's web series closest thing she will have to grandchild\n",
            "3    boehner just wants wife to listen, not come up...\n",
            "4    j.k. rowling wishes snape happy birthday in th...\n",
            "5                          advancing the world's women\n",
            "6       the fascinating case for eating lab-grown meat\n",
            "7    this ceo will send your kids to school, if you...\n",
            "Name: headline, dtype: object\n"
          ],
          "name": "stdout"
        }
      ]
    },
    {
      "cell_type": "code",
      "metadata": {
        "id": "hwnknaFngZjl",
        "colab_type": "code",
        "colab": {
          "base_uri": "https://localhost:8080/",
          "height": 50
        },
        "outputId": "8f9a94ec-8359-4678-cb6d-97dd8e47ab7f"
      },
      "source": [
        "print(new_data)\n",
        "print(count)"
      ],
      "execution_count": null,
      "outputs": [
        {
          "output_type": "stream",
          "text": [
            "[]\n",
            "0\n"
          ],
          "name": "stdout"
        }
      ]
    },
    {
      "cell_type": "code",
      "metadata": {
        "id": "PjkQ_HWnZh-O",
        "colab_type": "code",
        "colab": {
          "base_uri": "https://localhost:8080/",
          "height": 297
        },
        "outputId": "5abd5a69-08dd-49e4-e2d9-42352fc30bd1"
      },
      "source": [
        "sns.set_style('dark')\n",
        "sns.countplot(df.is_sarcastic)"
      ],
      "execution_count": null,
      "outputs": [
        {
          "output_type": "execute_result",
          "data": {
            "text/plain": [
              "<matplotlib.axes._subplots.AxesSubplot at 0x7f3789baa470>"
            ]
          },
          "metadata": {
            "tags": []
          },
          "execution_count": 7
        },
        {
          "output_type": "display_data",
          "data": {
            "image/png": "[encoded data removed]",
            "text/plain": [
              "<Figure size 432x288 with 1 Axes>"
            ]
          },
          "metadata": {
            "tags": []
          }
        }
      ]
    },
    {
      "cell_type": "code",
      "metadata": {
        "id": "NCR6ZfuZbJ26",
        "colab_type": "code",
        "colab": {
          "base_uri": "https://localhost:8080/",
          "height": 806
        },
        "outputId": "77cdd982-0c09-48d9-911f-c1c5f8abc4af"
      },
      "source": [
        "import nltk\n",
        "nltk.download(\"popular\")"
      ],
      "execution_count": null,
      "outputs": [
        {
          "output_type": "stream",
          "text": [
            "[nltk_data] Downloading collection 'popular'\n",
            "[nltk_data]    | \n",
            "[nltk_data]    | Downloading package cmudict to /root/nltk_data...\n",
            "[nltk_data]    |   Unzipping corpora/cmudict.zip.\n",
            "[nltk_data]    | Downloading package gazetteers to /root/nltk_data...\n",
            "[nltk_data]    |   Unzipping corpora/gazetteers.zip.\n",
            "[nltk_data]    | Downloading package genesis to /root/nltk_data...\n",
            "[nltk_data]    |   Unzipping corpora/genesis.zip.\n",
            "[nltk_data]    | Downloading package gutenberg to /root/nltk_data...\n",
            "[nltk_data]    |   Unzipping corpora/gutenberg.zip.\n",
            "[nltk_data]    | Downloading package inaugural to /root/nltk_data...\n",
            "[nltk_data]    |   Unzipping corpora/inaugural.zip.\n",
            "[nltk_data]    | Downloading package movie_reviews to\n",
            "[nltk_data]    |     /root/nltk_data...\n",
            "[nltk_data]    |   Unzipping corpora/movie_reviews.zip.\n",
            "[nltk_data]    | Downloading package names to /root/nltk_data...\n",
            "[nltk_data]    |   Unzipping corpora/names.zip.\n",
            "[nltk_data]    | Downloading package shakespeare to /root/nltk_data...\n",
            "[nltk_data]    |   Unzipping corpora/shakespeare.zip.\n",
            "[nltk_data]    | Downloading package stopwords to /root/nltk_data...\n",
            "[nltk_data]    |   Unzipping corpora/stopwords.zip.\n",
            "[nltk_data]    | Downloading package treebank to /root/nltk_data...\n",
            "[nltk_data]    |   Unzipping corpora/treebank.zip.\n",
            "[nltk_data]    | Downloading package twitter_samples to\n",
            "[nltk_data]    |     /root/nltk_data...\n",
            "[nltk_data]    |   Unzipping corpora/twitter_samples.zip.\n",
            "[nltk_data]    | Downloading package omw to /root/nltk_data...\n",
            "[nltk_data]    |   Unzipping corpora/omw.zip.\n",
            "[nltk_data]    | Downloading package wordnet to /root/nltk_data...\n",
            "[nltk_data]    |   Unzipping corpora/wordnet.zip.\n",
            "[nltk_data]    | Downloading package wordnet_ic to /root/nltk_data...\n",
            "[nltk_data]    |   Unzipping corpora/wordnet_ic.zip.\n",
            "[nltk_data]    | Downloading package words to /root/nltk_data...\n",
            "[nltk_data]    |   Unzipping corpora/words.zip.\n",
            "[nltk_data]    | Downloading package maxent_ne_chunker to\n",
            "[nltk_data]    |     /root/nltk_data...\n",
            "[nltk_data]    |   Unzipping chunkers/maxent_ne_chunker.zip.\n",
            "[nltk_data]    | Downloading package punkt to /root/nltk_data...\n",
            "[nltk_data]    |   Unzipping tokenizers/punkt.zip.\n",
            "[nltk_data]    | Downloading package snowball_data to\n",
            "[nltk_data]    |     /root/nltk_data...\n",
            "[nltk_data]    | Downloading package averaged_perceptron_tagger to\n",
            "[nltk_data]    |     /root/nltk_data...\n",
            "[nltk_data]    |   Unzipping taggers/averaged_perceptron_tagger.zip.\n",
            "[nltk_data]    | \n",
            "[nltk_data]  Done downloading collection popular\n"
          ],
          "name": "stdout"
        },
        {
          "output_type": "execute_result",
          "data": {
            "text/plain": [
              "True"
            ]
          },
          "metadata": {
            "tags": []
          },
          "execution_count": 8
        }
      ]
    },
    {
      "cell_type": "code",
      "metadata": {
        "id": "MBU984HoaO__",
        "colab_type": "code",
        "colab": {}
      },
      "source": [
        "from nltk.tokenize import RegexpTokenizer\n",
        "from nltk.corpus import stopwords\n",
        "from nltk.stem import PorterStemmer \n",
        "\n",
        "stop_words =set(stopwords.words(\"english\"))\n",
        "stemmer = PorterStemmer()\n",
        "tokenizer = RegexpTokenizer(r'\\w+')\n",
        "\n",
        "def preprocess(text):\n",
        "  word_list = []\n",
        "  tok = tokenizer.tokenize(text)\n",
        "  for word in tok:\n",
        "    if word not in stop_words:\n",
        "      word_list.append(stemmer.stem(word))\n",
        "  return \" \".join(word_list)\n"
      ],
      "execution_count": null,
      "outputs": []
    },
    {
      "cell_type": "code",
      "metadata": {
        "id": "AE2T_DYTbdQy",
        "colab_type": "code",
        "colab": {
          "base_uri": "https://localhost:8080/",
          "height": 118
        },
        "outputId": "b16787eb-eea6-400f-c3a4-9f9cf8cb76af"
      },
      "source": [
        "x_data = df[\"headline\"].apply(preprocess)\n",
        "x_data.tail()"
      ],
      "execution_count": null,
      "outputs": [
        {
          "output_type": "execute_result",
          "data": {
            "text/plain": [
              "26704                       american polit moral free fall\n",
              "26705                                 america best 20 hike\n",
              "26706                                          repar obama\n",
              "26707    isra ban target boycott support rais alarm abroad\n",
              "26708                              gourmet gift foodi 2014\n",
              "Name: headline, dtype: object"
            ]
          },
          "metadata": {
            "tags": []
          },
          "execution_count": 10
        }
      ]
    },
    {
      "cell_type": "code",
      "metadata": {
        "id": "KkRsqLllbVyN",
        "colab_type": "code",
        "colab": {}
      },
      "source": [
        "from sklearn.model_selection import train_test_split\n",
        "X_train, X_test, y_train, y_test = train_test_split(x_data, df['is_sarcastic'].values, test_size=0.10, random_state=42)"
      ],
      "execution_count": null,
      "outputs": []
    },
    {
      "cell_type": "code",
      "metadata": {
        "id": "km3oymUsa6s5",
        "colab_type": "code",
        "colab": {}
      },
      "source": [
        "from sklearn.feature_extraction.text import TfidfVectorizer\n",
        "vectorizer = TfidfVectorizer()\n",
        "x_train_tfidf = vectorizer.fit_transform(X_train)\n",
        "x_test_tfidf = vectorizer.transform(X_test)"
      ],
      "execution_count": null,
      "outputs": []
    },
    {
      "cell_type": "code",
      "metadata": {
        "id": "1vbHtKHybSAD",
        "colab_type": "code",
        "colab": {
          "base_uri": "https://localhost:8080/",
          "height": 195
        },
        "outputId": "4536570f-c8f9-498d-845d-9ef6bdaf88aa"
      },
      "source": [
        "df_idf = pd.DataFrame(vectorizer.idf_, index=vectorizer.get_feature_names(),columns=[\"idf_weights\"])\n",
        " \n",
        "# sort ascending\n",
        "df_idf.sort_values(by=['idf_weights']).tail()"
      ],
      "execution_count": null,
      "outputs": [
        {
          "output_type": "execute_result",
          "data": {
            "text/html": [
              "<div>\n",
              "<style scoped>\n",
              "    .dataframe tbody tr th:only-of-type {\n",
              "        vertical-align: middle;\n",
              "    }\n",
              "\n",
              "    .dataframe tbody tr th {\n",
              "        vertical-align: top;\n",
              "    }\n",
              "\n",
              "    .dataframe thead th {\n",
              "        text-align: right;\n",
              "    }\n",
              "</style>\n",
              "<table border=\"1\" class=\"dataframe\">\n",
              "  <thead>\n",
              "    <tr style=\"text-align: right;\">\n",
              "      <th></th>\n",
              "      <th>idf_weights</th>\n",
              "    </tr>\n",
              "  </thead>\n",
              "  <tbody>\n",
              "    <tr>\n",
              "      <th>kasparov</th>\n",
              "      <td>10.394286</td>\n",
              "    </tr>\n",
              "    <tr>\n",
              "      <th>kassig</th>\n",
              "      <td>10.394286</td>\n",
              "    </tr>\n",
              "    <tr>\n",
              "      <th>kateb</th>\n",
              "      <td>10.394286</td>\n",
              "    </tr>\n",
              "    <tr>\n",
              "      <th>katherin</th>\n",
              "      <td>10.394286</td>\n",
              "    </tr>\n",
              "    <tr>\n",
              "      <th>ünite</th>\n",
              "      <td>10.394286</td>\n",
              "    </tr>\n",
              "  </tbody>\n",
              "</table>\n",
              "</div>"
            ],
            "text/plain": [
              "          idf_weights\n",
              "kasparov    10.394286\n",
              "kassig      10.394286\n",
              "kateb       10.394286\n",
              "katherin    10.394286\n",
              "ünite       10.394286"
            ]
          },
          "metadata": {
            "tags": []
          },
          "execution_count": 13
        }
      ]
    },
    {
      "cell_type": "code",
      "metadata": {
        "id": "VKLmCGyfbjqt",
        "colab_type": "code",
        "colab": {}
      },
      "source": [
        "from sklearn.naive_bayes import MultinomialNB, GaussianNB, BernoulliNB\n",
        "from sklearn.linear_model import LogisticRegression, SGDClassifier\n",
        "from sklearn.svm import SVC, LinearSVC, NuSVC"
      ],
      "execution_count": null,
      "outputs": []
    },
    {
      "cell_type": "code",
      "metadata": {
        "id": "hwQzYORNbmfA",
        "colab_type": "code",
        "colab": {
          "base_uri": "https://localhost:8080/",
          "height": 50
        },
        "outputId": "83fec7b7-f65e-4e21-f0db-2be6f59ebd96"
      },
      "source": [
        "BernModel = BernoulliNB()\n",
        "BernModel.fit(x_train_tfidf, y_train)\n",
        "print(f\"Training Score : {BernModel.score(x_train_tfidf, y_train)}\")\n",
        "print(f\"Test Score : {BernModel.score(x_test_tfidf, y_test)}\")"
      ],
      "execution_count": null,
      "outputs": [
        {
          "output_type": "stream",
          "text": [
            "Training Score : 0.8857226058740327\n",
            "Test Score : 0.8023212280044927\n"
          ],
          "name": "stdout"
        }
      ]
    },
    {
      "cell_type": "code",
      "metadata": {
        "id": "Zu-nnFV_bpM3",
        "colab_type": "code",
        "colab": {
          "base_uri": "https://localhost:8080/",
          "height": 185
        },
        "outputId": "c8317109-b095-4dd2-a546-b95b0ba10909"
      },
      "source": [
        "LogModel = LogisticRegression()\n",
        "LogModel.fit(x_train_tfidf,y_train)\n",
        "print(f\"Training Score : {LogModel.score(x_train_tfidf, y_train)}\")\n",
        "print(f\"Test Score : {LogModel.score(x_test_tfidf, y_test)}\")"
      ],
      "execution_count": null,
      "outputs": [
        {
          "output_type": "stream",
          "text": [
            "Training Score : 0.8715783343040187\n",
            "Test Score : 0.7877199550730064\n"
          ],
          "name": "stdout"
        },
        {
          "output_type": "stream",
          "text": [
            "/usr/local/lib/python3.6/dist-packages/sklearn/linear_model/_logistic.py:940: ConvergenceWarning: lbfgs failed to converge (status=1):\n",
            "STOP: TOTAL NO. of ITERATIONS REACHED LIMIT.\n",
            "\n",
            "Increase the number of iterations (max_iter) or scale the data as shown in:\n",
            "    https://scikit-learn.org/stable/modules/preprocessing.html\n",
            "Please also refer to the documentation for alternative solver options:\n",
            "    https://scikit-learn.org/stable/modules/linear_model.html#logistic-regression\n",
            "  extra_warning_msg=_LOGISTIC_SOLVER_CONVERGENCE_MSG)\n"
          ],
          "name": "stderr"
        }
      ]
    },
    {
      "cell_type": "code",
      "metadata": {
        "id": "gu_rJEnzbxU1",
        "colab_type": "code",
        "colab": {
          "base_uri": "https://localhost:8080/",
          "height": 118
        },
        "outputId": "272e6cb2-0a43-402d-a35d-17620c392577"
      },
      "source": [
        "df_test = pd.read_csv('/content/drive/My Drive/CS114/DataHeadline/Headlines_Data.csv')\n",
        "print(df_test.head())"
      ],
      "execution_count": null,
      "outputs": [
        {
          "output_type": "stream",
          "text": [
            "                                            Headline  label\n",
            "0  Dog Owner Not Sure How City Expects Her To Pic...      1\n",
            "1  Public Pressure Mounts For U.S. Government To ...      1\n",
            "2  Huh, Boyfriend’s Ex Just Made Interesting Hair...      1\n",
            "3  ‘It’s Perfect Outside,’ Announces Sweating Wom...      1\n",
            "4  Man Hates How Hot Dog-Eating Contests Reduce A...      1\n"
          ],
          "name": "stdout"
        }
      ]
    },
    {
      "cell_type": "code",
      "metadata": {
        "id": "5GbcYAybP-0L",
        "colab_type": "code",
        "colab": {}
      },
      "source": [
        "df_test = df_test.sample(frac=1).reset_index(drop=True)"
      ],
      "execution_count": null,
      "outputs": []
    },
    {
      "cell_type": "code",
      "metadata": {
        "id": "ed-8R_wWQY7F",
        "colab_type": "code",
        "colab": {}
      },
      "source": [
        "df_test = df_test[:2000]"
      ],
      "execution_count": null,
      "outputs": []
    },
    {
      "cell_type": "code",
      "metadata": {
        "id": "CpG7NyXhQc73",
        "colab_type": "code",
        "colab": {
          "base_uri": "https://localhost:8080/",
          "height": 34
        },
        "outputId": "f843e0cd-6e14-4342-c600-f18fe6d44caa"
      },
      "source": [
        "print(len(df_test))\n"
      ],
      "execution_count": null,
      "outputs": [
        {
          "output_type": "stream",
          "text": [
            "2000\n"
          ],
          "name": "stdout"
        }
      ]
    },
    {
      "cell_type": "code",
      "metadata": {
        "id": "gF-XDJqAY7kX",
        "colab_type": "code",
        "colab": {
          "base_uri": "https://localhost:8080/",
          "height": 50
        },
        "outputId": "ca9c7e27-fc04-4f8b-b9fd-ae161230dd1d"
      },
      "source": [
        "x1_test=df_test['Headline'].apply(preprocess)\n",
        "x1_test_tfidf = vectorizer.transform(x1_test)\n",
        "x1_test_tfidf"
      ],
      "execution_count": null,
      "outputs": [
        {
          "output_type": "execute_result",
          "data": {
            "text/plain": [
              "<2000x16540 sparse matrix of type '<class 'numpy.float64'>'\n",
              "\twith 17889 stored elements in Compressed Sparse Row format>"
            ]
          },
          "metadata": {
            "tags": []
          },
          "execution_count": 23
        }
      ]
    },
    {
      "cell_type": "code",
      "metadata": {
        "id": "zJshFs2EQzSc",
        "colab_type": "code",
        "colab": {
          "base_uri": "https://localhost:8080/",
          "height": 50
        },
        "outputId": "01e41b89-b2ad-4b6c-b43a-a61e71239e0f"
      },
      "source": [
        "print(f\"Training Score : {LogModel.score(x_train_tfidf, y_train)}\")\n",
        "print(f\"Test Score : {LogModel.score(x1_test_tfidf, df_test['label'])}\")"
      ],
      "execution_count": null,
      "outputs": [
        {
          "output_type": "stream",
          "text": [
            "Training Score : 0.8715783343040187\n",
            "Test Score : 0.7175\n"
          ],
          "name": "stdout"
        }
      ]
    },
    {
      "cell_type": "code",
      "metadata": {
        "id": "9MwrcO24Ziuc",
        "colab_type": "code",
        "colab": {}
      },
      "source": [
        "count = 0\n"
      ],
      "execution_count": null,
      "outputs": []
    }
  ]
}