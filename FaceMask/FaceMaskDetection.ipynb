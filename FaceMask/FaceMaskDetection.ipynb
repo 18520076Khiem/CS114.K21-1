{
  "nbformat": 4,
  "nbformat_minor": 0,
  "metadata": {
    "colab": {
      "name": "FaceMaskDetection.ipynb",
      "provenance": [],
      "collapsed_sections": [],
      "toc_visible": true,
      "include_colab_link": true
    },
    "kernelspec": {
      "name": "python3",
      "display_name": "Python 3"
    }
  },
  "cells": [
    {
      "cell_type": "markdown",
      "metadata": {
        "id": "view-in-github",
        "colab_type": "text"
      },
      "source": [
        "<a href=\"https://colab.research.google.com/github/Hoangthang017/CS114.K21/blob/master/FaceMask/FaceMaskDetection.ipynb\" target=\"_parent\"><img src=\"https://colab.research.google.com/assets/colab-badge.svg\" alt=\"Open In Colab\"/></a>"
      ]
    },
    {
      "cell_type": "code",
      "metadata": {
        "id": "VpXELzEVsrQr",
        "colab_type": "code",
        "colab": {
          "base_uri": "https://localhost:8080/",
          "height": 121
        },
        "outputId": "655d199e-f15b-4c22-bc51-1244cfb76527"
      },
      "source": [
        "from google.colab import drive\n",
        "drive.mount('/content/drive')"
      ],
      "execution_count": 1,
      "outputs": [
        {
          "output_type": "stream",
          "text": [
            "Go to this URL in a browser: https://accounts.google.com/o/oauth2/auth?client_id=947318989803-6bn6qk8qdgf4n4g3pfee6491hc0brc4i.apps.googleusercontent.com&redirect_uri=urn%3aietf%3awg%3aoauth%3a2.0%3aoob&response_type=code&scope=email%20https%3a%2f%2fwww.googleapis.com%2fauth%2fdocs.test%20https%3a%2f%2fwww.googleapis.com%2fauth%2fdrive%20https%3a%2f%2fwww.googleapis.com%2fauth%2fdrive.photos.readonly%20https%3a%2f%2fwww.googleapis.com%2fauth%2fpeopleapi.readonly\n",
            "\n",
            "Enter your authorization code:\n",
            "··········\n",
            "Mounted at /content/drive\n"
          ],
          "name": "stdout"
        }
      ]
    },
    {
      "cell_type": "code",
      "metadata": {
        "id": "jzD1pPEC2jm0",
        "colab_type": "code",
        "colab": {}
      },
      "source": [
        "# import các thư viện cần dùng \n",
        "\n",
        "# kỹ thuật data aug\n",
        "from tensorflow.keras.preprocessing.image import ImageDataGenerator\n",
        "\n",
        "# Sử dụng fine-turning model MobileNetV2\n",
        "from tensorflow.keras.applications import MobileNetV2\n",
        "from tensorflow.keras.layers import AveragePooling2D\n",
        "from tensorflow.keras.layers import Dropout\n",
        "from tensorflow.keras.layers import Flatten\n",
        "from tensorflow.keras.layers import Dense\n",
        "from tensorflow.keras.layers import Input\n",
        "from tensorflow.keras.models import Model\n",
        "from tensorflow.keras.optimizers import Adam\n",
        "\n",
        "\n",
        "# thư viện để pre-process data\n",
        "from tensorflow.keras.applications.mobilenet_v2 import preprocess_input\n",
        "from tensorflow.keras.preprocessing.image import img_to_array\n",
        "from tensorflow.keras.preprocessing.image import load_img\n",
        "from tensorflow.keras.utils import to_categorical\n",
        "from sklearn.preprocessing import LabelBinarizer\n",
        "\n",
        "# thư viện để chia dữ liệu\n",
        "from sklearn.model_selection import train_test_split\n",
        "\n",
        "# thư viện để đánh giá model\n",
        "from sklearn.metrics import classification_report\n",
        "\n",
        "# load data \n",
        "from imutils import paths\n",
        "import numpy as np\n",
        "import os\n"
      ],
      "execution_count": 35,
      "outputs": []
    },
    {
      "cell_type": "code",
      "metadata": {
        "id": "18zpuhkT7Sfb",
        "colab_type": "code",
        "colab": {
          "base_uri": "https://localhost:8080/",
          "height": 34
        },
        "outputId": "58a821b6-318f-4409-bc1f-3f68a0575ff8"
      },
      "source": [
        "# load dataset \n",
        "print(\"[INFO] loading images...\")\n",
        "imagePaths = list(paths.list_images('/content/drive/My Drive/CS114/FaceMask/myDataset'))\n",
        "\n",
        "# khởi tạo dữ liệu\n",
        "data = []\n",
        "\n",
        "# khởi tạo label ứng với dữ liệu\n",
        "labels = []"
      ],
      "execution_count": 11,
      "outputs": [
        {
          "output_type": "stream",
          "text": [
            "[INFO] loading images...\n"
          ],
          "name": "stdout"
        }
      ]
    },
    {
      "cell_type": "code",
      "metadata": {
        "id": "9ioKphfn7XhE",
        "colab_type": "code",
        "colab": {
          "base_uri": "https://localhost:8080/",
          "height": 70
        },
        "outputId": "d537c010-94a9-4bff-b761-bb59e3e279b2"
      },
      "source": [
        "# Vòng lặp để load dữ liệu\n",
        "\n",
        "for imagePath in imagePaths:\n",
        "\t# lấy nhãn từ đường dẫn tệp\n",
        "\tlabel = imagePath.split(os.path.sep)[-2]\n",
        "\n",
        "\t# load hình ảnh ở dạng PIL(Python Imaging Library) \n",
        "\t# Thay đổi kích thước ảnh đầu vào dạng 244 x 244 pixels\n",
        "\timage = load_img(imagePath, target_size=(224, 224))\n",
        " \n",
        "\t# chuyển đổi hình ảnh từ PIL sang dạng mảng\n",
        "\timage = img_to_array(image)\n",
        "\n",
        "\t# pre-process ảnh để đẩy vào mạng MobileNetV2\n",
        "\timage = preprocess_input(image)\n",
        " \n",
        " \t# đẩy dữ liệu vào data và label \n",
        "\tdata.append(image)\n",
        "\tlabels.append(label)\n"
      ],
      "execution_count": 12,
      "outputs": [
        {
          "output_type": "stream",
          "text": [
            "/usr/local/lib/python3.6/dist-packages/PIL/Image.py:932: UserWarning: Palette images with Transparency expressed in bytes should be converted to RGBA images\n",
            "  \"Palette images with Transparency expressed in bytes should be \"\n"
          ],
          "name": "stderr"
        }
      ]
    },
    {
      "cell_type": "code",
      "metadata": {
        "id": "T5cNkWtJYIuG",
        "colab_type": "code",
        "colab": {
          "base_uri": "https://localhost:8080/",
          "height": 34
        },
        "outputId": "3463bb5f-2561-4fa7-b593-6c6d86efdd2b"
      },
      "source": [
        "print(len(data))"
      ],
      "execution_count": 13,
      "outputs": [
        {
          "output_type": "stream",
          "text": [
            "3667\n"
          ],
          "name": "stdout"
        }
      ]
    },
    {
      "cell_type": "code",
      "metadata": {
        "id": "X3xioy7uBf8m",
        "colab_type": "code",
        "colab": {
          "base_uri": "https://localhost:8080/",
          "height": 874
        },
        "outputId": "19c6368a-3882-4ae9-d238-5b42cf08ff11"
      },
      "source": [
        "# chuyển dữ liệu từ hình ảnh và label sang dạng mảng\n",
        "data = np.array(data, dtype=\"float32\")\n",
        "labels = np.array(labels)\n",
        "print(data[0])\n",
        "print(labels)"
      ],
      "execution_count": 14,
      "outputs": [
        {
          "output_type": "stream",
          "text": [
            "[[[-0.42745095 -0.38823527 -0.23921567]\n",
            "  [-0.42745095 -0.38823527 -0.23921567]\n",
            "  [-0.42745095 -0.38823527 -0.23921567]\n",
            "  ...\n",
            "  [ 0.34901965  0.4039216   0.5294118 ]\n",
            "  [ 0.34901965  0.4039216   0.5294118 ]\n",
            "  [ 0.34901965  0.4039216   0.5294118 ]]\n",
            "\n",
            " [[-0.42745095 -0.38823527 -0.23921567]\n",
            "  [-0.42745095 -0.38823527 -0.23921567]\n",
            "  [-0.42745095 -0.38823527 -0.23921567]\n",
            "  ...\n",
            "  [ 0.34901965  0.4039216   0.5294118 ]\n",
            "  [ 0.34901965  0.4039216   0.5294118 ]\n",
            "  [ 0.34901965  0.4039216   0.5294118 ]]\n",
            "\n",
            " [[-0.41960782 -0.38039213 -0.23137254]\n",
            "  [-0.41960782 -0.38039213 -0.23137254]\n",
            "  [-0.41960782 -0.38039213 -0.23137254]\n",
            "  ...\n",
            "  [ 0.3176471   0.37254906  0.5137255 ]\n",
            "  [ 0.3176471   0.37254906  0.5137255 ]\n",
            "  [ 0.3176471   0.37254906  0.5137255 ]]\n",
            "\n",
            " ...\n",
            "\n",
            " [[-0.88235295 -0.92156863 -0.9529412 ]\n",
            "  [-0.88235295 -0.92156863 -0.9529412 ]\n",
            "  [-0.88235295 -0.92156863 -0.9529412 ]\n",
            "  ...\n",
            "  [-0.52156866 -0.6        -0.5921569 ]\n",
            "  [-0.52156866 -0.6        -0.5921569 ]\n",
            "  [-0.52156866 -0.6        -0.5921569 ]]\n",
            "\n",
            " [[-0.92156863 -0.9529412  -0.9607843 ]\n",
            "  [-0.92156863 -0.9529412  -0.9607843 ]\n",
            "  [-0.92156863 -0.9529412  -0.9607843 ]\n",
            "  ...\n",
            "  [-0.4980392  -0.5921569  -0.5921569 ]\n",
            "  [-0.4980392  -0.5921569  -0.5921569 ]\n",
            "  [-0.4980392  -0.5921569  -0.5921569 ]]\n",
            "\n",
            " [[-0.92156863 -0.9529412  -0.9607843 ]\n",
            "  [-0.92156863 -0.9529412  -0.9607843 ]\n",
            "  [-0.92156863 -0.9529412  -0.9607843 ]\n",
            "  ...\n",
            "  [-0.4980392  -0.5921569  -0.5921569 ]\n",
            "  [-0.4980392  -0.5921569  -0.5921569 ]\n",
            "  [-0.4980392  -0.5921569  -0.5921569 ]]]\n",
            "['with_mask' 'with_mask' 'with_mask' ... 'without_mask' 'without_mask'\n",
            " 'without_mask']\n"
          ],
          "name": "stdout"
        }
      ]
    },
    {
      "cell_type": "code",
      "metadata": {
        "id": "hXcWeNH9-lu5",
        "colab_type": "code",
        "colab": {}
      },
      "source": [
        "# mã hóa label từ dạng chữ thành số \n",
        "lb = LabelBinarizer()\n",
        "labels = lb.fit_transform(labels)\n",
        "labels = to_categorical(labels)"
      ],
      "execution_count": 15,
      "outputs": []
    },
    {
      "cell_type": "code",
      "metadata": {
        "id": "RbAkZYJP-n1K",
        "colab_type": "code",
        "colab": {
          "base_uri": "https://localhost:8080/",
          "height": 50
        },
        "outputId": "a98e19bc-0deb-4b40-e89b-49da481a6a80"
      },
      "source": [
        "# chia đữ liệu thành 80% để train và 20% để test\n",
        "(trainX, testX, trainY, testY) = train_test_split(data, labels, test_size=0.20, stratify=labels, random_state=42)\n",
        "print(len(trainX))\n",
        "print(trainX.shape)"
      ],
      "execution_count": 16,
      "outputs": [
        {
          "output_type": "stream",
          "text": [
            "2933\n",
            "(2933, 224, 224, 3)\n"
          ],
          "name": "stdout"
        }
      ]
    },
    {
      "cell_type": "code",
      "metadata": {
        "id": "TyyjGDLcBnPC",
        "colab_type": "code",
        "colab": {}
      },
      "source": [
        "# Sử dụng kỹ thuật Data Augmentation để tăng kích thước cho bộ train data\n",
        "# fine-turning hàm ImageDataGenerator\n",
        "aug = ImageDataGenerator(\n",
        "\trotation_range=20,\n",
        "\tzoom_range=0.15,\n",
        "\twidth_shift_range=0.2,\n",
        "\theight_shift_range=0.2,\n",
        "\tshear_range=0.15,\n",
        "\thorizontal_flip=True,)"
      ],
      "execution_count": 34,
      "outputs": []
    },
    {
      "cell_type": "markdown",
      "metadata": {
        "id": "ZIEkyCWi3Rl4",
        "colab_type": "text"
      },
      "source": [
        "# **Fine-turning model MobileNetv2 và training cho model**"
      ]
    },
    {
      "cell_type": "code",
      "metadata": {
        "id": "IzP0t5SL7o-L",
        "colab_type": "code",
        "colab": {}
      },
      "source": [
        "# các tham số để cài đặt trong model\n",
        "\n",
        "# Tốc độ học\n",
        "INIT_LR = 1e-4\n",
        "\n",
        "# số lần pre-train \n",
        "EPOCHS = 15\n",
        "\n",
        "# số lượng mẫu dữ liệu trong 1 batch \n",
        "BS = 32"
      ],
      "execution_count": 28,
      "outputs": []
    },
    {
      "cell_type": "markdown",
      "metadata": {
        "id": "AD42s7zh4APT",
        "colab_type": "text"
      },
      "source": [
        "- weights=\"imagenet\": pre-training trên ImageNet\n",
        "- include_top=False:  Bỏ đi các lớp kết nối ở đầu mạng\n",
        "- input_tensor=Input(shape=(224, 224, 3)): cho đầu vào hình ảnh của model ở dạng (224, 224, 3)"
      ]
    },
    {
      "cell_type": "code",
      "metadata": {
        "id": "QAD9d6YJBqC1",
        "colab_type": "code",
        "colab": {
          "base_uri": "https://localhost:8080/",
          "height": 87
        },
        "outputId": "b52e1a06-5ba3-4db2-e794-2d9de42872c3"
      },
      "source": [
        "# load model MobileNetV2 \n",
        "baseModel = MobileNetV2(weights=\"imagenet\", include_top=False, input_tensor=Input(shape=(224, 224, 3)))"
      ],
      "execution_count": 19,
      "outputs": [
        {
          "output_type": "stream",
          "text": [
            "WARNING:tensorflow:`input_shape` is undefined or non-square, or `rows` is not in [96, 128, 160, 192, 224]. Weights for input shape (224, 224) will be loaded as the default.\n",
            "Downloading data from https://storage.googleapis.com/tensorflow/keras-applications/mobilenet_v2/mobilenet_v2_weights_tf_dim_ordering_tf_kernels_1.0_224_no_top.h5\n",
            "9412608/9406464 [==============================] - 0s 0us/step\n"
          ],
          "name": "stdout"
        }
      ]
    },
    {
      "cell_type": "code",
      "metadata": {
        "id": "dx69uYexBs2y",
        "colab_type": "code",
        "colab": {}
      },
      "source": [
        "# fine-turning cho model\n",
        "headModel = baseModel.output\n",
        "headModel = AveragePooling2D(pool_size=(7, 7))(headModel)\n",
        "headModel = Flatten(name=\"flatten\")(headModel)\n",
        "headModel = Dense(128, activation=\"relu\")(headModel)\n",
        "headModel = Dropout(0.5)(headModel)\n",
        "headModel = Dense(2, activation=\"softmax\")(headModel)"
      ],
      "execution_count": 20,
      "outputs": []
    },
    {
      "cell_type": "code",
      "metadata": {
        "id": "qnY39U8lBvlq",
        "colab_type": "code",
        "colab": {}
      },
      "source": [
        "# đưa model đã fine-turning vào model cơ sở\n",
        "model = Model(inputs=baseModel.input, outputs=headModel)"
      ],
      "execution_count": 21,
      "outputs": []
    },
    {
      "cell_type": "code",
      "metadata": {
        "id": "42csiWgCBxNj",
        "colab_type": "code",
        "colab": {}
      },
      "source": [
        "# đóng băng tất cả các lớp trong model cơ sở để chúng không cập nhật trong quá trình train\n",
        "for layer in baseModel.layers:\n",
        "\tlayer.trainable = False"
      ],
      "execution_count": 22,
      "outputs": []
    },
    {
      "cell_type": "code",
      "metadata": {
        "id": "2p8PQgMFBy08",
        "colab_type": "code",
        "colab": {}
      },
      "source": [
        "# cấu hình model cho training\n",
        "opt = Adam(lr=INIT_LR, decay=INIT_LR / EPOCHS)\n",
        "model.compile(loss=\"binary_crossentropy\", optimizer=opt, metrics=[\"accuracy\"])"
      ],
      "execution_count": 23,
      "outputs": []
    },
    {
      "cell_type": "code",
      "metadata": {
        "id": "idBYscskB1F-",
        "colab_type": "code",
        "colab": {
          "base_uri": "https://localhost:8080/",
          "height": 538
        },
        "outputId": "a0c004ef-c274-4afd-be48-13772b77908e"
      },
      "source": [
        "# Thực hiện việc train \n",
        "print(\"[INFO] training head...\")\n",
        "H = model.fit(\n",
        "\taug.flow(trainX, trainY, batch_size=BS),\n",
        "\tsteps_per_epoch=len(trainX) // BS,\n",
        "\tvalidation_data=(testX, testY),\n",
        "\tvalidation_steps=len(testX) // BS,\n",
        "\tepochs=EPOCHS)"
      ],
      "execution_count": 29,
      "outputs": [
        {
          "output_type": "stream",
          "text": [
            "[INFO] training head...\n",
            "Epoch 1/15\n",
            "91/91 [==============================] - 143s 2s/step - loss: 0.0235 - accuracy: 0.9931 - val_loss: 0.0299 - val_accuracy: 0.9864\n",
            "Epoch 2/15\n",
            "91/91 [==============================] - 144s 2s/step - loss: 0.0176 - accuracy: 0.9938 - val_loss: 0.0286 - val_accuracy: 0.9864\n",
            "Epoch 3/15\n",
            "91/91 [==============================] - 143s 2s/step - loss: 0.0196 - accuracy: 0.9924 - val_loss: 0.0248 - val_accuracy: 0.9905\n",
            "Epoch 4/15\n",
            "91/91 [==============================] - 143s 2s/step - loss: 0.0223 - accuracy: 0.9931 - val_loss: 0.0266 - val_accuracy: 0.9891\n",
            "Epoch 5/15\n",
            "91/91 [==============================] - 144s 2s/step - loss: 0.0177 - accuracy: 0.9945 - val_loss: 0.0239 - val_accuracy: 0.9905\n",
            "Epoch 6/15\n",
            "91/91 [==============================] - 143s 2s/step - loss: 0.0198 - accuracy: 0.9931 - val_loss: 0.0285 - val_accuracy: 0.9837\n",
            "Epoch 7/15\n",
            "91/91 [==============================] - 143s 2s/step - loss: 0.0301 - accuracy: 0.9903 - val_loss: 0.0310 - val_accuracy: 0.9864\n",
            "Epoch 8/15\n",
            "91/91 [==============================] - 143s 2s/step - loss: 0.0171 - accuracy: 0.9941 - val_loss: 0.0331 - val_accuracy: 0.9850\n",
            "Epoch 9/15\n",
            "91/91 [==============================] - 144s 2s/step - loss: 0.0191 - accuracy: 0.9935 - val_loss: 0.0220 - val_accuracy: 0.9918\n",
            "Epoch 10/15\n",
            "91/91 [==============================] - 143s 2s/step - loss: 0.0198 - accuracy: 0.9924 - val_loss: 0.0337 - val_accuracy: 0.9837\n",
            "Epoch 11/15\n",
            "91/91 [==============================] - 145s 2s/step - loss: 0.0192 - accuracy: 0.9938 - val_loss: 0.0244 - val_accuracy: 0.9891\n",
            "Epoch 12/15\n",
            "91/91 [==============================] - 143s 2s/step - loss: 0.0141 - accuracy: 0.9948 - val_loss: 0.0233 - val_accuracy: 0.9891\n",
            "Epoch 13/15\n",
            "91/91 [==============================] - 143s 2s/step - loss: 0.0130 - accuracy: 0.9962 - val_loss: 0.0282 - val_accuracy: 0.9877\n",
            "Epoch 14/15\n",
            "91/91 [==============================] - 143s 2s/step - loss: 0.0143 - accuracy: 0.9969 - val_loss: 0.0191 - val_accuracy: 0.9918\n",
            "Epoch 15/15\n",
            "91/91 [==============================] - 144s 2s/step - loss: 0.0163 - accuracy: 0.9945 - val_loss: 0.0272 - val_accuracy: 0.9877\n"
          ],
          "name": "stdout"
        }
      ]
    },
    {
      "cell_type": "markdown",
      "metadata": {
        "id": "aHgz3E223f8G",
        "colab_type": "text"
      },
      "source": [
        "#**Đánh giá model**"
      ]
    },
    {
      "cell_type": "code",
      "metadata": {
        "id": "U_imnHPGB3pG",
        "colab_type": "code",
        "colab": {
          "base_uri": "https://localhost:8080/",
          "height": 34
        },
        "outputId": "831c795c-288a-4e1f-80a0-b62b284b9ae6"
      },
      "source": [
        "# tiến hành predict cho tập train\n",
        "print(\"[INFO] evaluating network...\") \n",
        "predIdxs = model.predict(testX, batch_size=BS)"
      ],
      "execution_count": 30,
      "outputs": [
        {
          "output_type": "stream",
          "text": [
            "[INFO] evaluating network...\n"
          ],
          "name": "stdout"
        }
      ]
    },
    {
      "cell_type": "code",
      "metadata": {
        "id": "5DvSZ8yPFmMs",
        "colab_type": "code",
        "colab": {}
      },
      "source": [
        "# for each image in the testing set we need to find the index of the label with corresponding largest predicted probability\n",
        "predIdxs = np.argmax(predIdxs, axis=1)"
      ],
      "execution_count": 31,
      "outputs": []
    },
    {
      "cell_type": "code",
      "metadata": {
        "id": "JgupypF7FqNP",
        "colab_type": "code",
        "colab": {
          "base_uri": "https://localhost:8080/",
          "height": 168
        },
        "outputId": "2f6aaec3-ddce-4da9-e627-1be5cc3dd867"
      },
      "source": [
        "# kết quả đánh giá\n",
        "print(classification_report(testY.argmax(axis=1), predIdxs,\n",
        "\ttarget_names=lb.classes_))"
      ],
      "execution_count": 32,
      "outputs": [
        {
          "output_type": "stream",
          "text": [
            "              precision    recall  f1-score   support\n",
            "\n",
            "   with_mask       0.98      1.00      0.99       384\n",
            "without_mask       1.00      0.97      0.99       350\n",
            "\n",
            "    accuracy                           0.99       734\n",
            "   macro avg       0.99      0.99      0.99       734\n",
            "weighted avg       0.99      0.99      0.99       734\n",
            "\n"
          ],
          "name": "stdout"
        }
      ]
    },
    {
      "cell_type": "markdown",
      "metadata": {
        "id": "2uiJDBU_y9CY",
        "colab_type": "text"
      },
      "source": [
        "##**Save model**\n"
      ]
    },
    {
      "cell_type": "code",
      "metadata": {
        "id": "P4q8qwNdvUss",
        "colab_type": "code",
        "colab": {
          "base_uri": "https://localhost:8080/",
          "height": 104
        },
        "outputId": "52fa768f-2d1a-4731-e152-e6a857ce9f2d"
      },
      "source": [
        "model.save('/content/drive/My Drive/CS114/FaceMask')"
      ],
      "execution_count": 33,
      "outputs": [
        {
          "output_type": "stream",
          "text": [
            "WARNING:tensorflow:From /usr/local/lib/python3.6/dist-packages/tensorflow/python/ops/resource_variable_ops.py:1817: calling BaseResourceVariable.__init__ (from tensorflow.python.ops.resource_variable_ops) with constraint is deprecated and will be removed in a future version.\n",
            "Instructions for updating:\n",
            "If using Keras pass *_constraint arguments to layers.\n",
            "INFO:tensorflow:Assets written to: /content/drive/My Drive/CS114/FaceMask/assets\n"
          ],
          "name": "stdout"
        }
      ]
    }
  ]
}